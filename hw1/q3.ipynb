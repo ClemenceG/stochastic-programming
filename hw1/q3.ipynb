{
  "cells": [
    {
      "cell_type": "code",
      "execution_count": null,
      "metadata": {
        "colab": {
          "base_uri": "https://localhost:8080/"
        },
        "id": "GIeFXS0F0zww",
        "outputId": "8ca10510-ba96-4cb3-fd9b-788501b44922"
      },
      "outputs": [
        {
          "name": "stdout",
          "output_type": "stream",
          "text": [
            "Installing Julia 1.8.2 on the current Colab Runtime...\n",
            "2023-10-24 13:32:24 URL:https://storage.googleapis.com/julialang2/bin/linux/x64/1.8/julia-1.8.2-linux-x86_64.tar.gz [135859273/135859273] -> \"/tmp/julia.tar.gz\" [1]\n",
            "Installing Julia package IJulia...\n",
            "Installing Julia package BenchmarkTools...\n",
            "Installing IJulia kernel...\n",
            "\u001b[36m\u001b[1m[ \u001b[22m\u001b[39m\u001b[36m\u001b[1mInfo: \u001b[22m\u001b[39mInstalling julia kernelspec in /root/.local/share/jupyter/kernels/julia-1.8\n",
            "\n",
            "Successfully installed julia version 1.8.2!\n",
            "Please reload this page (press Ctrl+R, ⌘+R, or the F5 key) then\n",
            "jump to the 'Checking the Installation' section.\n"
          ]
        },
        {
          "data": {
            "text/plain": []
          },
          "execution_count": 1,
          "metadata": {},
          "output_type": "execute_result"
        }
      ],
      "source": [
        "%%shell\n",
        "set -e\n",
        "\n",
        "#---------------------------------------------------#\n",
        "JULIA_VERSION=\"1.8.2\" # any version ≥ 0.7.0\n",
        "JULIA_PACKAGES=\"IJulia BenchmarkTools\"\n",
        "JULIA_PACKAGES_IF_GPU=\"CUDA\" # or CuArrays for older Julia versions\n",
        "JULIA_NUM_THREADS=2\n",
        "#---------------------------------------------------#\n",
        "\n",
        "if [ -z `which julia` ]; then\n",
        "  # Install Julia\n",
        "  JULIA_VER=`cut -d '.' -f -2 <<< \"$JULIA_VERSION\"`\n",
        "  echo \"Installing Julia $JULIA_VERSION on the current Colab Runtime...\"\n",
        "  BASE_URL=\"https://julialang-s3.julialang.org/bin/linux/x64\"\n",
        "  URL=\"$BASE_URL/$JULIA_VER/julia-$JULIA_VERSION-linux-x86_64.tar.gz\"\n",
        "  wget -nv $URL -O /tmp/julia.tar.gz # -nv means \"not verbose\"\n",
        "  tar -x -f /tmp/julia.tar.gz -C /usr/local --strip-components 1\n",
        "  rm /tmp/julia.tar.gz\n",
        "\n",
        "  # Install Packages\n",
        "  nvidia-smi -L &> /dev/null && export GPU=1 || export GPU=0\n",
        "  if [ $GPU -eq 1 ]; then\n",
        "    JULIA_PACKAGES=\"$JULIA_PACKAGES $JULIA_PACKAGES_IF_GPU\"\n",
        "  fi\n",
        "  for PKG in `echo $JULIA_PACKAGES`; do\n",
        "    echo \"Installing Julia package $PKG...\"\n",
        "    julia -e 'using Pkg; pkg\"add '$PKG'; precompile;\"' &> /dev/null\n",
        "  done\n",
        "\n",
        "  # Install kernel and rename it to \"julia\"\n",
        "  echo \"Installing IJulia kernel...\"\n",
        "  julia -e 'using IJulia; IJulia.installkernel(\"julia\", env=Dict(\n",
        "      \"JULIA_NUM_THREADS\"=>\"'\"$JULIA_NUM_THREADS\"'\"))'\n",
        "  KERNEL_DIR=`julia -e \"using IJulia; print(IJulia.kerneldir())\"`\n",
        "  KERNEL_NAME=`ls -d \"$KERNEL_DIR\"/julia*`\n",
        "  mv -f $KERNEL_NAME \"$KERNEL_DIR\"/julia\n",
        "\n",
        "  echo ''\n",
        "  echo \"Successfully installed `julia -v`!\"\n",
        "  echo \"Please reload this page (press Ctrl+R, ⌘+R, or the F5 key) then\"\n",
        "  echo \"jump to the 'Checking the Installation' section.\"\n",
        "fi"
      ]
    },
    {
      "cell_type": "markdown",
      "metadata": {
        "id": "-OS3Ac017T1i"
      },
      "source": [
        "## Checking the Installation\n",
        "The `versioninfo()` function should print your Julia version and some other info about the system:"
      ]
    },
    {
      "cell_type": "code",
      "execution_count": 1,
      "metadata": {
        "colab": {
          "base_uri": "https://localhost:8080/"
        },
        "id": "EEzvvzCl1i0F",
        "outputId": "d3468c88-1979-4934-a1ed-84f27a3ec1bd"
      },
      "outputs": [
        {
          "name": "stdout",
          "output_type": "stream",
          "text": [
            "Julia Version 1.8.2\n",
            "Commit 36034abf260 (2022-09-29 15:21 UTC)\n",
            "Platform Info:\n",
            "  OS: Linux (x86_64-linux-gnu)\n",
            "  CPU: 2 × Intel(R) Xeon(R) CPU @ 2.20GHz\n",
            "  WORD_SIZE: 64\n",
            "  LIBM: libopenlibm\n",
            "  LLVM: libLLVM-13.0.1 (ORCJIT, broadwell)\n",
            "  Threads: 2 on 2 virtual cores\n",
            "Environment:\n",
            "  LD_LIBRARY_PATH = /usr/local/nvidia/lib:/usr/local/nvidia/lib64\n",
            "  JULIA_NUM_THREADS = 2\n"
          ]
        }
      ],
      "source": [
        "versioninfo()"
      ]
    },
    {
      "cell_type": "markdown",
      "metadata": {
        "id": "zoPG1u7nqRTH"
      },
      "source": [
        "## Package Installation"
      ]
    },
    {
      "cell_type": "code",
      "execution_count": 12,
      "metadata": {
        "colab": {
          "base_uri": "https://localhost:8080/"
        },
        "id": "B0J3Xs-GqVRm",
        "outputId": "73865fbe-4915-4bd9-e590-333ee15da679"
      },
      "outputs": [
        {
          "name": "stderr",
          "output_type": "stream",
          "text": [
            "\u001b[32m\u001b[1m    Updating\u001b[22m\u001b[39m registry at `~/.julia/registries/General.toml`\n"
          ]
        },
        {
          "name": "stderr",
          "output_type": "stream",
          "text": [
            "\u001b[32m\u001b[1m   Resolving\u001b[22m\u001b[39m package versions...\n"
          ]
        },
        {
          "name": "stderr",
          "output_type": "stream",
          "text": [
            "\u001b[32m\u001b[1m  No Changes\u001b[22m\u001b[39m to `~/.julia/environments/v1.9/Project.toml`\n",
            "\u001b[32m\u001b[1m  No Changes\u001b[22m\u001b[39m to `~/.julia/environments/v1.9/Manifest.toml`\n"
          ]
        },
        {
          "name": "stderr",
          "output_type": "stream",
          "text": [
            "\u001b[32m\u001b[1m   Resolving\u001b[22m\u001b[39m package versions...\n"
          ]
        },
        {
          "name": "stderr",
          "output_type": "stream",
          "text": [
            "\u001b[32m\u001b[1m  No Changes\u001b[22m\u001b[39m to `~/.julia/environments/v1.9/Project.toml`\n",
            "\u001b[32m\u001b[1m  No Changes\u001b[22m\u001b[39m to `~/.julia/environments/v1.9/Manifest.toml`\n"
          ]
        },
        {
          "name": "stderr",
          "output_type": "stream",
          "text": [
            "\u001b[32m\u001b[1m   Resolving\u001b[22m\u001b[39m package versions...\n"
          ]
        },
        {
          "name": "stderr",
          "output_type": "stream",
          "text": [
            "\u001b[32m\u001b[1m    Updating\u001b[22m\u001b[39m `~/.julia/environments/v1.9/Project.toml`\n",
            "  \u001b[90m[9a3f8284] \u001b[39m\u001b[92m+ Random\u001b[39m\n",
            "\u001b[32m\u001b[1m  No Changes\u001b[22m\u001b[39m to `~/.julia/environments/v1.9/Manifest.toml`\n"
          ]
        },
        {
          "name": "stderr",
          "output_type": "stream",
          "text": [
            "\u001b[32m\u001b[1m   Resolving\u001b[22m\u001b[39m package versions...\n"
          ]
        },
        {
          "name": "stderr",
          "output_type": "stream",
          "text": [
            "\u001b[32m\u001b[1m  No Changes\u001b[22m\u001b[39m to `~/.julia/environments/v1.9/Project.toml`\n",
            "\u001b[32m\u001b[1m  No Changes\u001b[22m\u001b[39m to `~/.julia/environments/v1.9/Manifest.toml`\n"
          ]
        }
      ],
      "source": [
        "import Pkg\n",
        "Pkg.add(\"StochasticPrograms\")\n",
        "Pkg.add(\"HiGHS\")\n",
        "Pkg.add(\"Random\")\n",
        "\n",
        "Pkg.add(\"Distributions\")"
      ]
    },
    {
      "cell_type": "markdown",
      "metadata": {
        "id": "ht3P8MguqTNh"
      },
      "source": [
        "## Package Import"
      ]
    },
    {
      "cell_type": "code",
      "execution_count": 1,
      "metadata": {
        "id": "fEcQiaY8pme8"
      },
      "outputs": [],
      "source": [
        "using StochasticPrograms\n",
        "using HiGHS"
      ]
    },
    {
      "cell_type": "code",
      "execution_count": 2,
      "metadata": {
        "id": "bfqgipAFpnyd"
      },
      "outputs": [],
      "source": [
        "using Random, Distributions\n"
      ]
    },
    {
      "cell_type": "code",
      "execution_count": 3,
      "metadata": {
        "id": "7kRG6YI2ppqY"
      },
      "outputs": [],
      "source": [
        "using BenchmarkTools"
      ]
    },
    {
      "cell_type": "markdown",
      "metadata": {
        "id": "QCII-mwxrFm2"
      },
      "source": [
        "### Complete Models"
      ]
    },
    {
      "cell_type": "code",
      "execution_count": 89,
      "metadata": {
        "id": "GJd5uRPFrT0-"
      },
      "outputs": [],
      "source": [
        "procurement_c = [1.0, 10.0, 100.0] # procurement cost\n",
        "holding_c = 1.0 # holding cost\n",
        "stockout_c = [[1.5*c, 5*c, 10*c] for c in procurement_c] # stock out cost\n",
        "\n",
        "models = Vector{StochasticModel}()\n",
        "\n",
        "for c in procurement_c\n",
        "    stockout_c = [1.5*c, 5*c, 10*c]\n",
        "    for v in stockout_c\n",
        "        name = \"newsvendor_c$(c)_v$(v)\"\n",
        "\n",
        "        @stochastic_model name begin\n",
        "            @stage 1 begin\n",
        "                @parameters begin\n",
        "                    c = c\n",
        "                end\n",
        "                @decision(name, x >= 0)\n",
        "                @constraint(name, x <= 10000)\n",
        "                @objective(name, Min, x * c)\n",
        "            end\n",
        "            @stage 2 begin\n",
        "                @parameters begin\n",
        "                  h = holding_c\n",
        "                  v = v\n",
        "                end\n",
        "                @uncertain ξ\n",
        "                @recourse(name, y >= 0)\n",
        "                @recourse(name, ξ >= w >= 0)\n",
        "\n",
        "                @objective(name, Min, h * y + v*w)\n",
        "                @constraint(name, y >= x-ξ)\n",
        "                @constraint(name, w >= ξ-x)\n",
        "            end\n",
        "        end\n",
        "        push!(models, name)\n",
        "    end\n",
        "end"
      ]
    },
    {
      "cell_type": "markdown",
      "metadata": {
        "id": "Qn_yExwwqkt9"
      },
      "source": [
        "## Scenarios and Distributions"
      ]
    },
    {
      "cell_type": "code",
      "execution_count": 5,
      "metadata": {
        "colab": {
          "base_uri": "https://localhost:8080/"
        },
        "id": "HuBZHWfMqtOQ",
        "outputId": "9f12bc6c-6511-4884-bcc8-eba21843b8ef"
      },
      "outputs": [
        {
          "data": {
            "text/plain": [
              "TaskLocalRNG()"
            ]
          },
          "metadata": {},
          "output_type": "display_data"
        }
      ],
      "source": [
        "Random.seed!(42)"
      ]
    },
    {
      "cell_type": "code",
      "execution_count": 6,
      "metadata": {
        "colab": {
          "base_uri": "https://localhost:8080/"
        },
        "id": "M-AzNbxwqkaA",
        "outputId": "639858f7-789c-42cf-a201-4429c3b91fe6"
      },
      "outputs": [
        {
          "data": {
            "text/plain": [
              "generate_scenarios (generic function with 2 methods)"
            ]
          },
          "metadata": {},
          "output_type": "display_data"
        }
      ],
      "source": [
        "function generate_scenarios(distrib, max_val = 200)\n",
        "    scenarios = [@scenario ξ = n probability = cdf(distrib, n) - cdf(distrib, n-1) for n in 1:max_val]\n",
        "    return scenarios\n",
        "end"
      ]
    },
    {
      "cell_type": "code",
      "execution_count": 7,
      "metadata": {
        "colab": {
          "base_uri": "https://localhost:8080/"
        },
        "id": "0GGyn6zVqvES",
        "outputId": "b455d154-fc05-40fb-9cae-fef89e1d5d7b"
      },
      "outputs": [
        {
          "data": {
            "text/plain": [
              "7-element Vector{Distribution{Univariate, Continuous}}:\n",
              " Uniform{Float64}(a=0.0, b=200.0)\n",
              " Truncated(Exponential{Float64}(θ=100.0); lower=0.0, upper=200.0)\n",
              " Truncated(Exponential{Float64}(θ=1.0e6); lower=0.0, upper=200.0)\n",
              " Truncated(Normal{Float64}(μ=100.0, σ=10.0); lower=0.0, upper=200.0)\n",
              " Truncated(Normal{Float64}(μ=100.0, σ=50.0); lower=0.0, upper=200.0)\n",
              " Truncated(Normal{Float64}(μ=100.0, σ=100.0); lower=0.0, upper=200.0)\n",
              " Truncated(TriangularDist{Float64}(a=0.0, b=200.0, c=100.0); lower=0.0, upper=200.0)"
            ]
          },
          "metadata": {},
          "output_type": "display_data"
        }
      ],
      "source": [
        "Unif = Uniform(0, 200)\n",
        "Exp1 = truncated(Exponential(100), 0, 200)\n",
        "Exp2 = truncated(Exponential(1e6), 0, 200)\n",
        "\n",
        "N1 = truncated(Normal(100, 10), 0, 200)\n",
        "N2 = truncated(Normal(100, 50), 0, 200)\n",
        "N3 = truncated(Normal(100, 100), 0, 200)\n",
        "\n",
        "Trian = truncated(TriangularDist(0, 200, 100), 0, 200)\n",
        "distribs = [Unif, Exp1, Exp2, N1, N2, N3, Trian]\n"
      ]
    },
    {
      "cell_type": "code",
      "execution_count": 8,
      "metadata": {
        "colab": {
          "base_uri": "https://localhost:8080/"
        },
        "id": "kC7VzACeqxzB",
        "outputId": "329d1fc9-0072-4866-cbe6-22ad865ff068"
      },
      "outputs": [
        {
          "data": {
            "text/plain": [
              "7-element Vector{Vector{Scenario{NamedTuple{(:ξ,), Tuple{Int64}}}}}:\n",
              " [Scenario with probability 0.005\n",
              "  ξ: 1, Scenario with probability 0.005\n",
              "  ξ: 2, Scenario with probability 0.004999999999999999\n",
              "  ξ: 3, Scenario with probability 0.005000000000000001\n",
              "  ξ: 4, Scenario with probability 0.005000000000000001\n",
              "  ξ: 5, Scenario with probability 0.0049999999999999975\n",
              "  ξ: 6, Scenario with probability 0.0050000000000000044\n",
              "  ξ: 7, Scenario with probability 0.0049999999999999975\n",
              "  ξ: 8, Scenario with probability 0.0049999999999999975\n",
              "  ξ: 9, Scenario with probability 0.0050000000000000044\n",
              "  ξ: 10  …  Scenario with probability 0.0050000000000000044\n",
              "  ξ: 191, Scenario with probability 0.0050000000000000044\n",
              "  ξ: 192, Scenario with probability 0.0050000000000000044\n",
              "  ξ: 193, Scenario with probability 0.0050000000000000044\n",
              "  ξ: 194, Scenario with probability 0.0050000000000000044\n",
              "  ξ: 195, Scenario with probability 0.0050000000000000044\n",
              "  ξ: 196, Scenario with probability 0.0050000000000000044\n",
              "  ξ: 197, Scenario with probability 0.0050000000000000044\n",
              "  ξ: 198, Scenario with probability 0.0050000000000000044\n",
              "  ξ: 199, Scenario with probability 0.0050000000000000044\n",
              "  ξ: 200]\n",
              " [Scenario with probability 0.011507542817379443\n",
              "  ξ: 1, Scenario with probability 0.011393040853207947\n",
              "  ξ: 2, Scenario with probability 0.011279678202616005\n",
              "  ξ: 3, Scenario with probability 0.011167443529244099\n",
              "  ξ: 4, Scenario with probability 0.01105632560953134\n",
              "  ξ: 5, Scenario with probability 0.010946313331593162\n",
              "  ξ: 6, Scenario with probability 0.010837395694110144\n",
              "  ξ: 7, Scenario with probability 0.010729561805227661\n",
              "  ξ: 8, Scenario with probability 0.010622800881467082\n",
              "  ξ: 9, Scenario with probability 0.010517102246646995\n",
              "  ξ: 10  …  Scenario with probability 0.0017211672898407304\n",
              "  ξ: 191, Scenario with probability 0.0017040413891614703\n",
              "  ξ: 192, Scenario with probability 0.001687085894040985\n",
              "  ξ: 193, Scenario with probability 0.001670299108915696\n",
              "  ξ: 194, Scenario with probability 0.0016536793550935291\n",
              "  ξ: 195, Scenario with probability 0.0016372249705846054\n",
              "  ξ: 196, Scenario with probability 0.001620934309937594\n",
              "  ξ: 197, Scenario with probability 0.0016048057440717356\n",
              "  ξ: 198, Scenario with probability 0.001588837660118081\n",
              "  ξ: 199, Scenario with probability 0.0015730284612541778\n",
              "  ξ: 200]\n",
              " [Scenario with probability 0.005000497516417494\n",
              "  ξ: 1, Scenario with probability 0.005000492515922476\n",
              "  ξ: 2, Scenario with probability 0.005000487515432464\n",
              "  ξ: 3, Scenario with probability 0.005000482514947446\n",
              "  ξ: 4, Scenario with probability 0.005000477514467437\n",
              "  ξ: 5, Scenario with probability 0.0050004725139924135\n",
              "  ξ: 6, Scenario with probability 0.005000467513522407\n",
              "  ξ: 7, Scenario with probability 0.005000462513057385\n",
              "  ξ: 8, Scenario with probability 0.005000457512597381\n",
              "  ξ: 9, Scenario with probability 0.005000452512142366\n",
              "  ξ: 10  …  Scenario with probability 0.00499954751214271\n",
              "  ξ: 191, Scenario with probability 0.004999542512597488\n",
              "  ξ: 192, Scenario with probability 0.004999537513057706\n",
              "  ξ: 193, Scenario with probability 0.0049995325135225865\n",
              "  ξ: 194, Scenario with probability 0.004999527513992463\n",
              "  ξ: 195, Scenario with probability 0.004999522514467558\n",
              "  ξ: 196, Scenario with probability 0.004999517514947649\n",
              "  ξ: 197, Scenario with probability 0.004999512515432514\n",
              "  ξ: 198, Scenario with probability 0.004999507515922597\n",
              "  ξ: 199, Scenario with probability 0.004999502516417009\n",
              "  ξ: 200]\n",
              " [Scenario with probability 1.319389917077152e-23\n",
              "  ξ: 1, Scenario with probability 3.547907091883328e-23\n",
              "  ξ: 2, Scenario with probability 9.445649376725457e-23\n",
              "  ξ: 3, Scenario with probability 2.489728036916032e-22\n",
              "  ξ: 4, Scenario with probability 6.497293869636368e-22\n",
              "  ξ: 5, Scenario with probability 1.6787020638098258e-21\n",
              "  ξ: 6, Scenario with probability 4.294130669095472e-21\n",
              "  ξ: 7, Scenario with probability 1.0875203879698943e-20\n",
              "  ξ: 8, Scenario with probability 2.726842679421355e-20\n",
              "  ξ: 9, Scenario with probability 6.769292568102889e-20\n",
              "  ξ: 10  …  Scenario with probability 0.0\n",
              "  ξ: 191, Scenario with probability 0.0\n",
              "  ξ: 192, Scenario with probability 0.0\n",
              "  ξ: 193, Scenario with probability 0.0\n",
              "  ξ: 194, Scenario with probability 0.0\n",
              "  ξ: 195, Scenario with probability 0.0\n",
              "  ξ: 196, Scenario with probability 0.0\n",
              "  ξ: 197, Scenario with probability 0.0\n",
              "  ξ: 198, Scenario with probability 0.0\n",
              "  ξ: 199, Scenario with probability 0.0\n",
              "  ξ: 200]\n",
              " [Scenario with probability 0.0011541463571548797\n",
              "  ξ: 1, Scenario with probability 0.0012007659754737418\n",
              "  ξ: 2, Scenario with probability 0.001248769116582366\n",
              "  ξ: 3, Scenario with probability 0.001298171928723918\n",
              "  ξ: 4, Scenario with probability 0.0013489894899511726\n",
              "  ξ: 5, Scenario with probability 0.0014012357412037796\n",
              "  ξ: 6, Scenario with probability 0.0014549234190695546\n",
              "  ξ: 7, Scenario with probability 0.0015100639883830012\n",
              "  ξ: 8, Scenario with probability 0.0015666675748181851\n",
              "  ξ: 9, Scenario with probability 0.0016247428976422767\n",
              "  ξ: 10  …  Scenario with probability 0.0016247428976422507\n",
              "  ξ: 191, Scenario with probability 0.0015666675748182701\n",
              "  ξ: 192, Scenario with probability 0.001510063988382937\n",
              "  ξ: 193, Scenario with probability 0.0014549234190694982\n",
              "  ξ: 194, Scenario with probability 0.0014012357412038767\n",
              "  ξ: 195, Scenario with probability 0.0013489894899511023\n",
              "  ξ: 196, Scenario with probability 0.0012981719287238347\n",
              "  ξ: 197, Scenario with probability 0.0012487691165824488\n",
              "  ξ: 198, Scenario with probability 0.0012007659754738054\n",
              "  ξ: 199, Scenario with probability 0.0011541463571548283\n",
              "  ξ: 200]\n",
              " [Scenario with probability 0.0035620961028144517\n",
              "  ξ: 1, Scenario with probability 0.003597535695434846\n",
              "  ξ: 2, Scenario with probability 0.003632964567937412\n",
              "  ξ: 3, Scenario with probability 0.0036683754944998436\n",
              "  ξ: 4, Scenario with probability 0.003703761183915041\n",
              "  ξ: 5, Scenario with probability 0.003739114281885246\n",
              "  ξ: 6, Scenario with probability 0.0037744273733685725\n",
              "  ξ: 7, Scenario with probability 0.0038096929849794174\n",
              "  ξ: 8, Scenario with probability 0.0038449035874400343\n",
              "  ξ: 9, Scenario with probability 0.0038800515980848896\n",
              "  ξ: 10  …  Scenario with probability 0.0038800515980850214\n",
              "  ξ: 191, Scenario with probability 0.0038449035874400517\n",
              "  ξ: 192, Scenario with probability 0.0038096929849794625\n",
              "  ξ: 193, Scenario with probability 0.0037744273733685274\n",
              "  ξ: 194, Scenario with probability 0.003739114281885225\n",
              "  ξ: 195, Scenario with probability 0.003703761183915022\n",
              "  ξ: 196, Scenario with probability 0.0036683754944998315\n",
              "  ξ: 197, Scenario with probability 0.003632964567937491\n",
              "  ξ: 198, Scenario with probability 0.0035975356954347504\n",
              "  ξ: 199, Scenario with probability 0.0035620961028145492\n",
              "  ξ: 200]\n",
              " [Scenario with probability 5.0e-5\n",
              "  ξ: 1, Scenario with probability 0.00015000000000000001\n",
              "  ξ: 2, Scenario with probability 0.00025\n",
              "  ξ: 3, Scenario with probability 0.00035000000000000005\n",
              "  ξ: 4, Scenario with probability 0.00045\n",
              "  ξ: 5, Scenario with probability 0.0005499999999999999\n",
              "  ξ: 6, Scenario with probability 0.00065\n",
              "  ξ: 7, Scenario with probability 0.0007500000000000002\n",
              "  ξ: 8, Scenario with probability 0.0008499999999999996\n",
              "  ξ: 9, Scenario with probability 0.0009500000000000003\n",
              "  ξ: 10  …  Scenario with probability 0.0009500000000000064\n",
              "  ξ: 191, Scenario with probability 0.0008500000000000174\n",
              "  ξ: 192, Scenario with probability 0.0007500000000000284\n",
              "  ξ: 193, Scenario with probability 0.0006499999999999284\n",
              "  ξ: 194, Scenario with probability 0.0005500000000000504\n",
              "  ξ: 195, Scenario with probability 0.00044999999999995044\n",
              "  ξ: 196, Scenario with probability 0.0003500000000000725\n",
              "  ξ: 197, Scenario with probability 0.00024999999999997247\n",
              "  ξ: 198, Scenario with probability 0.00014999999999998348\n",
              "  ξ: 199, Scenario with probability 4.999999999999449e-5\n",
              "  ξ: 200]"
            ]
          },
          "metadata": {},
          "output_type": "display_data"
        }
      ],
      "source": [
        "tot_scenarios = [generate_scenarios(d) for d in distribs]"
      ]
    },
    {
      "cell_type": "code",
      "execution_count": 11,
      "metadata": {},
      "outputs": [
        {
          "data": {
            "text/plain": [
              "StochasticModel{2, Tuple{StageParameters{NamedTuple{(:c,), Tuple{Float64}}}, StageParameters{NamedTuple{(:h, :v), Tuple{Float64, Float64}}}}}"
            ]
          },
          "metadata": {},
          "output_type": "display_data"
        }
      ],
      "source": [
        "typeof(models[1])"
      ]
    },
    {
      "cell_type": "markdown",
      "metadata": {
        "id": "F7STflx2q0zU"
      },
      "source": [
        "## L-Shaped Solution"
      ]
    },
    {
      "cell_type": "code",
      "execution_count": null,
      "metadata": {
        "id": "rc8rKMs14XIx"
      },
      "outputs": [],
      "source": [
        "itl = instantiate(models[1], tot_scenarios[1], optimizer = LShaped.Optimizer)\n",
        "set_optimizer_attribute(itl, MasterOptimizer(), HiGHS.Optimizer)\n",
        "set_optimizer_attribute(itl, SubProblemOptimizer(), HiGHS.Optimizer)\n",
        "optimize!(itl)\n",
        "value(itl[1, :x])"
      ]
    },
    {
      "cell_type": "code",
      "execution_count": 90,
      "metadata": {
        "colab": {
          "base_uri": "https://localhost:8080/"
        },
        "id": "KomiRp4ZvbJI",
        "outputId": "49cbf01f-5507-4534-fd5e-87d46d98fa80"
      },
      "outputs": [],
      "source": [
        "opt_order_quantities = Array(ones(length(models),7))\n",
        "objective_vals =Array(ones(length(models),7))\n",
        "\n",
        "for i in 1:length(tot_scenarios)\n",
        "    println(\"i\\t\", i)\n",
        "    println(\"Distribution: \", distribs[i])\n",
        "    for model_idx in 1:length(models)\n",
        "\n",
        "        newsvendor = instantiate(models[model_idx], tot_scenarios[i], optimizer = HiGHS.Optimizer)\n",
        "        # newsvendor = instantiate(models[model_idx], tot_scenarios[i], optimizer = LShaped.Optimizer)\n",
        "        # set_optimizer_attribute(newsvendor, MasterOptimizer(), HiGHS.Optimizer)\n",
        "        # set_optimizer_attribute(newsvendor, SubProblemOptimizer(), HiGHS.Optimizer)\n",
        "        optimize!(newsvendor)\n",
        "        println(\"TERMINATION\", termination_status(newsvendor))\n",
        "\n",
        "        opt_order_quantities[ model_idx, i] = value(newsvendor[1,:x])\n",
        "        \n",
        "        objective_vals[model_idx, i] = objective_value(newsvendor)\n",
        "\n",
        "\n",
        "    end\n",
        "end"
      ]
    },
    {
      "cell_type": "code",
      "execution_count": 93,
      "metadata": {
        "colab": {
          "base_uri": "https://localhost:8080/"
        },
        "id": "V4mqbi4sUia8",
        "outputId": "3bd2339e-b330-4070-acab-a4dd7706cafb"
      },
      "outputs": [
        {
          "data": {
            "text/plain": [
              "9×7 Matrix{Float64}:\n",
              "   140.5      98.9488    140.496    107.496    131.554    138.279    129.418\n",
              "   233.83    196.471     233.828    122.311    198.81     224.099    191.632\n",
              "   264.13    244.909     264.13     129.559    228.896    255.599    220.096\n",
              "  1348.74    960.817    1348.7     1061.66    1259.88    1324.33    1241.48\n",
              "  1867.73   1591.9      1867.71    1154.33    1669.25    1817.52    1623.35\n",
              "  1985.15   1820.34     1985.15    1193.52    1818.81    1950.12    1762.73\n",
              " 13394.3    9558.47    13393.9    10597.4    12517.3    13150.8    12337.3\n",
              " 18113.6   15431.3     18113.4    11458.9    16304.8    17663.8    15874.4\n",
              " 19130.5   17461.1     19130.5    11818.1    17650.3    18824.9    17125.5"
            ]
          },
          "metadata": {},
          "output_type": "display_data"
        }
      ],
      "source": [
        "# opt_order_quantities\n",
        "objective_vals"
      ]
    },
    {
      "cell_type": "markdown",
      "metadata": {},
      "source": [
        "### Probability Generation"
      ]
    },
    {
      "cell_type": "code",
      "execution_count": 17,
      "metadata": {
        "colab": {
          "base_uri": "https://localhost:8080/"
        },
        "id": "zl4tVYQxVEhi",
        "outputId": "2f9c6982-5645-4e45-da0b-4315221602ae"
      },
      "outputs": [
        {
          "data": {
            "text/plain": [
              "generate_probs (generic function with 2 methods)"
            ]
          },
          "metadata": {},
          "output_type": "display_data"
        }
      ],
      "source": [
        "function generate_probs(distrib, max_val=200)\n",
        "    probability = [cdf(distrib, n) - cdf(distrib, n-1) for n in 1:max_val]\n",
        "    return probability\n",
        "end"
      ]
    },
    {
      "cell_type": "code",
      "execution_count": 18,
      "metadata": {
        "colab": {
          "base_uri": "https://localhost:8080/"
        },
        "id": "qBEqm_IwUjXR",
        "outputId": "1eb51762-5492-4c6c-c7ad-d60f9b9f8ccd"
      },
      "outputs": [
        {
          "data": {
            "text/plain": [
              "7-element Vector{Vector{Float64}}:\n",
              " [0.005, 0.005, 0.004999999999999999, 0.005000000000000001, 0.005000000000000001, 0.0049999999999999975, 0.0050000000000000044, 0.0049999999999999975, 0.0049999999999999975, 0.0050000000000000044  …  0.0050000000000000044, 0.0050000000000000044, 0.0050000000000000044, 0.0050000000000000044, 0.0050000000000000044, 0.0050000000000000044, 0.0050000000000000044, 0.0050000000000000044, 0.0050000000000000044, 0.0050000000000000044]\n",
              " [0.011507542817379443, 0.011393040853207947, 0.011279678202616005, 0.011167443529244099, 0.01105632560953134, 0.010946313331593162, 0.010837395694110144, 0.010729561805227661, 0.010622800881467082, 0.010517102246646995  …  0.0017211672898407304, 0.0017040413891614703, 0.001687085894040985, 0.001670299108915696, 0.0016536793550935291, 0.0016372249705846054, 0.001620934309937594, 0.0016048057440717356, 0.001588837660118081, 0.0015730284612541778]\n",
              " [0.005000497516417494, 0.005000492515922476, 0.005000487515432464, 0.005000482514947446, 0.005000477514467437, 0.0050004725139924135, 0.005000467513522407, 0.005000462513057385, 0.005000457512597381, 0.005000452512142366  …  0.00499954751214271, 0.004999542512597488, 0.004999537513057706, 0.0049995325135225865, 0.004999527513992463, 0.004999522514467558, 0.004999517514947649, 0.004999512515432514, 0.004999507515922597, 0.004999502516417009]\n",
              " [1.319389917077152e-23, 3.547907091883328e-23, 9.445649376725457e-23, 2.489728036916032e-22, 6.497293869636368e-22, 1.6787020638098258e-21, 4.294130669095472e-21, 1.0875203879698943e-20, 2.726842679421355e-20, 6.769292568102889e-20  …  0.0, 0.0, 0.0, 0.0, 0.0, 0.0, 0.0, 0.0, 0.0, 0.0]\n",
              " [0.0011541463571548797, 0.0012007659754737418, 0.001248769116582366, 0.001298171928723918, 0.0013489894899511726, 0.0014012357412037796, 0.0014549234190695546, 0.0015100639883830012, 0.0015666675748181851, 0.0016247428976422767  …  0.0016247428976422507, 0.0015666675748182701, 0.001510063988382937, 0.0014549234190694982, 0.0014012357412038767, 0.0013489894899511023, 0.0012981719287238347, 0.0012487691165824488, 0.0012007659754738054, 0.0011541463571548283]\n",
              " [0.0035620961028144517, 0.003597535695434846, 0.003632964567937412, 0.0036683754944998436, 0.003703761183915041, 0.003739114281885246, 0.0037744273733685725, 0.0038096929849794174, 0.0038449035874400343, 0.0038800515980848896  …  0.0038800515980850214, 0.0038449035874400517, 0.0038096929849794625, 0.0037744273733685274, 0.003739114281885225, 0.003703761183915022, 0.0036683754944998315, 0.003632964567937491, 0.0035975356954347504, 0.0035620961028145492]\n",
              " [5.0e-5, 0.00015000000000000001, 0.00025, 0.00035000000000000005, 0.00045, 0.0005499999999999999, 0.00065, 0.0007500000000000002, 0.0008499999999999996, 0.0009500000000000003  …  0.0009500000000000064, 0.0008500000000000174, 0.0007500000000000284, 0.0006499999999999284, 0.0005500000000000504, 0.00044999999999995044, 0.0003500000000000725, 0.00024999999999997247, 0.00014999999999998348, 4.999999999999449e-5]"
            ]
          },
          "metadata": {},
          "output_type": "display_data"
        }
      ],
      "source": [
        "tot_probs = [generate_probs(d) for d in distribs]"
      ]
    },
    {
      "cell_type": "markdown",
      "metadata": {},
      "source": [
        "## EGD"
      ]
    },
    {
      "cell_type": "code",
      "execution_count": 85,
      "metadata": {},
      "outputs": [
        {
          "data": {
            "text/plain": [
              "generate_models_fixed (generic function with 2 methods)"
            ]
          },
          "metadata": {},
          "output_type": "display_data"
        }
      ],
      "source": [
        "function generate_models_fixed(real_idx, opt_order_quantities)\n",
        "\n",
        "    procurement_c = [1.0, 10.0, 100.0] # procurement cost\n",
        "    holding_c = 1.0 # holding cost\n",
        "    stockout_c = [[1.5*c, 5*c, 10*c] for c in procurement_c] # stock out cost\n",
        "\n",
        "    models_fixed = Vector{Vector{StochasticModel}}()\n",
        "\n",
        "    for i in 1:length(tot_scenarios)\n",
        "        \n",
        "        model_idx = 1\n",
        "        if i == real_idx\n",
        "            continue\n",
        "        end\n",
        "        curr_models_fixed = Vector{StochasticModel}()\n",
        "\n",
        "        for c in procurement_c\n",
        "            stockout_c = [1.5*c, 5*c, 10*c]\n",
        "            for v in stockout_c\n",
        "                \n",
        "                name = \"newsvendor_c$(c)_v$(v)_d$(i)\"\n",
        "\n",
        "                @stochastic_model name begin\n",
        "                    @stage 1 begin\n",
        "                        @parameters begin\n",
        "                            c = c\n",
        "                            x = opt_order_quantities[model_idx, i]\n",
        "                        end\n",
        "                        @objective(name, Min, x * c)\n",
        "                    end\n",
        "                    @stage 2 begin\n",
        "                        @parameters begin\n",
        "                        h = holding_c\n",
        "                        v = v\n",
        "                        end\n",
        "                        @uncertain ξ\n",
        "                        @recourse(name, y >= 0)\n",
        "                        @recourse(name, ξ >= w >= 0)\n",
        "\n",
        "                        @objective(name, Min, h * y + v*w)\n",
        "                        @constraint(name, y >= x-ξ)\n",
        "                        @constraint(name, w >= ξ-x)\n",
        "                    end\n",
        "                end\n",
        "\n",
        "                \n",
        "                # models_fixed[model_idx, i] = name\n",
        "                push!(curr_models_fixed, name)\n",
        "                model_idx += 1\n",
        "            end\n",
        "        end\n",
        "        push!(models_fixed, curr_models_fixed)\n",
        "    end\n",
        "    return models_fixed\n",
        "\n",
        "end"
      ]
    },
    {
      "cell_type": "code",
      "execution_count": null,
      "metadata": {},
      "outputs": [],
      "source": [
        "# function calculate_egd(real_idx, opt_order_quantities, models, tot_scenarios, distribs)\n",
        "real_idx = 1\n",
        "    opt_order_egd = Array(ones(length(models), 6))\n",
        "    objective_egd =Array(ones(length(models), 6))\n",
        "    models_fixed = Array(ones(length(models), 6))\n",
        "\n",
        "\n",
        "    models_fixed = generate_models_fixed(real_idx, opt_order_quantities)\n",
        "   \n",
        "    for i in 1:length(models_fixed)\n",
        "        curr_distrib_models = models_fixed[i]\n",
        "        for model_idx in 1:length(curr_distrib_models)\n",
        "            newsvendor = instantiate(curr_distrib_models[model_idx], tot_scenarios[real_idx], optimizer = HiGHS.Optimizer)\n",
        "            # newsvendor = instantiate(models[model_idx], tot_scenarios[real_idx], optimizer = LShaped.Optimizer)\n",
        "            \n",
        "            println(opt_order_quantities[model_idx, i])\n",
        "            # set_start_value(dvar::DecisionVariable, scenario_index::Integer, value::Number)\n",
        "            # JuMP.fix(newsvendor[1, :x], opt_order_quantities[model_idx, i])\n",
        "            optimize!(newsvendor)\n",
        "\n",
        "            opt_order_egd[model_idx, i] = value(newsvendor[1,:x])\n",
        "            \n",
        "            objective_egd[model_idx, i] = objective_value(newsvendor)\n",
        "        end\n",
        "    end\n",
        "    # return opt_order_egd, objective_egd\n",
        "# end"
      ]
    },
    {
      "cell_type": "code",
      "execution_count": 154,
      "metadata": {
        "id": "jgRRog7HVaNV"
      },
      "outputs": [
        {
          "data": {
            "text/plain": [
              "calculate_egd (generic function with 1 method)"
            ]
          },
          "metadata": {},
          "output_type": "display_data"
        }
      ],
      "source": [
        "function calculate_egd(real_idx, opt_order_quantities, models, tot_scenarios, distribs)\n",
        "# real_idx = 2\n",
        "    opt_order_egd = Array(ones(length(models), 6))\n",
        "    objective_egd =Array(ones(length(models), 6))\n",
        "\n",
        "    for i in 1:length(tot_scenarios)\n",
        "\n",
        "        println(\"i\\t\", i)\n",
        "        println(\"Distribution: \", distribs[i])\n",
        "\n",
        "        if i == real_idx \n",
        "            println(\"Skipping \", i)\n",
        "            continue\n",
        "        end\n",
        "\n",
        "        for model_idx in 1:length(models)\n",
        "\n",
        "            # newsvendor = instantiate(models[model_idx], tot_scenarios[real_idx], optimizer = HiGHS.Optimizer)\n",
        "            newsvendor = instantiate(models[model_idx], tot_scenarios[real_idx], optimizer = LShaped.Optimizer)\n",
        "            set_optimizer_attribute(newsvendor, MasterOptimizer(), HiGHS.Optimizer)\n",
        "            set_optimizer_attribute(newsvendor, SubProblemOptimizer(), HiGHS.Optimizer)\n",
        "\n",
        "            JuMP.fix(newsvendor[1, :x], opt_order_quantities[model_idx, i])\n",
        "            optimize!(newsvendor)\n",
        "            \n",
        "            if real_idx < i\n",
        "                opt_order_egd[model_idx, i-1] = value(newsvendor[1,:x])\n",
        "                objective_egd[model_idx, i-1] = objective_value(newsvendor)\n",
        "            else\n",
        "                opt_order_egd[model_idx, i] = value(newsvendor[1,:x])\n",
        "                objective_egd[model_idx, i] = objective_value(newsvendor)\n",
        "            end\n",
        "        end\n",
        "\n",
        "    end\n",
        "    return opt_order_egd, objective_egd\n",
        "end"
      ]
    },
    {
      "cell_type": "markdown",
      "metadata": {},
      "source": [
        "## VRD"
      ]
    },
    {
      "cell_type": "code",
      "execution_count": 166,
      "metadata": {},
      "outputs": [
        {
          "data": {
            "text/plain": [
              "calculate_metrics (generic function with 2 methods)"
            ]
          },
          "metadata": {},
          "output_type": "display_data"
        }
      ],
      "source": [
        "function calculate_metrics(egd, rpr)\n",
        "    n, m = size(egd)\n",
        "\n",
        "    vrd = Array(ones(n+1,m))\n",
        "    pb = Array(ones(n+1, m))\n",
        "\n",
        "    for i = 1:n\n",
        "        for j = 1:m\n",
        "            vrd[i, j] = abs(egd[i, j] - rpr[i])\n",
        "            pb[i, j] = abs(egd[i, j] / rpr[i] -1) * 100\n",
        "        end\n",
        "    end\n",
        "\n",
        "    for j = 1:m\n",
        "        vrd[n+1, j] = mean(vrd[1:n+1, j])\n",
        "        pb[n+1, j] = mean(pb[1:n+1, j])\n",
        "    end\n",
        "\n",
        "    return vrd, pb\n",
        "end"
      ]
    },
    {
      "cell_type": "markdown",
      "metadata": {},
      "source": [
        "## Uniform Distribution Results"
      ]
    },
    {
      "cell_type": "code",
      "execution_count": 133,
      "metadata": {},
      "outputs": [],
      "source": [
        "# function generate_metrics_unit(i, opt_order_quantities, objective_vals, models, tot_scenarios, distribs, calc_vrd=false)\n",
        "i =1\n",
        "calc_vrd = true \n",
        "opt_order_egd, objective_egd = calculate_egd(i, opt_order_quantities, models, tot_scenarios, distribs)\n",
        "vrd1, pb1 = calculate_metrics(objective_egd,  objective_vals)\n",
        "\n",
        "println(\"Distribution: \", distribs[i])\n",
        "if calc_vrd\n",
        "    println(\"VRD: \", vrd1)\n",
        "end\n",
        "println(\"PB: \", pb1)"
      ]
    },
    {
      "cell_type": "code",
      "execution_count": 134,
      "metadata": {},
      "outputs": [
        {
          "data": {
            "text/plain": [
              "10×6 Matrix{Float64}:\n",
              "    2.8875  0.0             16.575     2.625   0.2625     3.45\n",
              "   34.32    2.84217e-14     12.47      2.47    0.35       3.3\n",
              "   46.535   0.0             80.595    12.285   1.035     16.02\n",
              "   38.44    4.54747e-13     43.56      7.84    1.0       11.56\n",
              "  239.725   2.27374e-13    310.66     47.785   5.145     63.745\n",
              "  238.235   0.0           1090.48    108.36    8.235    154.25\n",
              "  404.25    3.63798e-12    323.495    66.495   6.87      88.05\n",
              " 2228.41    3.63798e-12   3280.83    510.05   47.805    672.98\n",
              " 2151.08    0.0          11341.1    1137.26   70.575   1479.9\n",
              "  538.488   0.1           1650.08    189.617  14.2278   249.425"
            ]
          },
          "metadata": {},
          "output_type": "display_data"
        }
      ],
      "source": [
        "vrd1"
      ]
    },
    {
      "cell_type": "code",
      "execution_count": 135,
      "metadata": {},
      "outputs": [
        {
          "data": {
            "text/plain": [
              "10×6 Matrix{Float64}:\n",
              "  2.05516   0.0          11.7972   1.86833   0.186833   2.45552\n",
              " 14.6773    2.22045e-14   5.33293  1.05632   0.149681   1.41128\n",
              " 17.6182    0.0          30.5134   4.65112   0.391852   6.0652\n",
              "  2.85007   4.44089e-14   3.22968  0.581283  0.0741433  0.857096\n",
              " 12.8351    2.22045e-14  16.633    2.55845   0.275468   3.41297\n",
              " 12.0008    0.0          54.932    5.45852   0.414829   7.77017\n",
              "  3.01807   2.22045e-14   2.41517  0.496442  0.0512905  0.657369\n",
              " 12.3024   -2.22045e-14  18.1125   2.81584   0.263918   3.71533\n",
              " 11.2442    0.0          59.2826   5.94471   0.368913   7.73579\n",
              "  8.96014   0.1          20.3248   2.6431    0.317693   3.50807"
            ]
          },
          "metadata": {},
          "output_type": "display_data"
        }
      ],
      "source": [
        "pb1"
      ]
    },
    {
      "cell_type": "markdown",
      "metadata": {},
      "source": [
        "## Exponential 1"
      ]
    },
    {
      "cell_type": "code",
      "execution_count": 155,
      "metadata": {},
      "outputs": [
        {
          "data": {
            "text/plain": [
              "([41.0 40.0 … 47.0 64.0; 134.0 134.0 … 129.0 119.0; … ; 160.0 160.0 … 154.0 137.0; 180.0 180.0 … 175.0 156.0], [104.10335716340639 103.65015545535468 … 107.22088912722208 119.48060988944113; 225.0482703079261 225.0482703079261 … 219.7152268742256 210.51382615328447; … ; 16830.164613772195 16830.164613772195 … 16480.671401553485 15743.915860849549; 18463.50156401682 18463.50156401682 … 18161.17985902615 17496.003210291572])"
            ]
          },
          "metadata": {},
          "output_type": "display_data"
        }
      ],
      "source": [
        "i = 2\n",
        "opt_order_egd, objective_egd = calculate_egd(i, opt_order_quantities, models, tot_scenarios, distribs)"
      ]
    },
    {
      "cell_type": "code",
      "execution_count": 167,
      "metadata": {},
      "outputs": [],
      "source": [
        "vrd2, pb2 = calculate_metrics(objective_egd,  objective_vals)\n",
        "\n",
        "println(\"Distribution: \", distribs[i])\n",
        "println(\"PB: \", pb2)"
      ]
    },
    {
      "cell_type": "code",
      "execution_count": 168,
      "metadata": {},
      "outputs": [
        {
          "data": {
            "text/plain": [
              "10×6 Matrix{Float64}:\n",
              "  5.32562   0.721441   5.1121    2.72722   7.84609   6.4492\n",
              " 15.7908    5.48668   15.7908   15.9235   17.9985   17.012\n",
              " 10.4936   12.6054    10.4936    3.31059  16.5749   13.0838\n",
              "  6.75742   0.525883   6.75742   6.59757   7.92289   7.35739\n",
              "  9.17013   8.78692    9.17013   5.75643  12.9957   10.9302\n",
              "  5.03409  10.7847     5.03409  14.3571   11.0042    7.43813\n",
              "  6.93762   0.562097   6.93762   6.92376   7.87522   7.37256\n",
              "  8.27827   8.87519    8.27827   4.46451  12.2845   10.0513\n",
              "  4.74323  10.2286     4.74323  17.5537   10.3489    6.68838\n",
              "  7.35308   5.95769    7.33173   7.86143  10.5851    8.73829"
            ]
          },
          "metadata": {},
          "output_type": "display_data"
        }
      ],
      "source": [
        "pb2"
      ]
    },
    {
      "cell_type": "markdown",
      "metadata": {},
      "source": [
        "## Exponential 2 "
      ]
    },
    {
      "cell_type": "code",
      "execution_count": 169,
      "metadata": {},
      "outputs": [],
      "source": [
        "i = 3\n",
        "opt_order_egd, objective_egd = calculate_egd(i, opt_order_quantities, models, tot_scenarios, distribs)\n",
        "vrd2, pb3 = calculate_metrics(objective_egd,  objective_vals)\n",
        "\n",
        "println(\"Distribution: \", distribs[i])\n",
        "println(\"PB: \", pb3)"
      ]
    },
    {
      "cell_type": "code",
      "execution_count": 170,
      "metadata": {},
      "outputs": [],
      "source": [
        "vrd2, pb3 = calculate_metrics(objective_egd,  objective_vals)\n",
        "\n",
        "println(\"Distribution: \", distribs[i])\n",
        "println(\"PB: \", pb3)"
      ]
    },
    {
      "cell_type": "code",
      "execution_count": 171,
      "metadata": {},
      "outputs": [
        {
          "data": {
            "text/plain": [
              "10×6 Matrix{Float64}:\n",
              " 0.00292756    2.05174  11.7962   1.86607   0.184087   2.45337\n",
              " 0.000782336  14.6736    5.33037  1.05477   0.148609   1.4096\n",
              " 4.39165e-5   17.6148   30.5087   4.6496    0.391501   6.06342\n",
              " 0.00278997    2.84662   3.22782  0.578869  0.0714834  0.854767\n",
              " 0.000925799  12.8316   16.6292   2.55652   0.27425    3.41086\n",
              " 0.000377598  11.9981   54.9253   5.45671   0.414124   7.76802\n",
              " 0.0027628     3.01462   2.41319  0.494019  0.0486292  0.655\n",
              " 0.000962493  12.299    18.1085   2.81384   0.262673   3.71315\n",
              " 0.000494428  11.2415   59.2755   5.94278   0.368152   7.73361\n",
              " 0.101207      8.95717  20.3215   2.64132   0.316351   3.50618"
            ]
          },
          "metadata": {},
          "output_type": "display_data"
        }
      ],
      "source": [
        "pb3"
      ]
    },
    {
      "cell_type": "markdown",
      "metadata": {},
      "source": [
        "## Normal 1\n"
      ]
    },
    {
      "cell_type": "code",
      "execution_count": 158,
      "metadata": {},
      "outputs": [],
      "source": [
        "i = 4\n",
        "opt_order_egd, objective_egd = calculate_egd(i, opt_order_quantities, models, tot_scenarios, distribs)\n",
        "vrd2, pb4 = calculate_metrics(objective_egd,  objective_vals)\n",
        "\n",
        "println(\"Distribution: \", distribs[i])\n",
        "println(\"PB: \", pb4)"
      ]
    },
    {
      "cell_type": "code",
      "execution_count": 173,
      "metadata": {},
      "outputs": [
        {
          "data": {
            "text/plain": [
              "10×6 Matrix{Float64}:\n",
              " 0.00292756    2.05174  11.7962   1.86607   0.184087   2.45337\n",
              " 0.000782336  14.6736    5.33037  1.05477   0.148609   1.4096\n",
              " 4.39165e-5   17.6148   30.5087   4.6496    0.391501   6.06342\n",
              " 0.00278997    2.84662   3.22782  0.578869  0.0714834  0.854767\n",
              " 0.000925799  12.8316   16.6292   2.55652   0.27425    3.41086\n",
              " 0.000377598  11.9981   54.9253   5.45671   0.414124   7.76802\n",
              " 0.0027628     3.01462   2.41319  0.494019  0.0486292  0.655\n",
              " 0.000962493  12.299    18.1085   2.81384   0.262673   3.71315\n",
              " 0.000494428  11.2415   59.2755   5.94278   0.368152   7.73361\n",
              " 0.101207      8.95717  20.3215   2.64132   0.316351   3.50618"
            ]
          },
          "metadata": {},
          "output_type": "display_data"
        }
      ],
      "source": [
        "vrd2, pb4 = calculate_metrics(objective_egd,  objective_vals)\n",
        "pb4"
      ]
    },
    {
      "cell_type": "markdown",
      "metadata": {},
      "source": [
        "## Normal 2"
      ]
    },
    {
      "cell_type": "code",
      "execution_count": 159,
      "metadata": {},
      "outputs": [],
      "source": [
        "i = 5\n",
        "opt_order_egd, objective_egd = calculate_egd(i, opt_order_quantities, models, tot_scenarios, distribs)\n",
        "vrd2, pb5 = calculate_metrics(objective_egd,  objective_vals)\n",
        "\n",
        "println(\"Distribution: \", distribs[i])\n",
        "println(\"PB: \", pb5)"
      ]
    },
    {
      "cell_type": "markdown",
      "metadata": {},
      "source": [
        "## Normal 3"
      ]
    },
    {
      "cell_type": "code",
      "execution_count": 160,
      "metadata": {},
      "outputs": [],
      "source": [
        "i = 6\n",
        "opt_order_egd, objective_egd = calculate_egd(i, opt_order_quantities, models, tot_scenarios, distribs)\n"
      ]
    },
    {
      "cell_type": "code",
      "execution_count": 174,
      "metadata": {},
      "outputs": [
        {
          "data": {
            "text/plain": [
              "10×6 Matrix{Float64}:\n",
              " 0.00292756    2.05174  11.7962   1.86607   0.184087   2.45337\n",
              " 0.000782336  14.6736    5.33037  1.05477   0.148609   1.4096\n",
              " 4.39165e-5   17.6148   30.5087   4.6496    0.391501   6.06342\n",
              " 0.00278997    2.84662   3.22782  0.578869  0.0714834  0.854767\n",
              " 0.000925799  12.8316   16.6292   2.55652   0.27425    3.41086\n",
              " 0.000377598  11.9981   54.9253   5.45671   0.414124   7.76802\n",
              " 0.0027628     3.01462   2.41319  0.494019  0.0486292  0.655\n",
              " 0.000962493  12.299    18.1085   2.81384   0.262673   3.71315\n",
              " 0.000494428  11.2415   59.2755   5.94278   0.368152   7.73361\n",
              " 0.101207      8.95717  20.3215   2.64132   0.316351   3.50618"
            ]
          },
          "metadata": {},
          "output_type": "display_data"
        }
      ],
      "source": [
        "vrd2, pb6 = calculate_metrics(objective_egd,  objective_vals)\n",
        "pb6"
      ]
    },
    {
      "cell_type": "markdown",
      "metadata": {},
      "source": [
        "## Triangular"
      ]
    },
    {
      "cell_type": "code",
      "execution_count": 161,
      "metadata": {},
      "outputs": [],
      "source": [
        "i = 7\n",
        "opt_order_egd, objective_egd = calculate_egd(i, opt_order_quantities, models, tot_scenarios, distribs)"
      ]
    },
    {
      "cell_type": "code",
      "execution_count": 176,
      "metadata": {},
      "outputs": [
        {
          "data": {
            "text/plain": [
              "10×6 Matrix{Float64}:\n",
              " 0.00292756    2.05174  11.7962   1.86607   0.184087   2.45337\n",
              " 0.000782336  14.6736    5.33037  1.05477   0.148609   1.4096\n",
              " 4.39165e-5   17.6148   30.5087   4.6496    0.391501   6.06342\n",
              " 0.00278997    2.84662   3.22782  0.578869  0.0714834  0.854767\n",
              " 0.000925799  12.8316   16.6292   2.55652   0.27425    3.41086\n",
              " 0.000377598  11.9981   54.9253   5.45671   0.414124   7.76802\n",
              " 0.0027628     3.01462   2.41319  0.494019  0.0486292  0.655\n",
              " 0.000962493  12.299    18.1085   2.81384   0.262673   3.71315\n",
              " 0.000494428  11.2415   59.2755   5.94278   0.368152   7.73361\n",
              " 0.101207      8.95717  20.3215   2.64132   0.316351   3.50618"
            ]
          },
          "metadata": {},
          "output_type": "display_data"
        }
      ],
      "source": [
        "vrd2, pb7 = calculate_metrics(objective_egd,  objective_vals)\n",
        "pb7"
      ]
    }
  ],
  "metadata": {
    "colab": {
      "provenance": []
    },
    "gpuClass": "standard",
    "kernelspec": {
      "display_name": "Julia 1.9.3",
      "language": "julia",
      "name": "julia-1.9"
    },
    "language_info": {
      "file_extension": ".jl",
      "mimetype": "application/julia",
      "name": "julia",
      "version": "1.9.3"
    }
  },
  "nbformat": 4,
  "nbformat_minor": 0
}
