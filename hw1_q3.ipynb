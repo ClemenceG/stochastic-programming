{
 "cells": [
  {
   "cell_type": "markdown",
   "id": "d4a1dbd1",
   "metadata": {},
   "source": [
    "# Farmer example"
   ]
  },
  {
   "cell_type": "markdown",
   "id": "d8bc2000",
   "metadata": {},
   "source": [
    "Reference: Birge and Louveaux, \"Introduction to Stochastic Programming\", Chapter 1\n",
    "\n",
    "The implementation directly follows the documentation of StochasticPrograms.jl: https://martinbiel.github.io/StochasticPrograms.jl/stable/manual/examples/"
   ]
  },
  {
   "cell_type": "code",
   "execution_count": 31,
   "id": "87169d1f",
   "metadata": {},
   "outputs": [],
   "source": [
    "using StochasticPrograms\n",
    "using HiGHS"
   ]
  },
  {
   "cell_type": "code",
   "execution_count": 32,
   "id": "e99af961",
   "metadata": {},
   "outputs": [],
   "source": [
    "using Random, Distributions"
   ]
  },
  {
   "cell_type": "markdown",
   "id": "7c51c9f9",
   "metadata": {},
   "source": [
    "We will add some benchmark tools in order to better evaluate the efficiency of each approach."
   ]
  },
  {
   "cell_type": "code",
   "execution_count": 33,
   "id": "17559183",
   "metadata": {},
   "outputs": [],
   "source": [
    "using BenchmarkTools"
   ]
  },
  {
   "cell_type": "markdown",
   "id": "8514f731",
   "metadata": {},
   "source": [
    "### Cost Minimizing News Vendor Program\n",
    "Using StochasticPrograms.jl's syntax, we describe the two-stage linear program."
   ]
  },
  {
   "cell_type": "code",
   "execution_count": 124,
   "id": "d5e23a02",
   "metadata": {},
   "outputs": [
    {
     "data": {
      "text/plain": [
       "Two-Stage Stochastic Model\n",
       "\n",
       "minimize f₀(x) + 𝔼[f(x,ξ)]\n",
       "  x∈𝒳\n",
       "\n",
       "where\n",
       "\n",
       "f(x,ξ) = min  f(y; x, ξ)\n",
       "              y ∈ 𝒴 (x, ξ)\n"
      ]
     },
     "metadata": {},
     "output_type": "display_data"
    }
   ],
   "source": [
    "procurement_c = 1.0 # procurement cost\n",
    "holding_c = 1.0 # holding cost\n",
    "stockout_c = 1.5*procurement_c # stockout cost\n",
    "\n",
    "@stochastic_model name_model begin\n",
    "    @stage 1 begin\n",
    "        @parameters begin\n",
    "            c = procurement_c\n",
    "        end\n",
    "        @decision(name_model, 0 <= x <= 10000)\n",
    "        @objective(name_model, Min, x * c)\n",
    "    end\n",
    "    @stage 2 begin\n",
    "        @parameters begin\n",
    "            h = holding_c\n",
    "            v = stockout_c\n",
    "        end\n",
    "        @uncertain ξ\n",
    "        @recourse(name_model, x >= y >= 0)\n",
    "        @recourse(name_model, ξ >= w >= 0)\n",
    "        \n",
    "        @objective(name_model, Min, h * y + v * w)\n",
    "        @constraint(name_model, y >= x-ξ)\n",
    "        @constraint(name_model, w >= ξ-x)\n",
    "    end\n",
    "end"
   ]
  },
  {
   "cell_type": "code",
   "execution_count": 88,
   "id": "6b702c35",
   "metadata": {},
   "outputs": [],
   "source": [
    "procurement_c = [1.0, 100.0, 1000.0] # procurement cost\n",
    "holding_c = 1.0 # holding cost\n",
    "stockout_c = [[1.5*c, 5*c, 10*c] for c in procurement_c] # stock out cost\n",
    "\n",
    "x = Vector{StochasticModel}()\n",
    "\n",
    "for c in procurement_c \n",
    "    stockout_c = [1.5*c, 5*c, 10*c]\n",
    "    for v in stockout_c \n",
    "        name = \"newsvendor_c$(c)_v$(v)\"\n",
    "\n",
    "        @stochastic_model name begin\n",
    "            @stage 1 begin\n",
    "                @parameters begin\n",
    "                    c = c\n",
    "                end\n",
    "                @decision(name, 0 <= x <= 10000)\n",
    "                @objective(name, Min, x * c)\n",
    "            end\n",
    "            @stage 2 begin\n",
    "                @parameters begin\n",
    "                    h = holding_c\n",
    "                    v = v\n",
    "                end\n",
    "                @uncertain ξ\n",
    "                @recourse(name, x >= y >= 0)\n",
    "                @recourse(name, ξ >= w >= 0)\n",
    "                \n",
    "                @objective(name, Min, h * y + v * w)\n",
    "                @constraint(name, y >= x-ξ)\n",
    "                @constraint(name, w >= ξ-x)\n",
    "            end\n",
    "        end\n",
    "        push!(x, name)\n",
    "    end\n",
    "end"
   ]
  },
  {
   "cell_type": "code",
   "execution_count": 90,
   "id": "8c675e16",
   "metadata": {},
   "outputs": [
    {
     "data": {
      "text/plain": [
       "(StageParameters{NamedTuple{(:c,), Tuple{Float64}}}([:c], (c = 1.0,)), StageParameters{NamedTuple{(:h, :v), Tuple{Float64, Float64}}}([:h, :v], (h = 1.0, v = 1.5)))"
      ]
     },
     "metadata": {},
     "output_type": "display_data"
    }
   ],
   "source": [
    "x[1].parameters"
   ]
  },
  {
   "cell_type": "markdown",
   "id": "733677dd",
   "metadata": {},
   "source": [
    "Generate Scenarios"
   ]
  },
  {
   "cell_type": "code",
   "execution_count": 35,
   "id": "2bf51df1",
   "metadata": {},
   "outputs": [
    {
     "data": {
      "text/plain": [
       "generate_scenarios (generic function with 2 methods)"
      ]
     },
     "metadata": {},
     "output_type": "display_data"
    }
   ],
   "source": [
    "function generate_scenarios(distrib, max_val = 200)\n",
    "    scenarios = [@scenario ξ = n probability = cdf(distrib, n) - cdf(distrib, n-1) for n in 1:max_val]\n",
    "    return scenarios\n",
    "end"
   ]
  },
  {
   "cell_type": "code",
   "execution_count": 36,
   "id": "69f506f9",
   "metadata": {},
   "outputs": [
    {
     "data": {
      "text/plain": [
       "TaskLocalRNG()"
      ]
     },
     "metadata": {},
     "output_type": "display_data"
    }
   ],
   "source": [
    "Random.seed!(42)"
   ]
  },
  {
   "cell_type": "code",
   "execution_count": 37,
   "id": "f4a0e721",
   "metadata": {},
   "outputs": [
    {
     "data": {
      "text/plain": [
       "7-element Vector{Distribution{Univariate, Continuous}}:\n",
       " Uniform{Float64}(a=0.0, b=200.0)\n",
       " Truncated(Exponential{Float64}(θ=100.0); lower=0.0, upper=200.0)\n",
       " Truncated(Exponential{Float64}(θ=1.0e6); lower=0.0, upper=200.0)\n",
       " Truncated(Normal{Float64}(μ=100.0, σ=10.0); lower=0.0, upper=200.0)\n",
       " Truncated(Normal{Float64}(μ=100.0, σ=50.0); lower=0.0, upper=200.0)\n",
       " Truncated(Normal{Float64}(μ=100.0, σ=100.0); lower=0.0, upper=200.0)\n",
       " Truncated(TriangularDist{Float64}(a=0.0, b=200.0, c=100.0); lower=0.0, upper=200.0)"
      ]
     },
     "metadata": {},
     "output_type": "display_data"
    }
   ],
   "source": [
    "Unif = Uniform(0, 200)\n",
    "Exp1 = truncated(Exponential(100), 0, 200)\n",
    "Exp2 = truncated(Exponential(1e6), 0, 200)\n",
    "\n",
    "N1 = truncated(Normal(100, 10), 0, 200)\n",
    "N2 = truncated(Normal(100, 50), 0, 200)\n",
    "N3 = truncated(Normal(100, 100), 0, 200)\n",
    "\n",
    "Trian = truncated(TriangularDist(0, 200, 100), 0, 200)  \n",
    "distribs = [Unif, Exp1, Exp2, N1, N2, N3, Trian] \n"
   ]
  },
  {
   "cell_type": "code",
   "execution_count": 38,
   "id": "e5db1a43",
   "metadata": {},
   "outputs": [
    {
     "data": {
      "text/plain": [
       "7-element Vector{Vector{Scenario{NamedTuple{(:ξ,), Tuple{Int64}}}}}:\n",
       " [Scenario with probability 0.005\n",
       "  ξ: 1, Scenario with probability 0.005\n",
       "  ξ: 2, Scenario with probability 0.004999999999999999\n",
       "  ξ: 3, Scenario with probability 0.005000000000000001\n",
       "  ξ: 4, Scenario with probability 0.005000000000000001\n",
       "  ξ: 5, Scenario with probability 0.0049999999999999975\n",
       "  ξ: 6, Scenario with probability 0.0050000000000000044\n",
       "  ξ: 7, Scenario with probability 0.0049999999999999975\n",
       "  ξ: 8, Scenario with probability 0.0049999999999999975\n",
       "  ξ: 9, Scenario with probability 0.0050000000000000044\n",
       "  ξ: 10  …  Scenario with probability 0.0050000000000000044\n",
       "  ξ: 191, Scenario with probability 0.0050000000000000044\n",
       "  ξ: 192, Scenario with probability 0.0050000000000000044\n",
       "  ξ: 193, Scenario with probability 0.0050000000000000044\n",
       "  ξ: 194, Scenario with probability 0.0050000000000000044\n",
       "  ξ: 195, Scenario with probability 0.0050000000000000044\n",
       "  ξ: 196, Scenario with probability 0.0050000000000000044\n",
       "  ξ: 197, Scenario with probability 0.0050000000000000044\n",
       "  ξ: 198, Scenario with probability 0.0050000000000000044\n",
       "  ξ: 199, Scenario with probability 0.0050000000000000044\n",
       "  ξ: 200]\n",
       " [Scenario with probability 0.011507542817379443\n",
       "  ξ: 1, Scenario with probability 0.011393040853207947\n",
       "  ξ: 2, Scenario with probability 0.011279678202616005\n",
       "  ξ: 3, Scenario with probability 0.011167443529244099\n",
       "  ξ: 4, Scenario with probability 0.01105632560953134\n",
       "  ξ: 5, Scenario with probability 0.010946313331593162\n",
       "  ξ: 6, Scenario with probability 0.010837395694110144\n",
       "  ξ: 7, Scenario with probability 0.010729561805227661\n",
       "  ξ: 8, Scenario with probability 0.010622800881467082\n",
       "  ξ: 9, Scenario with probability 0.010517102246646995\n",
       "  ξ: 10  …  Scenario with probability 0.0017211672898407304\n",
       "  ξ: 191, Scenario with probability 0.0017040413891614703\n",
       "  ξ: 192, Scenario with probability 0.001687085894040985\n",
       "  ξ: 193, Scenario with probability 0.001670299108915696\n",
       "  ξ: 194, Scenario with probability 0.0016536793550935291\n",
       "  ξ: 195, Scenario with probability 0.0016372249705846054\n",
       "  ξ: 196, Scenario with probability 0.001620934309937594\n",
       "  ξ: 197, Scenario with probability 0.0016048057440717356\n",
       "  ξ: 198, Scenario with probability 0.001588837660118081\n",
       "  ξ: 199, Scenario with probability 0.0015730284612541778\n",
       "  ξ: 200]\n",
       " [Scenario with probability 0.005000497516417494\n",
       "  ξ: 1, Scenario with probability 0.005000492515922476\n",
       "  ξ: 2, Scenario with probability 0.005000487515432464\n",
       "  ξ: 3, Scenario with probability 0.005000482514947446\n",
       "  ξ: 4, Scenario with probability 0.005000477514467437\n",
       "  ξ: 5, Scenario with probability 0.0050004725139924135\n",
       "  ξ: 6, Scenario with probability 0.005000467513522407\n",
       "  ξ: 7, Scenario with probability 0.005000462513057385\n",
       "  ξ: 8, Scenario with probability 0.005000457512597381\n",
       "  ξ: 9, Scenario with probability 0.005000452512142366\n",
       "  ξ: 10  …  Scenario with probability 0.00499954751214271\n",
       "  ξ: 191, Scenario with probability 0.004999542512597488\n",
       "  ξ: 192, Scenario with probability 0.004999537513057706\n",
       "  ξ: 193, Scenario with probability 0.0049995325135225865\n",
       "  ξ: 194, Scenario with probability 0.004999527513992463\n",
       "  ξ: 195, Scenario with probability 0.004999522514467558\n",
       "  ξ: 196, Scenario with probability 0.004999517514947649\n",
       "  ξ: 197, Scenario with probability 0.004999512515432514\n",
       "  ξ: 198, Scenario with probability 0.004999507515922597\n",
       "  ξ: 199, Scenario with probability 0.004999502516417009\n",
       "  ξ: 200]\n",
       " [Scenario with probability 1.319389917077152e-23\n",
       "  ξ: 1, Scenario with probability 3.547907091883328e-23\n",
       "  ξ: 2, Scenario with probability 9.445649376725457e-23\n",
       "  ξ: 3, Scenario with probability 2.489728036916032e-22\n",
       "  ξ: 4, Scenario with probability 6.497293869636368e-22\n",
       "  ξ: 5, Scenario with probability 1.6787020638098258e-21\n",
       "  ξ: 6, Scenario with probability 4.294130669095472e-21\n",
       "  ξ: 7, Scenario with probability 1.0875203879698943e-20\n",
       "  ξ: 8, Scenario with probability 2.726842679421355e-20\n",
       "  ξ: 9, Scenario with probability 6.769292568102889e-20\n",
       "  ξ: 10  …  Scenario with probability 0.0\n",
       "  ξ: 191, Scenario with probability 0.0\n",
       "  ξ: 192, Scenario with probability 0.0\n",
       "  ξ: 193, Scenario with probability 0.0\n",
       "  ξ: 194, Scenario with probability 0.0\n",
       "  ξ: 195, Scenario with probability 0.0\n",
       "  ξ: 196, Scenario with probability 0.0\n",
       "  ξ: 197, Scenario with probability 0.0\n",
       "  ξ: 198, Scenario with probability 0.0\n",
       "  ξ: 199, Scenario with probability 0.0\n",
       "  ξ: 200]\n",
       " [Scenario with probability 0.0011541463571548797\n",
       "  ξ: 1, Scenario with probability 0.0012007659754737418\n",
       "  ξ: 2, Scenario with probability 0.001248769116582366\n",
       "  ξ: 3, Scenario with probability 0.001298171928723918\n",
       "  ξ: 4, Scenario with probability 0.0013489894899511726\n",
       "  ξ: 5, Scenario with probability 0.0014012357412037796\n",
       "  ξ: 6, Scenario with probability 0.0014549234190695546\n",
       "  ξ: 7, Scenario with probability 0.0015100639883830012\n",
       "  ξ: 8, Scenario with probability 0.0015666675748181851\n",
       "  ξ: 9, Scenario with probability 0.0016247428976422767\n",
       "  ξ: 10  …  Scenario with probability 0.0016247428976422507\n",
       "  ξ: 191, Scenario with probability 0.0015666675748182701\n",
       "  ξ: 192, Scenario with probability 0.001510063988382937\n",
       "  ξ: 193, Scenario with probability 0.0014549234190694982\n",
       "  ξ: 194, Scenario with probability 0.0014012357412038767\n",
       "  ξ: 195, Scenario with probability 0.0013489894899511023\n",
       "  ξ: 196, Scenario with probability 0.0012981719287238347\n",
       "  ξ: 197, Scenario with probability 0.0012487691165824488\n",
       "  ξ: 198, Scenario with probability 0.0012007659754738054\n",
       "  ξ: 199, Scenario with probability 0.0011541463571548283\n",
       "  ξ: 200]\n",
       " [Scenario with probability 0.0035620961028144517\n",
       "  ξ: 1, Scenario with probability 0.003597535695434846\n",
       "  ξ: 2, Scenario with probability 0.003632964567937412\n",
       "  ξ: 3, Scenario with probability 0.0036683754944998436\n",
       "  ξ: 4, Scenario with probability 0.003703761183915041\n",
       "  ξ: 5, Scenario with probability 0.003739114281885246\n",
       "  ξ: 6, Scenario with probability 0.0037744273733685725\n",
       "  ξ: 7, Scenario with probability 0.0038096929849794174\n",
       "  ξ: 8, Scenario with probability 0.0038449035874400343\n",
       "  ξ: 9, Scenario with probability 0.0038800515980848896\n",
       "  ξ: 10  …  Scenario with probability 0.0038800515980850214\n",
       "  ξ: 191, Scenario with probability 0.0038449035874400517\n",
       "  ξ: 192, Scenario with probability 0.0038096929849794625\n",
       "  ξ: 193, Scenario with probability 0.0037744273733685274\n",
       "  ξ: 194, Scenario with probability 0.003739114281885225\n",
       "  ξ: 195, Scenario with probability 0.003703761183915022\n",
       "  ξ: 196, Scenario with probability 0.0036683754944998315\n",
       "  ξ: 197, Scenario with probability 0.003632964567937491\n",
       "  ξ: 198, Scenario with probability 0.0035975356954347504\n",
       "  ξ: 199, Scenario with probability 0.0035620961028145492\n",
       "  ξ: 200]\n",
       " [Scenario with probability 5.0e-5\n",
       "  ξ: 1, Scenario with probability 0.00015000000000000001\n",
       "  ξ: 2, Scenario with probability 0.00025\n",
       "  ξ: 3, Scenario with probability 0.00035000000000000005\n",
       "  ξ: 4, Scenario with probability 0.00045\n",
       "  ξ: 5, Scenario with probability 0.0005499999999999999\n",
       "  ξ: 6, Scenario with probability 0.00065\n",
       "  ξ: 7, Scenario with probability 0.0007500000000000002\n",
       "  ξ: 8, Scenario with probability 0.0008499999999999996\n",
       "  ξ: 9, Scenario with probability 0.0009500000000000003\n",
       "  ξ: 10  …  Scenario with probability 0.0009500000000000064\n",
       "  ξ: 191, Scenario with probability 0.0008500000000000174\n",
       "  ξ: 192, Scenario with probability 0.0007500000000000284\n",
       "  ξ: 193, Scenario with probability 0.0006499999999999284\n",
       "  ξ: 194, Scenario with probability 0.0005500000000000504\n",
       "  ξ: 195, Scenario with probability 0.00044999999999995044\n",
       "  ξ: 196, Scenario with probability 0.0003500000000000725\n",
       "  ξ: 197, Scenario with probability 0.00024999999999997247\n",
       "  ξ: 198, Scenario with probability 0.00014999999999998348\n",
       "  ξ: 199, Scenario with probability 4.999999999999449e-5\n",
       "  ξ: 200]"
      ]
     },
     "metadata": {},
     "output_type": "display_data"
    }
   ],
   "source": [
    "tot_scenarios = [generate_scenarios(d) for d in distribs]"
   ]
  },
  {
   "cell_type": "markdown",
   "id": "e8e30a02",
   "metadata": {},
   "source": [
    "## Deterministic equivalent"
   ]
  },
  {
   "cell_type": "markdown",
   "id": "3e46c918",
   "metadata": {},
   "source": [
    "We finally pass the complete model to our solver. By default, the deterministic equivalent problem is built."
   ]
  },
  {
   "cell_type": "code",
   "execution_count": 44,
   "id": "ce6ea58d",
   "metadata": {},
   "outputs": [
    {
     "data": {
      "text/plain": [
       "Scenario with probability 0.005\n",
       "  ξ: 2"
      ]
     },
     "metadata": {},
     "output_type": "display_data"
    }
   ],
   "source": [
    "tot_scenarios[1][2]"
   ]
  },
  {
   "cell_type": "code",
   "execution_count": 70,
   "id": "4b770645",
   "metadata": {},
   "outputs": [
    {
     "name": "stdout",
     "output_type": "stream",
     "text": [
      "Distribution: Uniform{Float64}(a=0.0, b=200.0)\n",
      "Number of scenarios: 200\n"
     ]
    },
    {
     "ename": "MethodError",
     "evalue": "MethodError: no method matching +(::Probability, ::Probability)\n\nClosest candidates are:\n  +(::Any, ::Any, !Matched::Any, !Matched::Any...)\n   @ Base operators.jl:578\n  +(!Matched::Union{MathOptInterface.ScalarAffineFunction{T}, MathOptInterface.ScalarQuadraticFunction{T}}, ::T) where T\n   @ MathOptInterface ~/.julia/packages/MathOptInterface/RuRWI/src/Utilities/functions.jl:1767\n  +(!Matched::Union{AffineDecisionFunction{T}, QuadraticDecisionFunction{T}}, ::T) where T\n   @ StochasticPrograms ~/.julia/packages/StochasticPrograms/pIScW/src/types/decisions/functions/operators.jl:251\n  ...\n",
     "output_type": "error",
     "traceback": [
      "MethodError: no method matching +(::Probability, ::Probability)\n",
      "\n",
      "Closest candidates are:\n",
      "  +(::Any, ::Any, !Matched::Any, !Matched::Any...)\n",
      "   @ Base operators.jl:578\n",
      "  +(!Matched::Union{MathOptInterface.ScalarAffineFunction{T}, MathOptInterface.ScalarQuadraticFunction{T}}, ::T) where T\n",
      "   @ MathOptInterface ~/.julia/packages/MathOptInterface/RuRWI/src/Utilities/functions.jl:1767\n",
      "  +(!Matched::Union{AffineDecisionFunction{T}, QuadraticDecisionFunction{T}}, ::T) where T\n",
      "   @ StochasticPrograms ~/.julia/packages/StochasticPrograms/pIScW/src/types/decisions/functions/operators.jl:251\n",
      "  ...\n",
      "\n",
      "\n",
      "Stacktrace:\n",
      "  [1] add_sum(x::Probability, y::Probability)\n",
      "    @ Base ./reduce.jl:24\n",
      "  [2] mapreduce_impl(f::typeof(identity), op::typeof(Base.add_sum), A::Vector{Probability}, ifirst::Int64, ilast::Int64, blksize::Int64)\n",
      "    @ Base ./reduce.jl:257\n",
      "  [3] mapreduce_impl\n",
      "    @ ./reduce.jl:272 [inlined]\n",
      "  [4] _mapreduce\n",
      "    @ ./reduce.jl:442 [inlined]\n",
      "  [5] _mapreduce_dim\n",
      "    @ ./reducedim.jl:365 [inlined]\n",
      "  [6] #mapreduce#800\n",
      "    @ ./reducedim.jl:357 [inlined]\n",
      "  [7] mapreduce\n",
      "    @ ./reducedim.jl:357 [inlined]\n",
      "  [8] #_sum#810\n",
      "    @ ./reducedim.jl:999 [inlined]\n",
      "  [9] _sum\n",
      "    @ ./reducedim.jl:999 [inlined]\n",
      " [10] #_sum#809\n",
      "    @ ./reducedim.jl:998 [inlined]\n",
      " [11] _sum\n",
      "    @ ./reducedim.jl:998 [inlined]\n",
      " [12] #sum#807\n",
      "    @ ./reducedim.jl:994 [inlined]\n",
      " [13] sum(a::Vector{Probability})\n",
      "    @ Base ./reducedim.jl:994\n",
      " [14] top-level scope\n",
      "    @ ~/Documents/ift6512 - Stochastic/hw/hw1/hw1_q3.ipynb:5"
     ]
    }
   ],
   "source": [
    "for i in 1:length(tot_scenarios)\n",
    "    println(\"Distribution: \", distribs[i])\n",
    "    println(\"Number of scenarios: \", length(tot_scenarios[i]))\n",
    "    vals = [s.:probability for s in tot_scenarios[i]]\n",
    "    println(sum(vals))\n",
    "    println(\"hey\", [s for s in vals[i]])\n",
    "    # println(\"Total probability: \", sum([s.probability for s in vals[i]]))\n",
    "    println()\n",
    "end\n",
    "# farmer = instantiate(newsv_cost_model, [ξ₁,ξ₂,ξ₃], optimizer = HiGHS.Optimizer)"
   ]
  },
  {
   "cell_type": "markdown",
   "id": "f7ab9c74",
   "metadata": {},
   "source": [
    "We can check the model formulation."
   ]
  },
  {
   "cell_type": "code",
   "execution_count": 125,
   "id": "aca09c9f",
   "metadata": {},
   "outputs": [
    {
     "name": "stdout",
     "output_type": "stream",
     "text": [
      "Model\tTwo-Stage Stochastic Model\n",
      "\n",
      "minimize f₀(x) + 𝔼[f(x,ξ)]\n",
      "  x∈𝒳\n",
      "\n",
      "where\n",
      "\n",
      "f(x,ξ) = min  f(y; x, ξ)\n",
      "              y ∈ 𝒴 (x, ξ)\n",
      "\n",
      "Parameters\t(StageParameters{NamedTuple{(:c,), Tuple{Float64}}}([:c], (c = 1.0,)), StageParameters{NamedTuple{(:h, :v), Tuple{Float64, Float64}}}([:h, :v], (h = 1.0, v = 1.5)))\n",
      "StochasticModel{2, Tuple{StageParameters{NamedTuple{(:c,), Tuple{Float64}}}, StageParameters{NamedTuple{(:h, :v), Tuple{Float64, Float64}}}}}\n",
      "\n"
     ]
    },
    {
     "ename": "ErrorException",
     "evalue": "The objective function `DecisionAffExpr{Float64}[x, 100 x, 1000 x]` is not supported by JuMP.",
     "output_type": "error",
     "traceback": [
      "The objective function `DecisionAffExpr{Float64}[x, 100 x, 1000 x]` is not supported by JuMP.\n",
      "\n",
      "Stacktrace:\n",
      "  [1] error(s::String)\n",
      "    @ Base ./error.jl:35\n",
      "  [2] set_objective_function(model::Model, func::Vector{DecisionAffExpr{Float64}})\n",
      "    @ JuMP ~/.julia/packages/JuMP/60Bnj/src/objective.jl:127\n",
      "  [3] set_objective(model::Model, sense::MathOptInterface.OptimizationSense, func::Vector{DecisionAffExpr{Float64}})\n",
      "    @ JuMP ~/.julia/packages/JuMP/60Bnj/src/objective.jl:152\n",
      "  [4] macro expansion\n",
      "    @ ~/.julia/packages/JuMP/60Bnj/src/macros.jl:1288 [inlined]\n",
      "  [5] #243\n",
      "    @ ~/Documents/ift6512 - Stochastic/hw/hw1/hw1_q3.ipynb:11 [inlined]\n",
      "  [6] (::var\"#243#248\")(name_model::Model, stage::NamedTuple{(:c,), Tuple{Vector{Float64}}})\n",
      "    @ Main ./none:0\n",
      "  [7] generate_proxy!(stochasticprogram::StochasticProgram{2, Tuple{StochasticPrograms.Stage{NamedTuple{(:c,), Tuple{Vector{Float64}}}}, StochasticPrograms.Stage{NamedTuple{(:h, :v), Tuple{Float64, Vector{Vector{Float64}}}}}}, DeterministicEquivalent{2, 1, Tuple{Vector{Scenario{NamedTuple{(:ξ,), Tuple{Int64}}}}}}})\n",
      "    @ StochasticPrograms ~/.julia/packages/StochasticPrograms/pIScW/src/methods/generation.jl:106\n",
      "  [8] generate!(stochasticprogram::StochasticProgram{2, Tuple{StochasticPrograms.Stage{NamedTuple{(:c,), Tuple{Vector{Float64}}}}, StochasticPrograms.Stage{NamedTuple{(:h, :v), Tuple{Float64, Vector{Vector{Float64}}}}}}, DeterministicEquivalent{2, 1, Tuple{Vector{Scenario{NamedTuple{(:ξ,), Tuple{Int64}}}}}}})\n",
      "    @ StochasticPrograms ~/.julia/packages/StochasticPrograms/pIScW/src/methods/generation.jl:165\n",
      "  [9] instantiate(sm::StochasticModel{2, Tuple{StageParameters{NamedTuple{(:c,), Tuple{Vector{Float64}}}}, StageParameters{NamedTuple{(:h, :v), Tuple{Float64, Vector{Vector{Float64}}}}}}}, scenarios::Vector{Scenario{NamedTuple{(:ξ,), Tuple{Int64}}}}; instantiation::UnspecifiedInstantiation, optimizer::Type{HiGHS.Optimizer}, defer::Bool, direct_model::Bool, kw::Base.Pairs{Symbol, Union{}, Tuple{}, NamedTuple{(), Tuple{}}})\n",
      "    @ StochasticPrograms ~/.julia/packages/StochasticPrograms/pIScW/src/methods/api.jl:59\n",
      " [10] top-level scope\n",
      "    @ ~/Documents/ift6512 - Stochastic/hw/hw1/hw1_q3.ipynb:15"
     ]
    }
   ],
   "source": [
    "# for model in x\n",
    "    \n",
    "#         println(\"Model\\t\", model)\n",
    "model = x[2]\n",
    "println(\"Model\\t\", name)\n",
    "println(\"Parameters\\t\", name.parameters)\n",
    "println(typeof(name))\n",
    "println()\n",
    "for i in tot_scenarios[7]\n",
    "    if !(i isa Scenario)\n",
    "        println(\"hey\")\n",
    "    end\n",
    "end\n",
    "# println(\"Scenarios\\t\", typeof(tot_scenarios[7][1]))\n",
    "inst = instantiate(name_model, tot_scenarios[1], optimizer = HiGHS.Optimizer)\n",
    "\n",
    "        # for i in length(tot_scenarios)\n",
    "        #     println(\"Distribution: \", distribs[i])\n",
    "        #     println(\"i\", i)\n",
    "        #     newsvendor = instantiate(model, tot_scenarios[i], optimizer = HiGHS.Optimizer)\n",
    "            \n",
    "        \n",
    "    # end\n",
    "# end"
   ]
  },
  {
   "cell_type": "code",
   "execution_count": null,
   "id": "66eb8ca4",
   "metadata": {},
   "outputs": [],
   "source": [
    "println(farmer)"
   ]
  },
  {
   "cell_type": "markdown",
   "id": "10cbcdef",
   "metadata": {},
   "source": [
    "We can now run the optimization solver. We also print the first-stage decision as well as the optimal value."
   ]
  },
  {
   "cell_type": "markdown",
   "id": "ae371597",
   "metadata": {},
   "source": [
    "`StochasticPrograms` also allows to compute the expected value of perfect information..."
   ]
  },
  {
   "cell_type": "code",
   "execution_count": null,
   "id": "06e090e4",
   "metadata": {},
   "outputs": [],
   "source": [
    "println(\"EVPI: $(EVPI(farmer))\")"
   ]
  },
  {
   "cell_type": "markdown",
   "id": "2801588c",
   "metadata": {},
   "source": [
    "... and the value of the stochastic solution."
   ]
  },
  {
   "cell_type": "code",
   "execution_count": null,
   "id": "d0544622",
   "metadata": {},
   "outputs": [],
   "source": [
    "println(\"VSS: $(VSS(farmer))\")"
   ]
  },
  {
   "cell_type": "markdown",
   "id": "fdd9f24d",
   "metadata": {},
   "source": [
    "## L-shaped decomposition"
   ]
  },
  {
   "cell_type": "markdown",
   "id": "3fe70d66",
   "metadata": {},
   "source": [
    "Instead of the deterministic equivalent, we can use the L-shaped decomposition method."
   ]
  },
  {
   "cell_type": "markdown",
   "id": "67588800",
   "metadata": {},
   "source": [
    "### Multi-cuts"
   ]
  },
  {
   "cell_type": "markdown",
   "id": "66fb2aba",
   "metadata": {},
   "source": [
    "Let gather the scenario in one vector."
   ]
  },
  {
   "cell_type": "code",
   "execution_count": null,
   "id": "4f343287",
   "metadata": {},
   "outputs": [],
   "source": [
    "ξ = [ξ₁, ξ₂, ξ₃]"
   ]
  },
  {
   "cell_type": "markdown",
   "id": "ceddb27d",
   "metadata": {},
   "source": [
    "We instantitate the model with the L-shaped method by specifying it as the chosen optimizer. By default, the multi-cut approach is selected."
   ]
  },
  {
   "cell_type": "code",
   "execution_count": null,
   "id": "027c8d07",
   "metadata": {},
   "outputs": [],
   "source": [
    "farmer_lshaped = instantiate(farmer_model, ξ, optimizer = LShaped.Optimizer)"
   ]
  },
  {
   "cell_type": "markdown",
   "id": "e1f53646",
   "metadata": {},
   "source": [
    "The model is now explicitly a two-stage model."
   ]
  },
  {
   "cell_type": "code",
   "execution_count": null,
   "id": "04a9a6fc",
   "metadata": {},
   "outputs": [],
   "source": [
    "print(farmer_lshaped)"
   ]
  },
  {
   "cell_type": "markdown",
   "id": "be1c8549",
   "metadata": {},
   "source": [
    "We have to specify the solver for each stage. This allows to choose more adapted algorithms"
   ]
  },
  {
   "cell_type": "code",
   "execution_count": null,
   "id": "b35e9603",
   "metadata": {},
   "outputs": [],
   "source": [
    "set_optimizer_attribute(farmer_lshaped, MasterOptimizer(), HiGHS.Optimizer)\n",
    "set_optimizer_attribute(farmer_lshaped, SubProblemOptimizer(), HiGHS.Optimizer)"
   ]
  },
  {
   "cell_type": "markdown",
   "id": "11d66d72",
   "metadata": {},
   "source": [
    "We are now in position to solve the program. `StochasticPrograms` informs us on the number of iterations and generated cuts."
   ]
  },
  {
   "cell_type": "code",
   "execution_count": null,
   "id": "b1065799",
   "metadata": {},
   "outputs": [],
   "source": [
    "optimize!(farmer_lshaped)"
   ]
  },
  {
   "cell_type": "markdown",
   "id": "bc41a5b3",
   "metadata": {},
   "source": [
    "Let measure the performances."
   ]
  },
  {
   "cell_type": "code",
   "execution_count": null,
   "id": "dd98e21d",
   "metadata": {},
   "outputs": [],
   "source": [
    "@benchmark optimize!(farmer_lshaped)"
   ]
  },
  {
   "cell_type": "markdown",
   "id": "80277bd8",
   "metadata": {},
   "source": [
    "We want to compare it with the simple cut version, so we ask the program to aggregate the cuts."
   ]
  },
  {
   "cell_type": "code",
   "execution_count": null,
   "id": "d56ea016",
   "metadata": {},
   "outputs": [],
   "source": [
    "set_optimizer_attribute(farmer_lshaped, Aggregator(), Aggregate())"
   ]
  },
  {
   "cell_type": "markdown",
   "id": "6fc576cf",
   "metadata": {},
   "source": [
    "If we solve the problem, we now see that we need more iterations, while a few less cuts are generated. As expected, one cut is now produced at each iteration, except the last one, that established the convergence."
   ]
  },
  {
   "cell_type": "code",
   "execution_count": null,
   "id": "d557e29c",
   "metadata": {},
   "outputs": [],
   "source": [
    "optimize!(farmer_lshaped)"
   ]
  },
  {
   "cell_type": "markdown",
   "id": "4355c45f",
   "metadata": {},
   "source": [
    "The benchmark also exhibits that the single cut technique is significantly slower."
   ]
  },
  {
   "cell_type": "code",
   "execution_count": null,
   "id": "5520be9f",
   "metadata": {},
   "outputs": [],
   "source": [
    "@benchmark optimize!(farmer_lshaped)"
   ]
  }
 ],
 "metadata": {
  "kernelspec": {
   "display_name": "Julia 1.9.3",
   "language": "julia",
   "name": "julia-1.9"
  },
  "language_info": {
   "file_extension": ".jl",
   "mimetype": "application/julia",
   "name": "julia",
   "version": "1.9.3"
  }
 },
 "nbformat": 4,
 "nbformat_minor": 5
}
