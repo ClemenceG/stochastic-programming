{
 "cells": [
  {
   "cell_type": "markdown",
   "metadata": {},
   "source": [
    "# Chance-constrained programming: portfolio optimization example"
   ]
  },
  {
   "cell_type": "code",
   "execution_count": 18,
   "metadata": {},
   "outputs": [
    {
     "name": "stderr",
     "output_type": "stream",
     "text": [
      "\u001b[32m\u001b[1m   Resolving\u001b[22m\u001b[39m package versions...\n"
     ]
    },
    {
     "name": "stderr",
     "output_type": "stream",
     "text": [
      "\u001b[32m\u001b[1m    Updating\u001b[22m\u001b[39m `~/.julia/environments/v1.9/Project.toml`\n",
      "\u001b[32m⌃\u001b[39m \u001b[90m[2e9cd046] \u001b[39m\u001b[92m+ Gurobi v0.11.3\u001b[39m\n",
      "\u001b[32m\u001b[1m    Updating\u001b[22m\u001b[39m `~/.julia/environments/v1.9/Manifest.toml`\n",
      "\u001b[32m⌃\u001b[39m"
     ]
    },
    {
     "name": "stderr",
     "output_type": "stream",
     "text": [
      " \u001b[90m[2e9cd046] \u001b[39m\u001b[92m+ Gurobi v0.11.3\u001b[39m\n",
      "\u001b[36m\u001b[1m        Info\u001b[22m\u001b[39m Packages marked with \u001b[32m⌃\u001b[39m have new versions available and may be upgradable.\n"
     ]
    },
    {
     "name": "stderr",
     "output_type": "stream",
     "text": [
      "\u001b[32m\u001b[1m    Building\u001b[22m\u001b[39m Gurobi → `~/.julia/scratchspaces/44cfe95a-1eb2-52ea-b672-e2afdf69b78f/87c018cbd2fd33e6d2462d486abee53a27c91c91/build.log`\n"
     ]
    }
   ],
   "source": [
    "# ENV[\"GUROBI_HOME\"] = \"/Library/gurobi952/macos_universal2/\"\n",
    "# # import Pkg\n",
    "# Pkg.add(\"Gurobi\")\n",
    "# Pkg.build(\"Gurobi\")\n",
    "# Pkg.add(\"Dates\")\n",
    "# Pkg.add(\"CSV\")\n",
    "# Pkg.add(\"DataFrames\")"
   ]
  },
  {
   "cell_type": "code",
   "execution_count": 1,
   "metadata": {},
   "outputs": [],
   "source": [
    "using LinearAlgebra\n",
    "using JuMP\n",
    "using HiGHS, Gurobi\n",
    "using Distributions\n",
    "using Random\n",
    "using CSV, DataFramesMeta\n",
    "using Dates\n",
    "using Statistics\n",
    "using Plots"
   ]
  },
  {
   "cell_type": "markdown",
   "metadata": {},
   "source": [
    "## HW2"
   ]
  },
  {
   "cell_type": "markdown",
   "metadata": {},
   "source": [
    "Sample Average Approximation Method for Chance Constrained Programming : Theory and Applications”, 2009, Section 3, en s ́electionnant 10 actifs depuis la base de donn ́ees disponible sur Kaggle `a l’adresse https: //www.kaggle.com/datasets/jacksoncrow/stock-market-dataset."
   ]
  },
  {
   "cell_type": "markdown",
   "metadata": {},
   "source": [
    "Note : vous pouvez partir de https://www.kaggle.com/code/artemburenok/ stock-analysis-monte-carlo-build-portfolio pour analyser les donn ́ees."
   ]
  },
  {
   "cell_type": "markdown",
   "metadata": {},
   "source": [
    "Adapted from Stephen Boyd and Lieven Vandenberghe, \"Convex Optimization\", Cambridge University Press, 2004, Section 4.7.6, p. 187."
   ]
  },
  {
   "cell_type": "markdown",
   "metadata": {},
   "source": [
    "We consider an investiment portfolio with $n$ assets and random returns, except the last one. We assume that the $n-1$ first returns follow a multivariate distribution with known mean and covariance matrix. The last asset is a risk-free investment product, with a fixed return.\n",
    "\n",
    "The assets characteristics are detailed below."
   ]
  },
  {
   "cell_type": "code",
   "execution_count": 2,
   "metadata": {},
   "outputs": [
    {
     "data": {
      "text/plain": [
       "10"
      ]
     },
     "metadata": {},
     "output_type": "display_data"
    }
   ],
   "source": [
    "company_list = [\"CSCO\", \"UNT\", \"SBGI\", \"UFCS\", \"GFED\", \"AIRT\", \"SITC\", \"NXN\", \"TRNS\", \"NTZ\"]\n",
    "n = length(company_list)\n"
   ]
  },
  {
   "cell_type": "markdown",
   "metadata": {},
   "source": [
    "## Data Pipeline"
   ]
  },
  {
   "cell_type": "markdown",
   "metadata": {},
   "source": [
    "### Initial Preprocessing"
   ]
  },
  {
   "cell_type": "code",
   "execution_count": 96,
   "metadata": {},
   "outputs": [],
   "source": [
    "dir_path = \"../data/stocks/\"\n",
    "companies = Dict{String, DataFrame}()\n",
    "# companies = Dict{}()\n",
    "for company in company_list\n",
    "    fn = dir_path * company * \".csv\"\n",
    "    companies[company] = CSV.read(fn, DataFrame, select=[\"Date\", \"Adj Close\"])\n",
    "end"
   ]
  },
  {
   "cell_type": "code",
   "execution_count": 97,
   "metadata": {},
   "outputs": [
    {
     "name": "stdout",
     "output_type": "stream",
     "text": [
      "AIRT: 1984-04-24 to 2020-04-01\n",
      "last_start: 1984-04-24\n"
     ]
    },
    {
     "name": "stdout",
     "output_type": "stream",
     "text": [
      "first_end: 2020-04-01\n",
      "NTZ: 1993-05-13 to 2020-04-01\n",
      "last_start: 1993-05-13\n"
     ]
    },
    {
     "name": "stdout",
     "output_type": "stream",
     "text": [
      "UFCS: 1980-03-18 to 2020-04-01\n",
      "GFED: 1995-04-10 to 2020-04-01\n",
      "last_start: 1995-04-10\n",
      "TRNS: 1977-12-05 to 2020-04-01\n",
      "CSCO: 1990-02-16 to 2020-04-01\n",
      "SITC: 1993-02-02 to 2020-04-01\n",
      "NXN: 1992-06-19 to 2020-04-01\n",
      "UNT: 1979-04-06 to 2020-04-01\n",
      "SBGI: 1995-06-07 to 2020-04-01\n",
      "last_start: 1995-06-07\n"
     ]
    }
   ],
   "source": [
    "# If Initialize to same start and end date  \n",
    "first_end, last_start = DateTime(2023, 11, 14), DateTime(1900, 11, 14)\n",
    "for (company, df) in companies\n",
    "\n",
    "    start_date = minimum(df.Date)\n",
    "    end_date = maximum(df.Date)\n",
    "\n",
    "    println(\"$(company): $(start_date) to $(end_date)\")\n",
    "    if start_date > last_start\n",
    "        last_start = start_date\n",
    "        println(\"last_start: $(start_date)\")\n",
    "    end\n",
    "    if end_date < first_end\n",
    "        first_end = end_date\n",
    "        println(\"first_end: $(end_date)\")\n",
    "    end\n",
    "end\n",
    "\n",
    "for (company, df) in companies\n",
    "    df = df[df.Date .>= last_start, :]\n",
    "    df = df[df.Date .<= first_end, :]\n",
    "    if company == \"CAT\"    \n",
    "        df = deleteat!(df, findall(df.Date .== Date(2016, 01, 18))) # CAT data contains extra date\n",
    "    end\n",
    "    companies[company] = df\n",
    "end"
   ]
  },
  {
   "cell_type": "code",
   "execution_count": 98,
   "metadata": {},
   "outputs": [
    {
     "name": "stdout",
     "output_type": "stream",
     "text": [
      "AIRT: (6249, 2)\n",
      "NTZ: (6249, 2)\n",
      "UFCS: (6249, 2)\n",
      "GFED: (6249, 2)\n",
      "TRNS: (6249, 2)\n",
      "CSCO: (6249, 2)\n",
      "SITC: (6249, 2)\n",
      "NXN: (6249, 2)\n",
      "UNT: (6249, 2)\n",
      "SBGI: (6249, 2)\n"
     ]
    }
   ],
   "source": [
    "for (c, df) in companies\n",
    "    println(\"$(c): $(size(df))\")\n",
    "end"
   ]
  },
  {
   "cell_type": "code",
   "execution_count": 99,
   "metadata": {},
   "outputs": [
    {
     "name": "stdout",
     "output_type": "stream",
     "text": [
      "Set row cnt to 6249 with  AIRT\n"
     ]
    }
   ],
   "source": [
    "# Check dates alignment\n",
    "row_cnt = 0\n",
    "test_df = DataFrame()\n",
    "for (c, df) in companies\n",
    "    if row_cnt == 0 \n",
    "        println(\"Set row cnt to $(size(df)[1]) with  $(c)\")\n",
    "        row_cnt = size(df)[1]\n",
    "        test_df = df\n",
    "    elseif row_cnt != size(df)[1]\n",
    "        println(\"$(c) has $(size(df)[1]) rows\")\n",
    "        println(setdiff(Set(df[!, :Date]), Set(test_df[!, :Date])))\n",
    "    end\n",
    "end\n"
   ]
  },
  {
   "cell_type": "code",
   "execution_count": 100,
   "metadata": {},
   "outputs": [],
   "source": [
    "# Calculate returns\n",
    "for (company, df) in companies\n",
    "    df[!, :Return] = [0.0; diff(df[!, :\"Adj Close\"]) ./ df[1:end-1, :\"Adj Close\"]]\n",
    "    companies[company] = df\n",
    "end\n",
    "out_path = \"../data/clean/\"\n",
    "for (c, df) in companies\n",
    "    fn = out_path * c * \".csv\"\n",
    "    CSV.write(fn, df)\n",
    "end"
   ]
  },
  {
   "cell_type": "markdown",
   "metadata": {},
   "source": [
    "### Get the monthly return"
   ]
  },
  {
   "cell_type": "code",
   "execution_count": 3,
   "metadata": {},
   "outputs": [],
   "source": [
    "monthly_path = \"../data/clean/monthly/\"\n",
    "companies = Dict{String, DataFrame}()\n",
    "for c in company_list\n",
    "    fn = monthly_path * c * \".csv\"\n",
    "    companies[c] = CSV.read(fn, DataFrame, dateformat=\"yyyy-mm-dd\")\n",
    "end"
   ]
  },
  {
   "cell_type": "markdown",
   "metadata": {},
   "source": [
    "### Get Clean Data"
   ]
  },
  {
   "cell_type": "code",
   "execution_count": 42,
   "metadata": {},
   "outputs": [],
   "source": [
    "dir_path = \"../data/clean/\"\n",
    "companies = Dict{String, DataFrame}()\n",
    "# companies = Dict{}()\n",
    "for company in company_list\n",
    "    fn = dir_path * company * \".csv\"\n",
    "    companies[company] = CSV.read(fn, DataFrame)\n",
    "end"
   ]
  },
  {
   "cell_type": "markdown",
   "metadata": {},
   "source": [
    "## Additional Functions"
   ]
  },
  {
   "cell_type": "code",
   "execution_count": 4,
   "metadata": {},
   "outputs": [
    {
     "data": {
      "text/plain": [
       "calc_mean_cov (generic function with 1 method)"
      ]
     },
     "metadata": {},
     "output_type": "display_data"
    }
   ],
   "source": [
    "function calc_mean_cov(returns_N)\n",
    "    # Calculate mean and covariance\n",
    "\n",
    "    company_list = collect(keys(companies))\n",
    "    max_N = size(companies[company_list[1]])[1]\n",
    "\n",
    "    # if N == 0\n",
    "    #     N = max_N\n",
    "    # end\n",
    "\n",
    "    μ = zeros(length(company_list))\n",
    "    Σ = zeros(length(company_list), length(company_list))\n",
    "    \n",
    "    for (i, company) in enumerate(company_list)\n",
    "\n",
    "        μ[i] = mean(returns_N[company])\n",
    "\n",
    "        for (j, company2) in enumerate(company_list)\n",
    "            Σ[i, j] = cov(returns_N[company], returns_N[company2])\n",
    "            if abs(Σ[i, j]) > .99; println(\"$(company), $(company2)\"); end\n",
    "        end\n",
    "    end\n",
    "\n",
    "    return μ, Σ\n",
    "end"
   ]
  },
  {
   "cell_type": "code",
   "execution_count": 5,
   "metadata": {},
   "outputs": [
    {
     "data": {
      "text/plain": [
       "select_samples (generic function with 3 methods)"
      ]
     },
     "metadata": {},
     "output_type": "display_data"
    }
   ],
   "source": [
    "function select_samples(N, companies, rand_sampling=false, sel=false)\n",
    "    # Select N samples from companies\n",
    "    # Return a Dict of Vector{Float64} containing the returns\n",
    "    companies_N = Dict{String, Vector{Float64}}()\n",
    "    row_cnt = size(companies[company_list[1]])[1]\n",
    "    for (c, df) in companies\n",
    "        if rand_sampling\n",
    "            idx_N = sample(1:size(df)[1], N; replace = false, ordered = true)\n",
    "            df_N = df[!, :Return][idx_N]\n",
    "        elseif sel \n",
    "            df_N = df[!, :Return][row_cnt-(N-1):row_cnt]\n",
    "        else\n",
    "            df_N = df[!, :Return]\n",
    "        end\n",
    "        companies_N[c] = df_N\n",
    "\n",
    "    end\n",
    "    return companies_N\n",
    "end"
   ]
  },
  {
   "cell_type": "code",
   "execution_count": 6,
   "metadata": {},
   "outputs": [
    {
     "data": {
      "text/plain": [
       "expectedshortfall (generic function with 3 methods)"
      ]
     },
     "metadata": {},
     "output_type": "display_data"
    }
   ],
   "source": [
    "# Estimate the probability to have a negative return and the resulting expected shortfall.\n",
    "function expectedshortfall(p:: Vector, d:: Distribution, v::Float64 = 1, M:: Int = 1000000) # M = 1000000\n",
    "    \n",
    "    loss = 0\n",
    "    vloss = 0\n",
    "    for i = 1:M\n",
    "        ξ = rand(d)  #[rand(d); μ[n]]\n",
    "        ret = dot(p, ξ)\n",
    "        if ret < v\n",
    "            loss += 1\n",
    "            vloss += ret\n",
    "        end\n",
    "    end\n",
    "\n",
    "    return loss/M, vloss/loss\n",
    "end"
   ]
  },
  {
   "cell_type": "markdown",
   "metadata": {},
   "source": [
    "## Model 1/7\n",
    "SAA with\n",
    "- Normal\n",
    "- γ = 0\n",
    "- $\\alpha$ = .1\n",
    "- $\\beta$ = .01\n",
    "- N = [30, 40, 50, ..., 200] + 183      (Sample Sizes)"
   ]
  },
  {
   "cell_type": "markdown",
   "metadata": {},
   "source": [
    "#"
   ]
  },
  {
   "cell_type": "code",
   "execution_count": 20,
   "metadata": {},
   "outputs": [],
   "source": [
    "for (c, df) in companies\n",
    "    df[!, :Return] .- 1\n",
    "    companies[c] = df\n",
    "end"
   ]
  },
  {
   "cell_type": "code",
   "execution_count": 7,
   "metadata": {},
   "outputs": [
    {
     "data": {
      "text/html": [
       "<div class=\"data-frame\"><p>5 rows × 2 columns</p><table class=\"data-frame\"><thead><tr><th></th><th>Date</th><th>Return</th></tr><tr><th></th><th title=\"Date\">Date</th><th title=\"Float64\">Float64</th></tr></thead><tbody><tr><th>1</th><td>1995-06-30</td><td>1.00729</td></tr><tr><th>2</th><td>1995-07-31</td><td>1.00533</td></tr><tr><th>3</th><td>1995-08-31</td><td>1.00757</td></tr><tr><th>4</th><td>1995-09-30</td><td>1.00279</td></tr><tr><th>5</th><td>1995-10-31</td><td>1.00577</td></tr></tbody></table></div>"
      ],
      "text/latex": [
       "\\begin{tabular}{r|cc}\n",
       "\t& Date & Return\\\\\n",
       "\t\\hline\n",
       "\t& Date & Float64\\\\\n",
       "\t\\hline\n",
       "\t1 & 1995-06-30 & 1.00729 \\\\\n",
       "\t2 & 1995-07-31 & 1.00533 \\\\\n",
       "\t3 & 1995-08-31 & 1.00757 \\\\\n",
       "\t4 & 1995-09-30 & 1.00279 \\\\\n",
       "\t5 & 1995-10-31 & 1.00577 \\\\\n",
       "\\end{tabular}\n"
      ],
      "text/plain": [
       "\u001b[1m5×2 DataFrame\u001b[0m\n",
       "\u001b[1m Row \u001b[0m│\u001b[1m Date       \u001b[0m\u001b[1m Return  \u001b[0m\n",
       "\u001b[1m     \u001b[0m│\u001b[90m Date       \u001b[0m\u001b[90m Float64 \u001b[0m\n",
       "─────┼─────────────────────\n",
       "   1 │ 1995-06-30  1.00729\n",
       "   2 │ 1995-07-31  1.00533\n",
       "   3 │ 1995-08-31  1.00757\n",
       "   4 │ 1995-09-30  1.00279\n",
       "   5 │ 1995-10-31  1.00577"
      ]
     },
     "metadata": {},
     "output_type": "display_data"
    }
   ],
   "source": [
    "companies[\"CSCO\"][1:5, :]"
   ]
  },
  {
   "cell_type": "code",
   "execution_count": 8,
   "metadata": {},
   "outputs": [
    {
     "data": {
      "text/plain": [
       "ind (generic function with 1 method)"
      ]
     },
     "metadata": {},
     "output_type": "display_data"
    }
   ],
   "source": [
    "function ind(v::Float64, val::Float64)\n",
    "    if v < val\n",
    "        return 1\n",
    "    else\n",
    "        return 0\n",
    "    end\n",
    "end"
   ]
  },
  {
   "cell_type": "code",
   "execution_count": 56,
   "metadata": {},
   "outputs": [
    {
     "data": {
      "text/plain": [
       "Dict{String, Vector{Float64}} with 10 entries:\n",
       "  \"SBGI\" => [1.00385, 1.0054, 0.999345, 0.995347, 0.996731, 0.995507, 0.999095,…\n",
       "  \"NTZ\"  => [0.990046, 1.00053, 1.00046, 1.00282, 0.999881, 1.00046, 0.998878, …\n",
       "  \"UFCS\" => [1.00231, 0.997465, 0.997717, 1.00157, 1.00386, 1.00238, 1.0033, 1.…\n",
       "  \"GFED\" => [1.00115, 1.00132, 0.999974, 1.00107, 1.0017, 1.00026, 1.00066, 1.0…\n",
       "  \"TRNS\" => [1.00495, 1.00111, 1.00507, 1.0001, 1.00004, 1.00271, 1.00461, 1.00…\n",
       "  \"CSCO\" => [1.0043, 1.00134, 1.00428, 1.00427, 0.998103, 1.00206, 0.998423, 1.…\n",
       "  \"SITC\" => [0.999984, 1.0085, 0.995416, 0.998195, 0.997239, 0.999706, 1.00224,…\n",
       "  \"NXN\"  => [1.00061, 0.99991, 0.998486, 0.998886, 1.00073, 0.999482, 1.00121, …\n",
       "  \"AIRT\" => [1.01067, 1.0014, 1.01423, 0.987049, 1.00094, 1.00364, 1.00723, 1.0…\n",
       "  \"UNT\"  => [1.00694, 1.0018, 1.00492, 0.988423, 1.00327, 1.00714, 0.99878, 1.0…"
      ]
     },
     "metadata": {},
     "output_type": "display_data"
    }
   ],
   "source": [
    "returns_N = select_samples(30, companies, false, true)"
   ]
  },
  {
   "cell_type": "code",
   "execution_count": 60,
   "metadata": {},
   "outputs": [
    {
     "data": {
      "text/plain": [
       "0.9666666666666667"
      ]
     },
     "metadata": {},
     "output_type": "display_data"
    }
   ],
   "source": [
    "mean(ind(minreturn, sum(returns_N[company_list[i]][k]*p[i] for i = 1:n)) for k = 1:N)"
   ]
  },
  {
   "cell_type": "code",
   "execution_count": 16,
   "metadata": {},
   "outputs": [
    {
     "data": {
      "text/plain": [
       "10-element Vector{Float64}:\n",
       " 0.1\n",
       " 0.1\n",
       " 0.1\n",
       " 0.1\n",
       " 0.1\n",
       " 0.1\n",
       " 0.1\n",
       " 0.1\n",
       " 0.1\n",
       " 0.1"
      ]
     },
     "metadata": {},
     "output_type": "display_data"
    }
   ],
   "source": [
    "j =1 \n",
    "p = [0.1, 0.1, 0.1, 0.1, 0.1, 0.1, .1, .1, .1, .1]\n",
    "# mean(ind(minreturn, sum(returns_N[company_list[i]][j]*p[i] for i = 1:n)) for j = 1:N)"
   ]
  },
  {
   "cell_type": "code",
   "execution_count": 19,
   "metadata": {},
   "outputs": [
    {
     "data": {
      "text/plain": [
       "1.0008872356172225"
      ]
     },
     "metadata": {},
     "output_type": "display_data"
    }
   ],
   "source": [
    "sum(returns_N[company_list[i]][k]*p[i] for i = 1:n) "
   ]
  },
  {
   "cell_type": "code",
   "execution_count": 21,
   "metadata": {},
   "outputs": [
    {
     "ename": "MethodError",
     "evalue": "MethodError: no method matching iterate(::FullNormal)\n\nClosest candidates are:\n  iterate(!Matched::Union{LinRange, StepRangeLen})\n   @ Base range.jl:880\n  iterate(!Matched::Union{LinRange, StepRangeLen}, !Matched::Integer)\n   @ Base range.jl:880\n  iterate(!Matched::T) where T<:Union{Base.KeySet{<:Any, <:Dict}, Base.ValueIterator{<:Dict}}\n   @ Base dict.jl:698\n  ...\n",
     "output_type": "error",
     "traceback": [
      "MethodError: no method matching iterate(::FullNormal)\n",
      "\n",
      "Closest candidates are:\n",
      "  iterate(!Matched::Union{LinRange, StepRangeLen})\n",
      "   @ Base range.jl:880\n",
      "  iterate(!Matched::Union{LinRange, StepRangeLen}, !Matched::Integer)\n",
      "   @ Base range.jl:880\n",
      "  iterate(!Matched::T) where T<:Union{Base.KeySet{<:Any, <:Dict}, Base.ValueIterator{<:Dict}}\n",
      "   @ Base dict.jl:698\n",
      "  ...\n",
      "\n",
      "\n",
      "Stacktrace:\n",
      " [1] copyto!(dest::Vector{Float64}, src::FullNormal)\n",
      "   @ Base ./abstractarray.jl:948\n",
      " [2] _collect(cont::UnitRange{Int64}, itr::FullNormal, #unused#::Base.HasEltype, isz::Base.HasLength)\n",
      "   @ Base ./array.jl:713\n",
      " [3] collect(itr::FullNormal)\n",
      "   @ Base ./array.jl:707\n",
      " [4] quantile(itr::FullNormal, p::Float64; sorted::Bool, alpha::Float64, beta::Float64)\n",
      "   @ Statistics /Applications/Julia-1.9.app/Contents/Resources/julia/share/julia/stdlib/v1.9/Statistics/src/Statistics.jl:1070\n",
      " [5] quantile(itr::FullNormal, p::Float64)\n",
      "   @ Statistics /Applications/Julia-1.9.app/Contents/Resources/julia/share/julia/stdlib/v1.9/Statistics/src/Statistics.jl:1070\n",
      " [6] top-level scope\n",
      "   @ ~/Documents/ift6512 - Stochastic/hw/paper_reproduction_1/code/portfolio_optimization.ipynb:3"
     ]
    }
   ],
   "source": [
    "k=1\n",
    "minreturn = -0.1\n",
    "quantile(d, sum(returns_N[company_list[i]][k]*p[i] for i = 1:n))"
   ]
  },
  {
   "cell_type": "markdown",
   "metadata": {},
   "source": [
    "# GAMMA = 0"
   ]
  },
  {
   "cell_type": "code",
   "execution_count": null,
   "metadata": {},
   "outputs": [],
   "source": [
    "m = Model(Gurobi.Optimizer)\n",
    "@(m, r)"
   ]
  },
  {
   "cell_type": "code",
   "execution_count": 20,
   "metadata": {},
   "outputs": [
    {
     "ename": "MethodError",
     "evalue": "MethodError: no method matching Normal(::Vector{Float64}, ::Matrix{Float64})",
     "output_type": "error",
     "traceback": [
      "MethodError: no method matching Normal(::Vector{Float64}, ::Matrix{Float64})\n",
      "\n",
      "Stacktrace:\n",
      " [1] top-level scope\n",
      "   @ ~/Documents/ift6512 - Stochastic/hw/paper_reproduction_1/code/portfolio_optimization.ipynb:21"
     ]
    }
   ],
   "source": [
    "Ns = sort([collect(30:10:200); 183])\n",
    "# Ns = [183; 100; 10]\n",
    "γ = 0.05\n",
    "\n",
    "minreturn = .95\n",
    "\n",
    "α = 0.1\n",
    "\n",
    "z = 1/quantile(Normal(0,1), (1-γ))\n",
    "loss_probs = zeros(length(Ns))\n",
    "objective_vals = zeros(length(Ns))\n",
    "\n",
    "μ, Σ = calc_mean_cov(select_samples(0, companies, false, false))\n",
    "\n",
    "i, N = 1, 30\n",
    "# for (i, N) in enumerate(Ns)\n",
    "    # DERIVE PARAMETERS & DISTRIBUTION\n",
    "    returns_N = select_samples(N, companies, true, true)\n",
    "    # μ, Σ = calc_mean_cov(returns_N)\n",
    "    A = Σ^0.5\n",
    "    d = MvNormal(μ, Σ)\n",
    "\n",
    "    # MODEL\n",
    "    m = Model(Gurobi.Optimizer)\n",
    "    @variable(m, p[1:n] >= -0.01)\n",
    "    @constraint(m, sum(p[i] for i = 1:n) <= 1)\n",
    "    # @constraint  \n",
    "    @objective(m, Max, sum(p[i]*μ[i] for i = 1:n))\n",
    "    # @constraint(m, sum(p[i]*μ[i] for i = 1:n) >= z)\n",
    "    \n",
    "    # || x || <= t, t >= 0\n",
    "    # https://jump.dev/JuMP.jl/stable/reference/constraints/#JuMP.SecondOrderCone\n",
    "    @constraint(m, [z*(-minreturn+sum(μ[i]*p[i] for i = 1:n)); A*p[1:n]] in SecondOrderCone())\n",
    "\n",
    "    emp = zeros(n)\n",
    "    # @constraint(m, indicator(minreturn, mean(ind(minreturn, sum(returns_N[company_list[i]][k]*p[i] for i = 1:n)) for k = 1:N) >= α))\n",
    "    for k in 1:N\n",
    "        @constraint(m, quantile(d, sum(returns_N[company_list[i]][k]*p[i] for i = 1:n) >= minreturn)\n",
    "        returns_N[company_list[i]][k]\n",
    "        @constraint(m, sum(returns_N[company_list[i]][k]*p[i] for i = 1:n) >= minreturn)\n",
    "    end\n",
    "    \n",
    "    \n",
    "    # @constraint(m, )\n",
    "    optimize!(m)\n",
    "\n",
    "    objective_vals[i] = objective_value(m)\n",
    "    loss_probs[i], _ = expectedshortfall(value.(p), d, minreturn)\n",
    "# end"
   ]
  },
  {
   "cell_type": "code",
   "execution_count": 70,
   "metadata": {},
   "outputs": [
    {
     "name": "stdout",
     "output_type": "stream",
     "text": [
      "[1.0013149614771264, 1.0013150006757043, 1.0013151122063124, 1.0013151457961686, 1.0013151441339931, 1.0013151441233152, 1.0013151436655168, 1.001315124140827, 1.0013151189909653, 1.0013151251815116, 1.001315125242399, 1.00131513301791, 1.0013151236401974, 1.0013151181019755, 1.001315140994522, 1.0013151389245942, 1.0013151450033662, 1.0013151449394202, 1.001315146008691]\n",
      "[0.0, 0.0, 0.0, 0.0, 0.0, 0.0, 0.0, 0.0, 0.0, 0.0, 0.0, 0.0, 0.0, 0.0, 0.0, 0.0, 0.0, 0.0, 0.0]\n"
     ]
    }
   ],
   "source": [
    "println(objective_vals)\n",
    "println(loss_probs)"
   ]
  },
  {
   "cell_type": "code",
   "execution_count": 28,
   "metadata": {},
   "outputs": [
    {
     "data": {
      "image/png": "[encoded data removed]",
      "image/svg+xml": [
       "<?xml version=\"1.0\" encoding=\"utf-8\"?>\n",
       "<svg xmlns=\"http://www.w3.org/2000/svg\" xmlns:xlink=\"http://www.w3.org/1999/xlink\" width=\"600\" height=\"400\" viewBox=\"0 0 2400 1600\">\n",
       "<defs>\n",
       "  <clipPath id=\"clip600\">\n",
       "    <rect x=\"0\" y=\"0\" width=\"2400\" height=\"1600\"/>\n",
       "  </clipPath>\n",
       "</defs>\n",
       "<path clip-path=\"url(#clip600)\" d=\"M0 1600 L2400 1600 L2400 0 L0 0  Z\" fill=\"#ffffff\" fill-rule=\"evenodd\" fill-opacity=\"1\"/>\n",
       "<defs>\n",
       "  <clipPath id=\"clip601\">\n",
       "    <rect x=\"480\" y=\"0\" width=\"1681\" height=\"1600\"/>\n",
       "  </clipPath>\n",
       "</defs>\n",
       "<path clip-path=\"url(#clip600)\" d=\"M249.542 1423.18 L2352.76 1423.18 L2352.76 47.2441 L249.542 47.2441  Z\" fill=\"#eaeaea\" fill-rule=\"evenodd\" fill-opacity=\"1\"/>\n",
       "<defs>\n",
       "  <clipPath id=\"clip602\">\n",
       "    <rect x=\"249\" y=\"47\" width=\"2104\" height=\"1377\"/>\n",
       "  </clipPath>\n",
       "</defs>\n",
       "<polyline clip-path=\"url(#clip602)\" style=\"stroke:#ffffff; stroke-linecap:round; stroke-linejoin:round; stroke-width:4; stroke-opacity:1; fill:none\" points=\"309.067,1423.18 309.067,47.2441 \"/>\n",
       "<polyline clip-path=\"url(#clip602)\" style=\"stroke:#ffffff; stroke-linecap:round; stroke-linejoin:round; stroke-width:4; stroke-opacity:1; fill:none\" points=\"805.108,1423.18 805.108,47.2441 \"/>\n",
       "<polyline clip-path=\"url(#clip602)\" style=\"stroke:#ffffff; stroke-linecap:round; stroke-linejoin:round; stroke-width:4; stroke-opacity:1; fill:none\" points=\"1301.15,1423.18 1301.15,47.2441 \"/>\n",
       "<polyline clip-path=\"url(#clip602)\" style=\"stroke:#ffffff; stroke-linecap:round; stroke-linejoin:round; stroke-width:4; stroke-opacity:1; fill:none\" points=\"1797.19,1423.18 1797.19,47.2441 \"/>\n",
       "<polyline clip-path=\"url(#clip602)\" style=\"stroke:#ffffff; stroke-linecap:round; stroke-linejoin:round; stroke-width:4; stroke-opacity:1; fill:none\" points=\"2293.23,1423.18 2293.23,47.2441 \"/>\n",
       "<polyline clip-path=\"url(#clip602)\" style=\"stroke:#ffffff; stroke-linecap:round; stroke-linejoin:round; stroke-width:2; stroke-opacity:1; fill:none\" points=\"557.087,1423.18 557.087,47.2441 \"/>\n",
       "<polyline clip-path=\"url(#clip602)\" style=\"stroke:#ffffff; stroke-linecap:round; stroke-linejoin:round; stroke-width:2; stroke-opacity:1; fill:none\" points=\"1053.13,1423.18 1053.13,47.2441 \"/>\n",
       "<polyline clip-path=\"url(#clip602)\" style=\"stroke:#ffffff; stroke-linecap:round; stroke-linejoin:round; stroke-width:2; stroke-opacity:1; fill:none\" points=\"1549.17,1423.18 1549.17,47.2441 \"/>\n",
       "<polyline clip-path=\"url(#clip602)\" style=\"stroke:#ffffff; stroke-linecap:round; stroke-linejoin:round; stroke-width:2; stroke-opacity:1; fill:none\" points=\"2045.21,1423.18 2045.21,47.2441 \"/>\n",
       "<polyline clip-path=\"url(#clip600)\" style=\"stroke:#ffffff; stroke-linecap:round; stroke-linejoin:round; stroke-width:4; stroke-opacity:1; fill:none\" points=\"249.542,1423.18 2352.76,1423.18 \"/>\n",
       "<polyline clip-path=\"url(#clip600)\" style=\"stroke:#333333; stroke-linecap:round; stroke-linejoin:round; stroke-width:4; stroke-opacity:1; fill:none\" points=\"309.067,1423.18 309.067,1442.08 \"/>\n",
       "<polyline clip-path=\"url(#clip600)\" style=\"stroke:#333333; stroke-linecap:round; stroke-linejoin:round; stroke-width:4; stroke-opacity:1; fill:none\" points=\"805.108,1423.18 805.108,1442.08 \"/>\n",
       "<polyline clip-path=\"url(#clip600)\" style=\"stroke:#333333; stroke-linecap:round; stroke-linejoin:round; stroke-width:4; stroke-opacity:1; fill:none\" points=\"1301.15,1423.18 1301.15,1442.08 \"/>\n",
       "<polyline clip-path=\"url(#clip600)\" style=\"stroke:#333333; stroke-linecap:round; stroke-linejoin:round; stroke-width:4; stroke-opacity:1; fill:none\" points=\"1797.19,1423.18 1797.19,1442.08 \"/>\n",
       "<polyline clip-path=\"url(#clip600)\" style=\"stroke:#333333; stroke-linecap:round; stroke-linejoin:round; stroke-width:4; stroke-opacity:1; fill:none\" points=\"2293.23,1423.18 2293.23,1442.08 \"/>\n",
       "<polyline clip-path=\"url(#clip600)\" style=\"stroke:#333333; stroke-linecap:round; stroke-linejoin:round; stroke-width:4; stroke-opacity:1; fill:none\" points=\"557.087,1423.18 557.087,1432.63 \"/>\n",
       "<polyline clip-path=\"url(#clip600)\" style=\"stroke:#333333; stroke-linecap:round; stroke-linejoin:round; stroke-width:4; stroke-opacity:1; fill:none\" points=\"1053.13,1423.18 1053.13,1432.63 \"/>\n",
       "<polyline clip-path=\"url(#clip600)\" style=\"stroke:#333333; stroke-linecap:round; stroke-linejoin:round; stroke-width:4; stroke-opacity:1; fill:none\" points=\"1549.17,1423.18 1549.17,1432.63 \"/>\n",
       "<polyline clip-path=\"url(#clip600)\" style=\"stroke:#333333; stroke-linecap:round; stroke-linejoin:round; stroke-width:4; stroke-opacity:1; fill:none\" points=\"2045.21,1423.18 2045.21,1432.63 \"/>\n",
       "<path clip-path=\"url(#clip600)\" d=\"M271.37 1463.7 Q267.759 1463.7 265.931 1467.26 Q264.125 1470.8 264.125 1477.93 Q264.125 1485.04 265.931 1488.61 Q267.759 1492.15 271.37 1492.15 Q275.005 1492.15 276.81 1488.61 Q278.639 1485.04 278.639 1477.93 Q278.639 1470.8 276.81 1467.26 Q275.005 1463.7 271.37 1463.7 M271.37 1459.99 Q277.181 1459.99 280.236 1464.6 Q283.315 1469.18 283.315 1477.93 Q283.315 1486.66 280.236 1491.27 Q277.181 1495.85 271.37 1495.85 Q265.56 1495.85 262.482 1491.27 Q259.426 1486.66 259.426 1477.93 Q259.426 1469.18 262.482 1464.6 Q265.56 1459.99 271.37 1459.99 Z\" fill=\"#4c4c4c\" fill-rule=\"nonzero\" fill-opacity=\"1\" /><path clip-path=\"url(#clip600)\" d=\"M291.532 1489.3 L296.417 1489.3 L296.417 1495.18 L291.532 1495.18 L291.532 1489.3 Z\" fill=\"#4c4c4c\" fill-rule=\"nonzero\" fill-opacity=\"1\" /><path clip-path=\"url(#clip600)\" d=\"M316.602 1463.7 Q312.991 1463.7 311.162 1467.26 Q309.356 1470.8 309.356 1477.93 Q309.356 1485.04 311.162 1488.61 Q312.991 1492.15 316.602 1492.15 Q320.236 1492.15 322.041 1488.61 Q323.87 1485.04 323.87 1477.93 Q323.87 1470.8 322.041 1467.26 Q320.236 1463.7 316.602 1463.7 M316.602 1459.99 Q322.412 1459.99 325.467 1464.6 Q328.546 1469.18 328.546 1477.93 Q328.546 1486.66 325.467 1491.27 Q322.412 1495.85 316.602 1495.85 Q310.791 1495.85 307.713 1491.27 Q304.657 1486.66 304.657 1477.93 Q304.657 1469.18 307.713 1464.6 Q310.791 1459.99 316.602 1459.99 Z\" fill=\"#4c4c4c\" fill-rule=\"nonzero\" fill-opacity=\"1\" /><path clip-path=\"url(#clip600)\" d=\"M346.764 1463.7 Q343.152 1463.7 341.324 1467.26 Q339.518 1470.8 339.518 1477.93 Q339.518 1485.04 341.324 1488.61 Q343.152 1492.15 346.764 1492.15 Q350.398 1492.15 352.203 1488.61 Q354.032 1485.04 354.032 1477.93 Q354.032 1470.8 352.203 1467.26 Q350.398 1463.7 346.764 1463.7 M346.764 1459.99 Q352.574 1459.99 355.629 1464.6 Q358.708 1469.18 358.708 1477.93 Q358.708 1486.66 355.629 1491.27 Q352.574 1495.85 346.764 1495.85 Q340.953 1495.85 337.875 1491.27 Q334.819 1486.66 334.819 1477.93 Q334.819 1469.18 337.875 1464.6 Q340.953 1459.99 346.764 1459.99 Z\" fill=\"#4c4c4c\" fill-rule=\"nonzero\" fill-opacity=\"1\" /><path clip-path=\"url(#clip600)\" d=\"M767.909 1463.7 Q764.298 1463.7 762.469 1467.26 Q760.664 1470.8 760.664 1477.93 Q760.664 1485.04 762.469 1488.61 Q764.298 1492.15 767.909 1492.15 Q771.543 1492.15 773.349 1488.61 Q775.178 1485.04 775.178 1477.93 Q775.178 1470.8 773.349 1467.26 Q771.543 1463.7 767.909 1463.7 M767.909 1459.99 Q773.719 1459.99 776.775 1464.6 Q779.853 1469.18 779.853 1477.93 Q779.853 1486.66 776.775 1491.27 Q773.719 1495.85 767.909 1495.85 Q762.099 1495.85 759.02 1491.27 Q755.965 1486.66 755.965 1477.93 Q755.965 1469.18 759.02 1464.6 Q762.099 1459.99 767.909 1459.99 Z\" fill=\"#4c4c4c\" fill-rule=\"nonzero\" fill-opacity=\"1\" /><path clip-path=\"url(#clip600)\" d=\"M788.071 1489.3 L792.955 1489.3 L792.955 1495.18 L788.071 1495.18 L788.071 1489.3 Z\" fill=\"#4c4c4c\" fill-rule=\"nonzero\" fill-opacity=\"1\" /><path clip-path=\"url(#clip600)\" d=\"M807.168 1491.24 L823.487 1491.24 L823.487 1495.18 L801.543 1495.18 L801.543 1491.24 Q804.205 1488.49 808.788 1483.86 Q813.395 1479.21 814.576 1477.87 Q816.821 1475.34 817.7 1473.61 Q818.603 1471.85 818.603 1470.16 Q818.603 1467.4 816.659 1465.67 Q814.738 1463.93 811.636 1463.93 Q809.437 1463.93 806.983 1464.69 Q804.552 1465.46 801.775 1467.01 L801.775 1462.29 Q804.599 1461.15 807.052 1460.57 Q809.506 1459.99 811.543 1459.99 Q816.913 1459.99 820.108 1462.68 Q823.302 1465.37 823.302 1469.86 Q823.302 1471.99 822.492 1473.91 Q821.705 1475.8 819.599 1478.4 Q819.02 1479.07 815.918 1482.29 Q812.816 1485.48 807.168 1491.24 Z\" fill=\"#4c4c4c\" fill-rule=\"nonzero\" fill-opacity=\"1\" /><path clip-path=\"url(#clip600)\" d=\"M833.349 1460.62 L851.705 1460.62 L851.705 1464.56 L837.631 1464.56 L837.631 1473.03 Q838.649 1472.68 839.668 1472.52 Q840.686 1472.33 841.705 1472.33 Q847.492 1472.33 850.872 1475.5 Q854.251 1478.68 854.251 1484.09 Q854.251 1489.67 850.779 1492.77 Q847.307 1495.85 840.987 1495.85 Q838.811 1495.85 836.543 1495.48 Q834.298 1495.11 831.89 1494.37 L831.89 1489.67 Q833.974 1490.8 836.196 1491.36 Q838.418 1491.92 840.895 1491.92 Q844.899 1491.92 847.237 1489.81 Q849.575 1487.7 849.575 1484.09 Q849.575 1480.48 847.237 1478.37 Q844.899 1476.27 840.895 1476.27 Q839.02 1476.27 837.145 1476.68 Q835.293 1477.1 833.349 1477.98 L833.349 1460.62 Z\" fill=\"#4c4c4c\" fill-rule=\"nonzero\" fill-opacity=\"1\" /><path clip-path=\"url(#clip600)\" d=\"M1263.45 1463.7 Q1259.84 1463.7 1258.01 1467.26 Q1256.21 1470.8 1256.21 1477.93 Q1256.21 1485.04 1258.01 1488.61 Q1259.84 1492.15 1263.45 1492.15 Q1267.09 1492.15 1268.89 1488.61 Q1270.72 1485.04 1270.72 1477.93 Q1270.72 1470.8 1268.89 1467.26 Q1267.09 1463.7 1263.45 1463.7 M1263.45 1459.99 Q1269.26 1459.99 1272.32 1464.6 Q1275.4 1469.18 1275.4 1477.93 Q1275.4 1486.66 1272.32 1491.27 Q1269.26 1495.85 1263.45 1495.85 Q1257.64 1495.85 1254.56 1491.27 Q1251.51 1486.66 1251.51 1477.93 Q1251.51 1469.18 1254.56 1464.6 Q1257.64 1459.99 1263.45 1459.99 Z\" fill=\"#4c4c4c\" fill-rule=\"nonzero\" fill-opacity=\"1\" /><path clip-path=\"url(#clip600)\" d=\"M1283.61 1489.3 L1288.5 1489.3 L1288.5 1495.18 L1283.61 1495.18 L1283.61 1489.3 Z\" fill=\"#4c4c4c\" fill-rule=\"nonzero\" fill-opacity=\"1\" /><path clip-path=\"url(#clip600)\" d=\"M1298.73 1460.62 L1317.09 1460.62 L1317.09 1464.56 L1303.01 1464.56 L1303.01 1473.03 Q1304.03 1472.68 1305.05 1472.52 Q1306.07 1472.33 1307.09 1472.33 Q1312.87 1472.33 1316.25 1475.5 Q1319.63 1478.68 1319.63 1484.09 Q1319.63 1489.67 1316.16 1492.77 Q1312.69 1495.85 1306.37 1495.85 Q1304.19 1495.85 1301.92 1495.48 Q1299.68 1495.11 1297.27 1494.37 L1297.27 1489.67 Q1299.35 1490.8 1301.58 1491.36 Q1303.8 1491.92 1306.28 1491.92 Q1310.28 1491.92 1312.62 1489.81 Q1314.96 1487.7 1314.96 1484.09 Q1314.96 1480.48 1312.62 1478.37 Q1310.28 1476.27 1306.28 1476.27 Q1304.4 1476.27 1302.53 1476.68 Q1300.67 1477.1 1298.73 1477.98 L1298.73 1460.62 Z\" fill=\"#4c4c4c\" fill-rule=\"nonzero\" fill-opacity=\"1\" /><path clip-path=\"url(#clip600)\" d=\"M1338.85 1463.7 Q1335.23 1463.7 1333.41 1467.26 Q1331.6 1470.8 1331.6 1477.93 Q1331.6 1485.04 1333.41 1488.61 Q1335.23 1492.15 1338.85 1492.15 Q1342.48 1492.15 1344.29 1488.61 Q1346.11 1485.04 1346.11 1477.93 Q1346.11 1470.8 1344.29 1467.26 Q1342.48 1463.7 1338.85 1463.7 M1338.85 1459.99 Q1344.66 1459.99 1347.71 1464.6 Q1350.79 1469.18 1350.79 1477.93 Q1350.79 1486.66 1347.71 1491.27 Q1344.66 1495.85 1338.85 1495.85 Q1333.04 1495.85 1329.96 1491.27 Q1326.9 1486.66 1326.9 1477.93 Q1326.9 1469.18 1329.96 1464.6 Q1333.04 1459.99 1338.85 1459.99 Z\" fill=\"#4c4c4c\" fill-rule=\"nonzero\" fill-opacity=\"1\" /><path clip-path=\"url(#clip600)\" d=\"M1759.99 1463.7 Q1756.38 1463.7 1754.55 1467.26 Q1752.75 1470.8 1752.75 1477.93 Q1752.75 1485.04 1754.55 1488.61 Q1756.38 1492.15 1759.99 1492.15 Q1763.63 1492.15 1765.43 1488.61 Q1767.26 1485.04 1767.26 1477.93 Q1767.26 1470.8 1765.43 1467.26 Q1763.63 1463.7 1759.99 1463.7 M1759.99 1459.99 Q1765.8 1459.99 1768.86 1464.6 Q1771.94 1469.18 1771.94 1477.93 Q1771.94 1486.66 1768.86 1491.27 Q1765.8 1495.85 1759.99 1495.85 Q1754.18 1495.85 1751.1 1491.27 Q1748.05 1486.66 1748.05 1477.93 Q1748.05 1469.18 1751.1 1464.6 Q1754.18 1459.99 1759.99 1459.99 Z\" fill=\"#4c4c4c\" fill-rule=\"nonzero\" fill-opacity=\"1\" /><path clip-path=\"url(#clip600)\" d=\"M1780.15 1489.3 L1785.04 1489.3 L1785.04 1495.18 L1780.15 1495.18 L1780.15 1489.3 Z\" fill=\"#4c4c4c\" fill-rule=\"nonzero\" fill-opacity=\"1\" /><path clip-path=\"url(#clip600)\" d=\"M1794.04 1460.62 L1816.26 1460.62 L1816.26 1462.61 L1803.72 1495.18 L1798.83 1495.18 L1810.64 1464.56 L1794.04 1464.56 L1794.04 1460.62 Z\" fill=\"#4c4c4c\" fill-rule=\"nonzero\" fill-opacity=\"1\" /><path clip-path=\"url(#clip600)\" d=\"M1825.43 1460.62 L1843.79 1460.62 L1843.79 1464.56 L1829.71 1464.56 L1829.71 1473.03 Q1830.73 1472.68 1831.75 1472.52 Q1832.77 1472.33 1833.79 1472.33 Q1839.57 1472.33 1842.95 1475.5 Q1846.33 1478.68 1846.33 1484.09 Q1846.33 1489.67 1842.86 1492.77 Q1839.39 1495.85 1833.07 1495.85 Q1830.89 1495.85 1828.62 1495.48 Q1826.38 1495.11 1823.97 1494.37 L1823.97 1489.67 Q1826.06 1490.8 1828.28 1491.36 Q1830.5 1491.92 1832.98 1491.92 Q1836.98 1491.92 1839.32 1489.81 Q1841.66 1487.7 1841.66 1484.09 Q1841.66 1480.48 1839.32 1478.37 Q1836.98 1476.27 1832.98 1476.27 Q1831.1 1476.27 1829.23 1476.68 Q1827.38 1477.1 1825.43 1477.98 L1825.43 1460.62 Z\" fill=\"#4c4c4c\" fill-rule=\"nonzero\" fill-opacity=\"1\" /><path clip-path=\"url(#clip600)\" d=\"M2245.3 1491.24 L2252.94 1491.24 L2252.94 1464.88 L2244.63 1466.55 L2244.63 1462.29 L2252.9 1460.62 L2257.57 1460.62 L2257.57 1491.24 L2265.21 1491.24 L2265.21 1495.18 L2245.3 1495.18 L2245.3 1491.24 Z\" fill=\"#4c4c4c\" fill-rule=\"nonzero\" fill-opacity=\"1\" /><path clip-path=\"url(#clip600)\" d=\"M2274.65 1489.3 L2279.54 1489.3 L2279.54 1495.18 L2274.65 1495.18 L2274.65 1489.3 Z\" fill=\"#4c4c4c\" fill-rule=\"nonzero\" fill-opacity=\"1\" /><path clip-path=\"url(#clip600)\" d=\"M2299.72 1463.7 Q2296.11 1463.7 2294.28 1467.26 Q2292.48 1470.8 2292.48 1477.93 Q2292.48 1485.04 2294.28 1488.61 Q2296.11 1492.15 2299.72 1492.15 Q2303.36 1492.15 2305.16 1488.61 Q2306.99 1485.04 2306.99 1477.93 Q2306.99 1470.8 2305.16 1467.26 Q2303.36 1463.7 2299.72 1463.7 M2299.72 1459.99 Q2305.53 1459.99 2308.59 1464.6 Q2311.67 1469.18 2311.67 1477.93 Q2311.67 1486.66 2308.59 1491.27 Q2305.53 1495.85 2299.72 1495.85 Q2293.91 1495.85 2290.84 1491.27 Q2287.78 1486.66 2287.78 1477.93 Q2287.78 1469.18 2290.84 1464.6 Q2293.91 1459.99 2299.72 1459.99 Z\" fill=\"#4c4c4c\" fill-rule=\"nonzero\" fill-opacity=\"1\" /><path clip-path=\"url(#clip600)\" d=\"M2329.89 1463.7 Q2326.27 1463.7 2324.45 1467.26 Q2322.64 1470.8 2322.64 1477.93 Q2322.64 1485.04 2324.45 1488.61 Q2326.27 1492.15 2329.89 1492.15 Q2333.52 1492.15 2335.33 1488.61 Q2337.15 1485.04 2337.15 1477.93 Q2337.15 1470.8 2335.33 1467.26 Q2333.52 1463.7 2329.89 1463.7 M2329.89 1459.99 Q2335.7 1459.99 2338.75 1464.6 Q2341.83 1469.18 2341.83 1477.93 Q2341.83 1486.66 2338.75 1491.27 Q2335.7 1495.85 2329.89 1495.85 Q2324.08 1495.85 2321 1491.27 Q2317.94 1486.66 2317.94 1477.93 Q2317.94 1469.18 2321 1464.6 Q2324.08 1459.99 2329.89 1459.99 Z\" fill=\"#4c4c4c\" fill-rule=\"nonzero\" fill-opacity=\"1\" /><path clip-path=\"url(#clip600)\" d=\"M923.344 1524.88 Q916.342 1524.88 912.204 1530.1 Q908.098 1535.32 908.098 1544.33 Q908.098 1553.31 912.204 1558.53 Q916.342 1563.75 923.344 1563.75 Q930.347 1563.75 934.421 1558.53 Q938.526 1553.31 938.526 1544.33 Q938.526 1535.32 934.421 1530.1 Q930.347 1524.88 923.344 1524.88 M923.344 1519.66 Q933.338 1519.66 939.322 1526.38 Q945.306 1533.06 945.306 1544.33 Q945.306 1555.57 939.322 1562.28 Q933.338 1568.97 923.344 1568.97 Q913.318 1568.97 907.303 1562.28 Q901.319 1555.6 901.319 1544.33 Q901.319 1533.06 907.303 1526.38 Q913.318 1519.66 923.344 1519.66 Z\" fill=\"#000000\" fill-rule=\"nonzero\" fill-opacity=\"1\" /><path clip-path=\"url(#clip600)\" d=\"M980.699 1550.25 Q980.699 1543.79 978.026 1540.13 Q975.384 1536.44 970.737 1536.44 Q966.09 1536.44 963.416 1540.13 Q960.775 1543.79 960.775 1550.25 Q960.775 1556.71 963.416 1560.4 Q966.09 1564.07 970.737 1564.07 Q975.384 1564.07 978.026 1560.4 Q980.699 1556.71 980.699 1550.25 M960.775 1537.81 Q962.621 1534.62 965.422 1533.1 Q968.254 1531.54 972.169 1531.54 Q978.662 1531.54 982.704 1536.69 Q986.779 1541.85 986.779 1550.25 Q986.779 1558.65 982.704 1563.81 Q978.662 1568.97 972.169 1568.97 Q968.254 1568.97 965.422 1567.44 Q962.621 1565.88 960.775 1562.7 L960.775 1568.04 L954.886 1568.04 L954.886 1518.52 L960.775 1518.52 L960.775 1537.81 Z\" fill=\"#000000\" fill-rule=\"nonzero\" fill-opacity=\"1\" /><path clip-path=\"url(#clip600)\" d=\"M996.486 1532.4 L1002.34 1532.4 L1002.34 1568.68 Q1002.34 1575.49 999.733 1578.55 Q997.155 1581.6 991.394 1581.6 L989.166 1581.6 L989.166 1576.64 L990.725 1576.64 Q994.067 1576.64 995.277 1575.08 Q996.486 1573.55 996.486 1568.68 L996.486 1532.4 M996.486 1518.52 L1002.34 1518.52 L1002.34 1525.93 L996.486 1525.93 L996.486 1518.52 Z\" fill=\"#000000\" fill-rule=\"nonzero\" fill-opacity=\"1\" /><path clip-path=\"url(#clip600)\" d=\"M1045.09 1548.76 L1045.09 1551.62 L1018.16 1551.62 Q1018.54 1557.67 1021.79 1560.85 Q1025.07 1564 1030.89 1564 Q1034.27 1564 1037.42 1563.17 Q1040.6 1562.35 1043.72 1560.69 L1043.72 1566.23 Q1040.57 1567.57 1037.26 1568.27 Q1033.95 1568.97 1030.54 1568.97 Q1022.01 1568.97 1017.02 1564 Q1012.05 1559.04 1012.05 1550.57 Q1012.05 1541.82 1016.76 1536.69 Q1021.5 1531.54 1029.52 1531.54 Q1036.72 1531.54 1040.89 1536.18 Q1045.09 1540.8 1045.09 1548.76 M1039.23 1547.04 Q1039.17 1542.23 1036.53 1539.37 Q1033.92 1536.5 1029.59 1536.5 Q1024.69 1536.5 1021.73 1539.27 Q1018.8 1542.04 1018.35 1547.07 L1039.23 1547.04 Z\" fill=\"#000000\" fill-rule=\"nonzero\" fill-opacity=\"1\" /><path clip-path=\"url(#clip600)\" d=\"M1080.35 1533.76 L1080.35 1539.24 Q1077.87 1537.87 1075.36 1537.2 Q1072.87 1536.5 1070.33 1536.5 Q1064.63 1536.5 1061.48 1540.13 Q1058.33 1543.73 1058.33 1550.25 Q1058.33 1556.78 1061.48 1560.4 Q1064.63 1564 1070.33 1564 Q1072.87 1564 1075.36 1563.33 Q1077.87 1562.63 1080.35 1561.26 L1080.35 1566.68 Q1077.9 1567.82 1075.26 1568.39 Q1072.65 1568.97 1069.69 1568.97 Q1061.64 1568.97 1056.9 1563.91 Q1052.15 1558.85 1052.15 1550.25 Q1052.15 1541.53 1056.93 1536.53 Q1061.73 1531.54 1070.07 1531.54 Q1072.78 1531.54 1075.36 1532.11 Q1077.94 1532.65 1080.35 1533.76 Z\" fill=\"#000000\" fill-rule=\"nonzero\" fill-opacity=\"1\" /><path clip-path=\"url(#clip600)\" d=\"M1096.33 1522.27 L1096.33 1532.4 L1108.4 1532.4 L1108.4 1536.95 L1096.33 1536.95 L1096.33 1556.3 Q1096.33 1560.66 1097.51 1561.9 Q1098.72 1563.14 1102.38 1563.14 L1108.4 1563.14 L1108.4 1568.04 L1102.38 1568.04 Q1095.6 1568.04 1093.02 1565.53 Q1090.44 1562.98 1090.44 1556.3 L1090.44 1536.95 L1086.15 1536.95 L1086.15 1532.4 L1090.44 1532.4 L1090.44 1522.27 L1096.33 1522.27 Z\" fill=\"#000000\" fill-rule=\"nonzero\" fill-opacity=\"1\" /><path clip-path=\"url(#clip600)\" d=\"M1116.1 1532.4 L1121.95 1532.4 L1121.95 1568.04 L1116.1 1568.04 L1116.1 1532.4 M1116.1 1518.52 L1121.95 1518.52 L1121.95 1525.93 L1116.1 1525.93 L1116.1 1518.52 Z\" fill=\"#000000\" fill-rule=\"nonzero\" fill-opacity=\"1\" /><path clip-path=\"url(#clip600)\" d=\"M1130.01 1532.4 L1136.21 1532.4 L1147.35 1562.31 L1158.49 1532.4 L1164.7 1532.4 L1151.33 1568.04 L1143.37 1568.04 L1130.01 1532.4 Z\" fill=\"#000000\" fill-rule=\"nonzero\" fill-opacity=\"1\" /><path clip-path=\"url(#clip600)\" d=\"M1203.28 1548.76 L1203.28 1551.62 L1176.35 1551.62 Q1176.73 1557.67 1179.98 1560.85 Q1183.26 1564 1189.08 1564 Q1192.45 1564 1195.61 1563.17 Q1198.79 1562.35 1201.91 1560.69 L1201.91 1566.23 Q1198.76 1567.57 1195.45 1568.27 Q1192.14 1568.97 1188.73 1568.97 Q1180.2 1568.97 1175.2 1564 Q1170.24 1559.04 1170.24 1550.57 Q1170.24 1541.82 1174.95 1536.69 Q1179.69 1531.54 1187.71 1531.54 Q1194.91 1531.54 1199.07 1536.18 Q1203.28 1540.8 1203.28 1548.76 M1197.42 1547.04 Q1197.36 1542.23 1194.71 1539.37 Q1192.1 1536.5 1187.78 1536.5 Q1182.87 1536.5 1179.91 1539.27 Q1176.99 1542.04 1176.54 1547.07 L1197.42 1547.04 Z\" fill=\"#000000\" fill-rule=\"nonzero\" fill-opacity=\"1\" /><path clip-path=\"url(#clip600)\" d=\"M1233.86 1520.52 L1261.17 1520.52 L1261.17 1525.93 L1240.29 1525.93 L1240.29 1539.94 L1259.14 1539.94 L1259.14 1545.35 L1240.29 1545.35 L1240.29 1568.04 L1233.86 1568.04 L1233.86 1520.52 Z\" fill=\"#000000\" fill-rule=\"nonzero\" fill-opacity=\"1\" /><path clip-path=\"url(#clip600)\" d=\"M1266.93 1553.98 L1266.93 1532.4 L1272.79 1532.4 L1272.79 1553.75 Q1272.79 1558.81 1274.76 1561.36 Q1276.74 1563.87 1280.68 1563.87 Q1285.43 1563.87 1288.16 1560.85 Q1290.93 1557.83 1290.93 1552.61 L1290.93 1532.4 L1296.79 1532.4 L1296.79 1568.04 L1290.93 1568.04 L1290.93 1562.57 Q1288.8 1565.82 1285.97 1567.41 Q1283.17 1568.97 1279.44 1568.97 Q1273.3 1568.97 1270.12 1565.15 Q1266.93 1561.33 1266.93 1553.98 M1281.67 1531.54 L1281.67 1531.54 Z\" fill=\"#000000\" fill-rule=\"nonzero\" fill-opacity=\"1\" /><path clip-path=\"url(#clip600)\" d=\"M1338.48 1546.53 L1338.48 1568.04 L1332.63 1568.04 L1332.63 1546.72 Q1332.63 1541.66 1330.65 1539.14 Q1328.68 1536.63 1324.73 1536.63 Q1319.99 1536.63 1317.25 1539.65 Q1314.52 1542.68 1314.52 1547.9 L1314.52 1568.04 L1308.63 1568.04 L1308.63 1532.4 L1314.52 1532.4 L1314.52 1537.93 Q1316.62 1534.72 1319.45 1533.13 Q1322.31 1531.54 1326.04 1531.54 Q1332.18 1531.54 1335.33 1535.36 Q1338.48 1539.14 1338.48 1546.53 Z\" fill=\"#000000\" fill-rule=\"nonzero\" fill-opacity=\"1\" /><path clip-path=\"url(#clip600)\" d=\"M1375.82 1533.76 L1375.82 1539.24 Q1373.34 1537.87 1370.82 1537.2 Q1368.34 1536.5 1365.79 1536.5 Q1360.1 1536.5 1356.94 1540.13 Q1353.79 1543.73 1353.79 1550.25 Q1353.79 1556.78 1356.94 1560.4 Q1360.1 1564 1365.79 1564 Q1368.34 1564 1370.82 1563.33 Q1373.34 1562.63 1375.82 1561.26 L1375.82 1566.68 Q1373.37 1567.82 1370.73 1568.39 Q1368.12 1568.97 1365.16 1568.97 Q1357.1 1568.97 1352.36 1563.91 Q1347.62 1558.85 1347.62 1550.25 Q1347.62 1541.53 1352.39 1536.53 Q1357.2 1531.54 1365.54 1531.54 Q1368.24 1531.54 1370.82 1532.11 Q1373.4 1532.65 1375.82 1533.76 Z\" fill=\"#000000\" fill-rule=\"nonzero\" fill-opacity=\"1\" /><path clip-path=\"url(#clip600)\" d=\"M1391.8 1522.27 L1391.8 1532.4 L1403.86 1532.4 L1403.86 1536.95 L1391.8 1536.95 L1391.8 1556.3 Q1391.8 1560.66 1392.97 1561.9 Q1394.18 1563.14 1397.84 1563.14 L1403.86 1563.14 L1403.86 1568.04 L1397.84 1568.04 Q1391.06 1568.04 1388.49 1565.53 Q1385.91 1562.98 1385.91 1556.3 L1385.91 1536.95 L1381.61 1536.95 L1381.61 1532.4 L1385.91 1532.4 L1385.91 1522.27 L1391.8 1522.27 Z\" fill=\"#000000\" fill-rule=\"nonzero\" fill-opacity=\"1\" /><path clip-path=\"url(#clip600)\" d=\"M1411.56 1532.4 L1417.42 1532.4 L1417.42 1568.04 L1411.56 1568.04 L1411.56 1532.4 M1411.56 1518.52 L1417.42 1518.52 L1417.42 1525.93 L1411.56 1525.93 L1411.56 1518.52 Z\" fill=\"#000000\" fill-rule=\"nonzero\" fill-opacity=\"1\" /><path clip-path=\"url(#clip600)\" d=\"M1443.49 1536.5 Q1438.78 1536.5 1436.04 1540.19 Q1433.3 1543.85 1433.3 1550.25 Q1433.3 1556.65 1436.01 1560.34 Q1438.74 1564 1443.49 1564 Q1448.16 1564 1450.9 1560.31 Q1453.64 1556.62 1453.64 1550.25 Q1453.64 1543.92 1450.9 1540.23 Q1448.16 1536.5 1443.49 1536.5 M1443.49 1531.54 Q1451.13 1531.54 1455.49 1536.5 Q1459.85 1541.47 1459.85 1550.25 Q1459.85 1559 1455.49 1564 Q1451.13 1568.97 1443.49 1568.97 Q1435.82 1568.97 1431.45 1564 Q1427.13 1559 1427.13 1550.25 Q1427.13 1541.47 1431.45 1536.5 Q1435.82 1531.54 1443.49 1531.54 Z\" fill=\"#000000\" fill-rule=\"nonzero\" fill-opacity=\"1\" /><path clip-path=\"url(#clip600)\" d=\"M1499.19 1546.53 L1499.19 1568.04 L1493.33 1568.04 L1493.33 1546.72 Q1493.33 1541.66 1491.36 1539.14 Q1489.38 1536.63 1485.44 1536.63 Q1480.69 1536.63 1477.96 1539.65 Q1475.22 1542.68 1475.22 1547.9 L1475.22 1568.04 L1469.33 1568.04 L1469.33 1532.4 L1475.22 1532.4 L1475.22 1537.93 Q1477.32 1534.72 1480.15 1533.13 Q1483.02 1531.54 1486.74 1531.54 Q1492.88 1531.54 1496.04 1535.36 Q1499.19 1539.14 1499.19 1546.53 Z\" fill=\"#000000\" fill-rule=\"nonzero\" fill-opacity=\"1\" /><path clip-path=\"url(#clip600)\" d=\"M1544.1 1568.04 L1525.95 1520.52 L1532.67 1520.52 L1547.72 1560.53 L1562.81 1520.52 L1569.5 1520.52 L1551.38 1568.04 L1544.1 1568.04 Z\" fill=\"#000000\" fill-rule=\"nonzero\" fill-opacity=\"1\" /><path clip-path=\"url(#clip600)\" d=\"M1587.32 1550.12 Q1580.22 1550.12 1577.48 1551.75 Q1574.75 1553.37 1574.75 1557.29 Q1574.75 1560.4 1576.78 1562.25 Q1578.85 1564.07 1582.39 1564.07 Q1587.26 1564.07 1590.18 1560.63 Q1593.14 1557.16 1593.14 1551.43 L1593.14 1550.12 L1587.32 1550.12 M1599 1547.71 L1599 1568.04 L1593.14 1568.04 L1593.14 1562.63 Q1591.14 1565.88 1588.15 1567.44 Q1585.15 1568.97 1580.83 1568.97 Q1575.35 1568.97 1572.11 1565.91 Q1568.89 1562.82 1568.89 1557.67 Q1568.89 1551.65 1572.9 1548.6 Q1576.94 1545.54 1584.93 1545.54 L1593.14 1545.54 L1593.14 1544.97 Q1593.14 1540.93 1590.47 1538.73 Q1587.83 1536.5 1583.02 1536.5 Q1579.97 1536.5 1577.07 1537.23 Q1574.17 1537.97 1571.5 1539.43 L1571.5 1534.02 Q1574.72 1532.78 1577.74 1532.17 Q1580.76 1531.54 1583.63 1531.54 Q1591.36 1531.54 1595.18 1535.55 Q1599 1539.56 1599 1547.71 Z\" fill=\"#000000\" fill-rule=\"nonzero\" fill-opacity=\"1\" /><path clip-path=\"url(#clip600)\" d=\"M1611.06 1518.52 L1616.92 1518.52 L1616.92 1568.04 L1611.06 1568.04 L1611.06 1518.52 Z\" fill=\"#000000\" fill-rule=\"nonzero\" fill-opacity=\"1\" /><path clip-path=\"url(#clip600)\" d=\"M1628.57 1553.98 L1628.57 1532.4 L1634.43 1532.4 L1634.43 1553.75 Q1634.43 1558.81 1636.4 1561.36 Q1638.37 1563.87 1642.32 1563.87 Q1647.06 1563.87 1649.8 1560.85 Q1652.57 1557.83 1652.57 1552.61 L1652.57 1532.4 L1658.42 1532.4 L1658.42 1568.04 L1652.57 1568.04 L1652.57 1562.57 Q1650.44 1565.82 1647.6 1567.41 Q1644.8 1568.97 1641.08 1568.97 Q1634.93 1568.97 1631.75 1565.15 Q1628.57 1561.33 1628.57 1553.98 M1643.31 1531.54 L1643.31 1531.54 Z\" fill=\"#000000\" fill-rule=\"nonzero\" fill-opacity=\"1\" /><path clip-path=\"url(#clip600)\" d=\"M1700.98 1548.76 L1700.98 1551.62 L1674.05 1551.62 Q1674.43 1557.67 1677.68 1560.85 Q1680.96 1564 1686.78 1564 Q1690.16 1564 1693.31 1563.17 Q1696.49 1562.35 1699.61 1560.69 L1699.61 1566.23 Q1696.46 1567.57 1693.15 1568.27 Q1689.84 1568.97 1686.43 1568.97 Q1677.9 1568.97 1672.91 1564 Q1667.94 1559.04 1667.94 1550.57 Q1667.94 1541.82 1672.65 1536.69 Q1677.39 1531.54 1685.41 1531.54 Q1692.61 1531.54 1696.78 1536.18 Q1700.98 1540.8 1700.98 1548.76 M1695.12 1547.04 Q1695.06 1542.23 1692.42 1539.37 Q1689.81 1536.5 1685.48 1536.5 Q1680.58 1536.5 1677.62 1539.27 Q1674.69 1542.04 1674.24 1547.07 L1695.12 1547.04 Z\" fill=\"#000000\" fill-rule=\"nonzero\" fill-opacity=\"1\" /><polyline clip-path=\"url(#clip602)\" style=\"stroke:#ffffff; stroke-linecap:round; stroke-linejoin:round; stroke-width:4; stroke-opacity:1; fill:none\" points=\"249.542,1384.24 2352.76,1384.24 \"/>\n",
       "<polyline clip-path=\"url(#clip602)\" style=\"stroke:#ffffff; stroke-linecap:round; stroke-linejoin:round; stroke-width:4; stroke-opacity:1; fill:none\" points=\"249.542,1059.73 2352.76,1059.73 \"/>\n",
       "<polyline clip-path=\"url(#clip602)\" style=\"stroke:#ffffff; stroke-linecap:round; stroke-linejoin:round; stroke-width:4; stroke-opacity:1; fill:none\" points=\"249.542,735.212 2352.76,735.212 \"/>\n",
       "<polyline clip-path=\"url(#clip602)\" style=\"stroke:#ffffff; stroke-linecap:round; stroke-linejoin:round; stroke-width:4; stroke-opacity:1; fill:none\" points=\"249.542,410.699 2352.76,410.699 \"/>\n",
       "<polyline clip-path=\"url(#clip602)\" style=\"stroke:#ffffff; stroke-linecap:round; stroke-linejoin:round; stroke-width:4; stroke-opacity:1; fill:none\" points=\"249.542,86.1857 2352.76,86.1857 \"/>\n",
       "<polyline clip-path=\"url(#clip602)\" style=\"stroke:#ffffff; stroke-linecap:round; stroke-linejoin:round; stroke-width:2; stroke-opacity:1; fill:none\" points=\"249.542,1221.98 2352.76,1221.98 \"/>\n",
       "<polyline clip-path=\"url(#clip602)\" style=\"stroke:#ffffff; stroke-linecap:round; stroke-linejoin:round; stroke-width:2; stroke-opacity:1; fill:none\" points=\"249.542,897.469 2352.76,897.469 \"/>\n",
       "<polyline clip-path=\"url(#clip602)\" style=\"stroke:#ffffff; stroke-linecap:round; stroke-linejoin:round; stroke-width:2; stroke-opacity:1; fill:none\" points=\"249.542,572.955 2352.76,572.955 \"/>\n",
       "<polyline clip-path=\"url(#clip602)\" style=\"stroke:#ffffff; stroke-linecap:round; stroke-linejoin:round; stroke-width:2; stroke-opacity:1; fill:none\" points=\"249.542,248.442 2352.76,248.442 \"/>\n",
       "<polyline clip-path=\"url(#clip600)\" style=\"stroke:#ffffff; stroke-linecap:round; stroke-linejoin:round; stroke-width:4; stroke-opacity:1; fill:none\" points=\"249.542,1423.18 249.542,47.2441 \"/>\n",
       "<polyline clip-path=\"url(#clip600)\" style=\"stroke:#333333; stroke-linecap:round; stroke-linejoin:round; stroke-width:4; stroke-opacity:1; fill:none\" points=\"249.542,1384.24 230.644,1384.24 \"/>\n",
       "<polyline clip-path=\"url(#clip600)\" style=\"stroke:#333333; stroke-linecap:round; stroke-linejoin:round; stroke-width:4; stroke-opacity:1; fill:none\" points=\"249.542,1059.73 230.644,1059.73 \"/>\n",
       "<polyline clip-path=\"url(#clip600)\" style=\"stroke:#333333; stroke-linecap:round; stroke-linejoin:round; stroke-width:4; stroke-opacity:1; fill:none\" points=\"249.542,735.212 230.644,735.212 \"/>\n",
       "<polyline clip-path=\"url(#clip600)\" style=\"stroke:#333333; stroke-linecap:round; stroke-linejoin:round; stroke-width:4; stroke-opacity:1; fill:none\" points=\"249.542,410.699 230.644,410.699 \"/>\n",
       "<polyline clip-path=\"url(#clip600)\" style=\"stroke:#333333; stroke-linecap:round; stroke-linejoin:round; stroke-width:4; stroke-opacity:1; fill:none\" points=\"249.542,86.1857 230.644,86.1857 \"/>\n",
       "<polyline clip-path=\"url(#clip600)\" style=\"stroke:#333333; stroke-linecap:round; stroke-linejoin:round; stroke-width:4; stroke-opacity:1; fill:none\" points=\"249.542,1221.98 240.093,1221.98 \"/>\n",
       "<polyline clip-path=\"url(#clip600)\" style=\"stroke:#333333; stroke-linecap:round; stroke-linejoin:round; stroke-width:4; stroke-opacity:1; fill:none\" points=\"249.542,897.469 240.093,897.469 \"/>\n",
       "<polyline clip-path=\"url(#clip600)\" style=\"stroke:#333333; stroke-linecap:round; stroke-linejoin:round; stroke-width:4; stroke-opacity:1; fill:none\" points=\"249.542,572.955 240.093,572.955 \"/>\n",
       "<polyline clip-path=\"url(#clip600)\" style=\"stroke:#333333; stroke-linecap:round; stroke-linejoin:round; stroke-width:4; stroke-opacity:1; fill:none\" points=\"249.542,248.442 240.093,248.442 \"/>\n",
       "<path clip-path=\"url(#clip600)\" d=\"M108.205 1370.04 Q104.593 1370.04 102.765 1373.6 Q100.959 1377.14 100.959 1384.27 Q100.959 1391.38 102.765 1394.94 Q104.593 1398.49 108.205 1398.49 Q111.839 1398.49 113.644 1394.94 Q115.473 1391.38 115.473 1384.27 Q115.473 1377.14 113.644 1373.6 Q111.839 1370.04 108.205 1370.04 M108.205 1366.33 Q114.015 1366.33 117.07 1370.94 Q120.149 1375.52 120.149 1384.27 Q120.149 1393 117.07 1397.61 Q114.015 1402.19 108.205 1402.19 Q102.394 1402.19 99.3157 1397.61 Q96.2602 1393 96.2602 1384.27 Q96.2602 1375.52 99.3157 1370.94 Q102.394 1366.33 108.205 1366.33 Z\" fill=\"#4c4c4c\" fill-rule=\"nonzero\" fill-opacity=\"1\" /><path clip-path=\"url(#clip600)\" d=\"M128.366 1395.64 L133.251 1395.64 L133.251 1401.52 L128.366 1401.52 L128.366 1395.64 Z\" fill=\"#4c4c4c\" fill-rule=\"nonzero\" fill-opacity=\"1\" /><path clip-path=\"url(#clip600)\" d=\"M153.436 1370.04 Q149.825 1370.04 147.996 1373.6 Q146.19 1377.14 146.19 1384.27 Q146.19 1391.38 147.996 1394.94 Q149.825 1398.49 153.436 1398.49 Q157.07 1398.49 158.876 1394.94 Q160.704 1391.38 160.704 1384.27 Q160.704 1377.14 158.876 1373.6 Q157.07 1370.04 153.436 1370.04 M153.436 1366.33 Q159.246 1366.33 162.301 1370.94 Q165.38 1375.52 165.38 1384.27 Q165.38 1393 162.301 1397.61 Q159.246 1402.19 153.436 1402.19 Q147.626 1402.19 144.547 1397.61 Q141.491 1393 141.491 1384.27 Q141.491 1375.52 144.547 1370.94 Q147.626 1366.33 153.436 1366.33 Z\" fill=\"#4c4c4c\" fill-rule=\"nonzero\" fill-opacity=\"1\" /><path clip-path=\"url(#clip600)\" d=\"M183.598 1370.04 Q179.987 1370.04 178.158 1373.6 Q176.352 1377.14 176.352 1384.27 Q176.352 1391.38 178.158 1394.94 Q179.987 1398.49 183.598 1398.49 Q187.232 1398.49 189.037 1394.94 Q190.866 1391.38 190.866 1384.27 Q190.866 1377.14 189.037 1373.6 Q187.232 1370.04 183.598 1370.04 M183.598 1366.33 Q189.408 1366.33 192.463 1370.94 Q195.542 1375.52 195.542 1384.27 Q195.542 1393 192.463 1397.61 Q189.408 1402.19 183.598 1402.19 Q177.787 1402.19 174.709 1397.61 Q171.653 1393 171.653 1384.27 Q171.653 1375.52 174.709 1370.94 Q177.787 1366.33 183.598 1366.33 Z\" fill=\"#4c4c4c\" fill-rule=\"nonzero\" fill-opacity=\"1\" /><path clip-path=\"url(#clip600)\" d=\"M109.2 1045.52 Q105.589 1045.52 103.76 1049.09 Q101.955 1052.63 101.955 1059.76 Q101.955 1066.87 103.76 1070.43 Q105.589 1073.97 109.2 1073.97 Q112.834 1073.97 114.64 1070.43 Q116.468 1066.87 116.468 1059.76 Q116.468 1052.63 114.64 1049.09 Q112.834 1045.52 109.2 1045.52 M109.2 1041.82 Q115.01 1041.82 118.066 1046.43 Q121.144 1051.01 121.144 1059.76 Q121.144 1068.49 118.066 1073.09 Q115.01 1077.68 109.2 1077.68 Q103.39 1077.68 100.311 1073.09 Q97.2555 1068.49 97.2555 1059.76 Q97.2555 1051.01 100.311 1046.43 Q103.39 1041.82 109.2 1041.82 Z\" fill=\"#4c4c4c\" fill-rule=\"nonzero\" fill-opacity=\"1\" /><path clip-path=\"url(#clip600)\" d=\"M129.362 1071.13 L134.246 1071.13 L134.246 1077.01 L129.362 1077.01 L129.362 1071.13 Z\" fill=\"#4c4c4c\" fill-rule=\"nonzero\" fill-opacity=\"1\" /><path clip-path=\"url(#clip600)\" d=\"M148.459 1073.07 L164.778 1073.07 L164.778 1077.01 L142.834 1077.01 L142.834 1073.07 Q145.496 1070.32 150.079 1065.69 Q154.686 1061.03 155.866 1059.69 Q158.112 1057.17 158.991 1055.43 Q159.894 1053.67 159.894 1051.98 Q159.894 1049.23 157.95 1047.49 Q156.028 1045.76 152.927 1045.76 Q150.727 1045.76 148.274 1046.52 Q145.843 1047.28 143.065 1048.83 L143.065 1044.11 Q145.89 1042.98 148.343 1042.4 Q150.797 1041.82 152.834 1041.82 Q158.204 1041.82 161.399 1044.51 Q164.593 1047.19 164.593 1051.68 Q164.593 1053.81 163.783 1055.73 Q162.996 1057.63 160.889 1060.22 Q160.311 1060.89 157.209 1064.11 Q154.107 1067.31 148.459 1073.07 Z\" fill=\"#4c4c4c\" fill-rule=\"nonzero\" fill-opacity=\"1\" /><path clip-path=\"url(#clip600)\" d=\"M174.639 1042.45 L192.996 1042.45 L192.996 1046.38 L178.922 1046.38 L178.922 1054.85 Q179.94 1054.51 180.959 1054.34 Q181.977 1054.16 182.996 1054.16 Q188.783 1054.16 192.162 1057.33 Q195.542 1060.5 195.542 1065.92 Q195.542 1071.5 192.07 1074.6 Q188.598 1077.68 182.278 1077.68 Q180.102 1077.68 177.834 1077.31 Q175.588 1076.94 173.181 1076.19 L173.181 1071.5 Q175.264 1072.63 177.487 1073.19 Q179.709 1073.74 182.186 1073.74 Q186.19 1073.74 188.528 1071.63 Q190.866 1069.53 190.866 1065.92 Q190.866 1062.31 188.528 1060.2 Q186.19 1058.09 182.186 1058.09 Q180.311 1058.09 178.436 1058.51 Q176.584 1058.93 174.639 1059.81 L174.639 1042.45 Z\" fill=\"#4c4c4c\" fill-rule=\"nonzero\" fill-opacity=\"1\" /><path clip-path=\"url(#clip600)\" d=\"M108.205 721.011 Q104.593 721.011 102.765 724.575 Q100.959 728.117 100.959 735.247 Q100.959 742.353 102.765 745.918 Q104.593 749.46 108.205 749.46 Q111.839 749.46 113.644 745.918 Q115.473 742.353 115.473 735.247 Q115.473 728.117 113.644 724.575 Q111.839 721.011 108.205 721.011 M108.205 717.307 Q114.015 717.307 117.07 721.913 Q120.149 726.497 120.149 735.247 Q120.149 743.973 117.07 748.58 Q114.015 753.163 108.205 753.163 Q102.394 753.163 99.3157 748.58 Q96.2602 743.973 96.2602 735.247 Q96.2602 726.497 99.3157 721.913 Q102.394 717.307 108.205 717.307 Z\" fill=\"#4c4c4c\" fill-rule=\"nonzero\" fill-opacity=\"1\" /><path clip-path=\"url(#clip600)\" d=\"M128.366 746.612 L133.251 746.612 L133.251 752.492 L128.366 752.492 L128.366 746.612 Z\" fill=\"#4c4c4c\" fill-rule=\"nonzero\" fill-opacity=\"1\" /><path clip-path=\"url(#clip600)\" d=\"M143.482 717.932 L161.839 717.932 L161.839 721.867 L147.765 721.867 L147.765 730.339 Q148.783 729.992 149.802 729.83 Q150.82 729.645 151.839 729.645 Q157.626 729.645 161.005 732.816 Q164.385 735.987 164.385 741.404 Q164.385 746.983 160.913 750.085 Q157.44 753.163 151.121 753.163 Q148.945 753.163 146.677 752.793 Q144.431 752.423 142.024 751.682 L142.024 746.983 Q144.107 748.117 146.329 748.673 Q148.552 749.228 151.028 749.228 Q155.033 749.228 157.371 747.122 Q159.709 745.015 159.709 741.404 Q159.709 737.793 157.371 735.687 Q155.033 733.58 151.028 733.58 Q149.153 733.58 147.278 733.997 Q145.427 734.413 143.482 735.293 L143.482 717.932 Z\" fill=\"#4c4c4c\" fill-rule=\"nonzero\" fill-opacity=\"1\" /><path clip-path=\"url(#clip600)\" d=\"M183.598 721.011 Q179.987 721.011 178.158 724.575 Q176.352 728.117 176.352 735.247 Q176.352 742.353 178.158 745.918 Q179.987 749.46 183.598 749.46 Q187.232 749.46 189.037 745.918 Q190.866 742.353 190.866 735.247 Q190.866 728.117 189.037 724.575 Q187.232 721.011 183.598 721.011 M183.598 717.307 Q189.408 717.307 192.463 721.913 Q195.542 726.497 195.542 735.247 Q195.542 743.973 192.463 748.58 Q189.408 753.163 183.598 753.163 Q177.787 753.163 174.709 748.58 Q171.653 743.973 171.653 735.247 Q171.653 726.497 174.709 721.913 Q177.787 717.307 183.598 717.307 Z\" fill=\"#4c4c4c\" fill-rule=\"nonzero\" fill-opacity=\"1\" /><path clip-path=\"url(#clip600)\" d=\"M109.2 396.498 Q105.589 396.498 103.76 400.062 Q101.955 403.604 101.955 410.734 Q101.955 417.84 103.76 421.405 Q105.589 424.946 109.2 424.946 Q112.834 424.946 114.64 421.405 Q116.468 417.84 116.468 410.734 Q116.468 403.604 114.64 400.062 Q112.834 396.498 109.2 396.498 M109.2 392.794 Q115.01 392.794 118.066 397.4 Q121.144 401.984 121.144 410.734 Q121.144 419.46 118.066 424.067 Q115.01 428.65 109.2 428.65 Q103.39 428.65 100.311 424.067 Q97.2555 419.46 97.2555 410.734 Q97.2555 401.984 100.311 397.4 Q103.39 392.794 109.2 392.794 Z\" fill=\"#4c4c4c\" fill-rule=\"nonzero\" fill-opacity=\"1\" /><path clip-path=\"url(#clip600)\" d=\"M129.362 422.099 L134.246 422.099 L134.246 427.979 L129.362 427.979 L129.362 422.099 Z\" fill=\"#4c4c4c\" fill-rule=\"nonzero\" fill-opacity=\"1\" /><path clip-path=\"url(#clip600)\" d=\"M143.251 393.419 L165.473 393.419 L165.473 395.41 L152.927 427.979 L148.042 427.979 L159.848 397.354 L143.251 397.354 L143.251 393.419 Z\" fill=\"#4c4c4c\" fill-rule=\"nonzero\" fill-opacity=\"1\" /><path clip-path=\"url(#clip600)\" d=\"M174.639 393.419 L192.996 393.419 L192.996 397.354 L178.922 397.354 L178.922 405.826 Q179.94 405.479 180.959 405.317 Q181.977 405.132 182.996 405.132 Q188.783 405.132 192.162 408.303 Q195.542 411.474 195.542 416.891 Q195.542 422.47 192.07 425.571 Q188.598 428.65 182.278 428.65 Q180.102 428.65 177.834 428.28 Q175.588 427.909 173.181 427.169 L173.181 422.47 Q175.264 423.604 177.487 424.159 Q179.709 424.715 182.186 424.715 Q186.19 424.715 188.528 422.608 Q190.866 420.502 190.866 416.891 Q190.866 413.28 188.528 411.173 Q186.19 409.067 182.186 409.067 Q180.311 409.067 178.436 409.484 Q176.584 409.9 174.639 410.78 L174.639 393.419 Z\" fill=\"#4c4c4c\" fill-rule=\"nonzero\" fill-opacity=\"1\" /><path clip-path=\"url(#clip600)\" d=\"M99.0148 99.5305 L106.654 99.5305 L106.654 73.1649 L98.3435 74.8316 L98.3435 70.5723 L106.607 68.9057 L111.283 68.9057 L111.283 99.5305 L118.922 99.5305 L118.922 103.466 L99.0148 103.466 L99.0148 99.5305 Z\" fill=\"#4c4c4c\" fill-rule=\"nonzero\" fill-opacity=\"1\" /><path clip-path=\"url(#clip600)\" d=\"M128.366 97.5861 L133.251 97.5861 L133.251 103.466 L128.366 103.466 L128.366 97.5861 Z\" fill=\"#4c4c4c\" fill-rule=\"nonzero\" fill-opacity=\"1\" /><path clip-path=\"url(#clip600)\" d=\"M153.436 71.9844 Q149.825 71.9844 147.996 75.5492 Q146.19 79.0908 146.19 86.2204 Q146.19 93.3268 147.996 96.8916 Q149.825 100.433 153.436 100.433 Q157.07 100.433 158.876 96.8916 Q160.704 93.3268 160.704 86.2204 Q160.704 79.0908 158.876 75.5492 Q157.07 71.9844 153.436 71.9844 M153.436 68.2807 Q159.246 68.2807 162.301 72.8871 Q165.38 77.4704 165.38 86.2204 Q165.38 94.9472 162.301 99.5537 Q159.246 104.137 153.436 104.137 Q147.626 104.137 144.547 99.5537 Q141.491 94.9472 141.491 86.2204 Q141.491 77.4704 144.547 72.8871 Q147.626 68.2807 153.436 68.2807 Z\" fill=\"#4c4c4c\" fill-rule=\"nonzero\" fill-opacity=\"1\" /><path clip-path=\"url(#clip600)\" d=\"M183.598 71.9844 Q179.987 71.9844 178.158 75.5492 Q176.352 79.0908 176.352 86.2204 Q176.352 93.3268 178.158 96.8916 Q179.987 100.433 183.598 100.433 Q187.232 100.433 189.037 96.8916 Q190.866 93.3268 190.866 86.2204 Q190.866 79.0908 189.037 75.5492 Q187.232 71.9844 183.598 71.9844 M183.598 68.2807 Q189.408 68.2807 192.463 72.8871 Q195.542 77.4704 195.542 86.2204 Q195.542 94.9472 192.463 99.5537 Q189.408 104.137 183.598 104.137 Q177.787 104.137 174.709 99.5537 Q171.653 94.9472 171.653 86.2204 Q171.653 77.4704 174.709 72.8871 Q177.787 68.2807 183.598 68.2807 Z\" fill=\"#4c4c4c\" fill-rule=\"nonzero\" fill-opacity=\"1\" /><path clip-path=\"url(#clip600)\" d=\"M21.7677 920.008 L39.6235 920.008 L39.6235 911.924 Q39.6235 907.436 37.3 904.985 Q34.9765 902.535 30.6797 902.535 Q26.4147 902.535 24.0912 904.985 Q21.7677 907.436 21.7677 911.924 L21.7677 920.008 M16.4842 926.438 L16.4842 911.924 Q16.4842 903.935 20.1126 899.861 Q23.7092 895.755 30.6797 895.755 Q37.7138 895.755 41.3104 899.861 Q44.907 903.935 44.907 911.924 L44.907 920.008 L64.0042 920.008 L64.0042 926.438 L16.4842 926.438 Z\" fill=\"#000000\" fill-rule=\"nonzero\" fill-opacity=\"1\" /><path clip-path=\"url(#clip600)\" d=\"M33.8307 867.873 Q33.2578 868.86 33.0032 870.038 Q32.7167 871.183 32.7167 872.584 Q32.7167 877.549 35.9632 880.223 Q39.1779 882.865 45.2253 882.865 L64.0042 882.865 L64.0042 888.753 L28.3562 888.753 L28.3562 882.865 L33.8944 882.865 Q30.6479 881.018 29.0883 878.058 Q27.4968 875.098 27.4968 870.865 Q27.4968 870.26 27.5923 869.528 Q27.656 868.796 27.8151 867.905 L33.8307 867.873 Z\" fill=\"#000000\" fill-rule=\"nonzero\" fill-opacity=\"1\" /><path clip-path=\"url(#clip600)\" d=\"M32.4621 849.349 Q32.4621 854.06 36.1542 856.797 Q39.8145 859.534 46.212 859.534 Q52.6095 859.534 56.3017 856.829 Q59.9619 854.092 59.9619 849.349 Q59.9619 844.67 56.2698 841.933 Q52.5777 839.196 46.212 839.196 Q39.8781 839.196 36.186 841.933 Q32.4621 844.67 32.4621 849.349 M27.4968 849.349 Q27.4968 841.71 32.4621 837.35 Q37.4273 832.989 46.212 832.989 Q54.9649 832.989 59.9619 837.35 Q64.9272 841.71 64.9272 849.349 Q64.9272 857.02 59.9619 861.38 Q54.9649 865.709 46.212 865.709 Q37.4273 865.709 32.4621 861.38 Q27.4968 857.02 27.4968 849.349 Z\" fill=\"#000000\" fill-rule=\"nonzero\" fill-opacity=\"1\" /><path clip-path=\"url(#clip600)\" d=\"M46.212 797.691 Q39.7508 797.691 36.0905 800.365 Q32.3984 803.007 32.3984 807.654 Q32.3984 812.301 36.0905 814.974 Q39.7508 817.616 46.212 817.616 Q52.6732 817.616 56.3653 814.974 Q60.0256 812.301 60.0256 807.654 Q60.0256 803.007 56.3653 800.365 Q52.6732 797.691 46.212 797.691 M33.7671 817.616 Q30.5842 815.77 29.0564 812.969 Q27.4968 810.136 27.4968 806.221 Q27.4968 799.728 32.6531 795.686 Q37.8093 791.612 46.212 791.612 Q54.6147 791.612 59.771 795.686 Q64.9272 799.728 64.9272 806.221 Q64.9272 810.136 63.3994 812.969 Q61.8398 815.77 58.657 817.616 L64.0042 817.616 L64.0042 823.504 L14.479 823.504 L14.479 817.616 L33.7671 817.616 Z\" fill=\"#000000\" fill-rule=\"nonzero\" fill-opacity=\"1\" /><path clip-path=\"url(#clip600)\" d=\"M32.4621 747.37 Q32.4621 752.081 36.1542 754.818 Q39.8145 757.556 46.212 757.556 Q52.6095 757.556 56.3017 754.85 Q59.9619 752.113 59.9619 747.37 Q59.9619 742.692 56.2698 739.954 Q52.5777 737.217 46.212 737.217 Q39.8781 737.217 36.186 739.954 Q32.4621 742.692 32.4621 747.37 M27.4968 747.37 Q27.4968 739.732 32.4621 735.371 Q37.4273 731.011 46.212 731.011 Q54.9649 731.011 59.9619 735.371 Q64.9272 739.732 64.9272 747.37 Q64.9272 755.041 59.9619 759.402 Q54.9649 763.73 46.212 763.73 Q37.4273 763.73 32.4621 759.402 Q27.4968 755.041 27.4968 747.37 Z\" fill=\"#000000\" fill-rule=\"nonzero\" fill-opacity=\"1\" /><path clip-path=\"url(#clip600)\" d=\"M14.479 703.256 L19.3487 703.256 L19.3487 708.858 Q19.3487 712.009 20.6219 713.25 Q21.895 714.46 25.2052 714.46 L28.3562 714.46 L28.3562 704.816 L32.9077 704.816 L32.9077 714.46 L64.0042 714.46 L64.0042 720.348 L32.9077 720.348 L32.9077 725.95 L28.3562 725.95 L28.3562 720.348 L25.8736 720.348 Q19.9216 720.348 17.2162 717.579 Q14.479 714.81 14.479 708.794 L14.479 703.256 Z\" fill=\"#000000\" fill-rule=\"nonzero\" fill-opacity=\"1\" /><path clip-path=\"url(#clip600)\" d=\"M16.4842 677.38 L16.4842 670.95 L58.5933 670.95 L58.5933 647.811 L64.0042 647.811 L64.0042 677.38 L16.4842 677.38 Z\" fill=\"#000000\" fill-rule=\"nonzero\" fill-opacity=\"1\" /><path clip-path=\"url(#clip600)\" d=\"M32.4621 628.65 Q32.4621 633.361 36.1542 636.098 Q39.8145 638.835 46.212 638.835 Q52.6095 638.835 56.3017 636.13 Q59.9619 633.392 59.9619 628.65 Q59.9619 623.971 56.2698 621.234 Q52.5777 618.497 46.212 618.497 Q39.8781 618.497 36.186 621.234 Q32.4621 623.971 32.4621 628.65 M27.4968 628.65 Q27.4968 621.011 32.4621 616.651 Q37.4273 612.29 46.212 612.29 Q54.9649 612.29 59.9619 616.651 Q64.9272 621.011 64.9272 628.65 Q64.9272 636.321 59.9619 640.681 Q54.9649 645.01 46.212 645.01 Q37.4273 645.01 32.4621 640.681 Q27.4968 636.321 27.4968 628.65 Z\" fill=\"#000000\" fill-rule=\"nonzero\" fill-opacity=\"1\" /><path clip-path=\"url(#clip600)\" d=\"M29.4065 579.857 L34.9447 579.857 Q33.6716 582.34 33.035 585.013 Q32.3984 587.687 32.3984 590.551 Q32.3984 594.912 33.7352 597.108 Q35.072 599.272 37.7456 599.272 Q39.7826 599.272 40.9603 597.713 Q42.1061 596.153 43.1565 591.442 L43.6021 589.437 Q44.9389 583.199 47.3897 580.589 Q49.8086 577.947 54.1691 577.947 Q59.1344 577.947 62.0308 581.894 Q64.9272 585.809 64.9272 592.684 Q64.9272 595.548 64.3543 598.668 Q63.8132 601.755 62.6992 605.192 L56.6518 605.192 Q58.3387 601.946 59.198 598.795 Q60.0256 595.644 60.0256 592.556 Q60.0256 588.419 58.6251 586.191 Q57.1929 583.963 54.6147 583.963 Q52.2276 583.963 50.9545 585.586 Q49.6813 587.177 48.5037 592.62 L48.0262 594.657 Q46.8804 600.1 44.5251 602.519 Q42.138 604.938 38.0002 604.938 Q32.9713 604.938 30.2341 601.373 Q27.4968 597.808 27.4968 591.252 Q27.4968 588.005 27.9743 585.14 Q28.4517 582.276 29.4065 579.857 Z\" fill=\"#000000\" fill-rule=\"nonzero\" fill-opacity=\"1\" /><path clip-path=\"url(#clip600)\" d=\"M29.4065 545.896 L34.9447 545.896 Q33.6716 548.378 33.035 551.052 Q32.3984 553.726 32.3984 556.59 Q32.3984 560.951 33.7352 563.147 Q35.072 565.311 37.7456 565.311 Q39.7826 565.311 40.9603 563.752 Q42.1061 562.192 43.1565 557.481 L43.6021 555.476 Q44.9389 549.238 47.3897 546.628 Q49.8086 543.986 54.1691 543.986 Q59.1344 543.986 62.0308 547.933 Q64.9272 551.848 64.9272 558.723 Q64.9272 561.587 64.3543 564.707 Q63.8132 567.794 62.6992 571.231 L56.6518 571.231 Q58.3387 567.985 59.198 564.834 Q60.0256 561.683 60.0256 558.595 Q60.0256 554.458 58.6251 552.23 Q57.1929 550.002 54.6147 550.002 Q52.2276 550.002 50.9545 551.625 Q49.6813 553.216 48.5037 558.659 L48.0262 560.696 Q46.8804 566.139 44.5251 568.558 Q42.138 570.977 38.0002 570.977 Q32.9713 570.977 30.2341 567.412 Q27.4968 563.847 27.4968 557.29 Q27.4968 554.044 27.9743 551.179 Q28.4517 548.315 29.4065 545.896 Z\" fill=\"#000000\" fill-rule=\"nonzero\" fill-opacity=\"1\" /><circle clip-path=\"url(#clip602)\" cx=\"309.067\" cy=\"1384.24\" r=\"14.4\" fill=\"#000003\" fill-rule=\"evenodd\" fill-opacity=\"1\" stroke=\"none\"/>\n",
       "<circle clip-path=\"url(#clip602)\" cx=\"309.067\" cy=\"1384.24\" r=\"14.4\" fill=\"#08061f\" fill-rule=\"evenodd\" fill-opacity=\"1\" stroke=\"none\"/>\n",
       "<circle clip-path=\"url(#clip602)\" cx=\"309.067\" cy=\"1384.24\" r=\"14.4\" fill=\"#1b0c41\" fill-rule=\"evenodd\" fill-opacity=\"1\" stroke=\"none\"/>\n",
       "<circle clip-path=\"url(#clip602)\" cx=\"309.067\" cy=\"1384.24\" r=\"14.4\" fill=\"#33095e\" fill-rule=\"evenodd\" fill-opacity=\"1\" stroke=\"none\"/>\n",
       "<circle clip-path=\"url(#clip602)\" cx=\"309.067\" cy=\"1384.24\" r=\"14.4\" fill=\"#4b0b6b\" fill-rule=\"evenodd\" fill-opacity=\"1\" stroke=\"none\"/>\n",
       "<circle clip-path=\"url(#clip602)\" cx=\"309.067\" cy=\"1384.24\" r=\"14.4\" fill=\"#61136e\" fill-rule=\"evenodd\" fill-opacity=\"1\" stroke=\"none\"/>\n",
       "<circle clip-path=\"url(#clip602)\" cx=\"309.067\" cy=\"1384.24\" r=\"14.4\" fill=\"#781c6d\" fill-rule=\"evenodd\" fill-opacity=\"1\" stroke=\"none\"/>\n",
       "<circle clip-path=\"url(#clip602)\" cx=\"309.067\" cy=\"1384.24\" r=\"14.4\" fill=\"#8e2468\" fill-rule=\"evenodd\" fill-opacity=\"1\" stroke=\"none\"/>\n",
       "<circle clip-path=\"url(#clip602)\" cx=\"309.067\" cy=\"1384.24\" r=\"14.4\" fill=\"#a52c60\" fill-rule=\"evenodd\" fill-opacity=\"1\" stroke=\"none\"/>\n",
       "<circle clip-path=\"url(#clip602)\" cx=\"309.067\" cy=\"1384.24\" r=\"14.4\" fill=\"#ba3654\" fill-rule=\"evenodd\" fill-opacity=\"1\" stroke=\"none\"/>\n",
       "<circle clip-path=\"url(#clip602)\" cx=\"309.067\" cy=\"1384.24\" r=\"14.4\" fill=\"#ce4346\" fill-rule=\"evenodd\" fill-opacity=\"1\" stroke=\"none\"/>\n",
       "<circle clip-path=\"url(#clip602)\" cx=\"309.067\" cy=\"1384.24\" r=\"14.4\" fill=\"#df5436\" fill-rule=\"evenodd\" fill-opacity=\"1\" stroke=\"none\"/>\n",
       "<circle clip-path=\"url(#clip602)\" cx=\"309.067\" cy=\"1384.24\" r=\"14.4\" fill=\"#ed6825\" fill-rule=\"evenodd\" fill-opacity=\"1\" stroke=\"none\"/>\n",
       "<circle clip-path=\"url(#clip602)\" cx=\"309.067\" cy=\"1384.24\" r=\"14.4\" fill=\"#f68012\" fill-rule=\"evenodd\" fill-opacity=\"1\" stroke=\"none\"/>\n",
       "<circle clip-path=\"url(#clip602)\" cx=\"309.067\" cy=\"1384.24\" r=\"14.4\" fill=\"#fb9906\" fill-rule=\"evenodd\" fill-opacity=\"1\" stroke=\"none\"/>\n",
       "<circle clip-path=\"url(#clip602)\" cx=\"309.067\" cy=\"1384.24\" r=\"14.4\" fill=\"#fbb419\" fill-rule=\"evenodd\" fill-opacity=\"1\" stroke=\"none\"/>\n",
       "<circle clip-path=\"url(#clip602)\" cx=\"309.067\" cy=\"1384.24\" r=\"14.4\" fill=\"#f7d03b\" fill-rule=\"evenodd\" fill-opacity=\"1\" stroke=\"none\"/>\n",
       "<circle clip-path=\"url(#clip602)\" cx=\"309.067\" cy=\"1384.24\" r=\"14.4\" fill=\"#f1eb6c\" fill-rule=\"evenodd\" fill-opacity=\"1\" stroke=\"none\"/>\n",
       "<circle clip-path=\"url(#clip602)\" cx=\"309.067\" cy=\"1384.24\" r=\"14.4\" fill=\"#fcfea4\" fill-rule=\"evenodd\" fill-opacity=\"1\" stroke=\"none\"/>\n",
       "</svg>\n"
      ],
      "text/html": [
       "<?xml version=\"1.0\" encoding=\"utf-8\"?>\n",
       "<svg xmlns=\"http://www.w3.org/2000/svg\" xmlns:xlink=\"http://www.w3.org/1999/xlink\" width=\"600\" height=\"400\" viewBox=\"0 0 2400 1600\">\n",
       "<defs>\n",
       "  <clipPath id=\"clip650\">\n",
       "    <rect x=\"0\" y=\"0\" width=\"2400\" height=\"1600\"/>\n",
       "  </clipPath>\n",
       "</defs>\n",
       "<path clip-path=\"url(#clip650)\" d=\"M0 1600 L2400 1600 L2400 0 L0 0  Z\" fill=\"#ffffff\" fill-rule=\"evenodd\" fill-opacity=\"1\"/>\n",
       "<defs>\n",
       "  <clipPath id=\"clip651\">\n",
       "    <rect x=\"480\" y=\"0\" width=\"1681\" height=\"1600\"/>\n",
       "  </clipPath>\n",
       "</defs>\n",
       "<path clip-path=\"url(#clip650)\" d=\"M249.542 1423.18 L2352.76 1423.18 L2352.76 47.2441 L249.542 47.2441  Z\" fill=\"#eaeaea\" fill-rule=\"evenodd\" fill-opacity=\"1\"/>\n",
       "<defs>\n",
       "  <clipPath id=\"clip652\">\n",
       "    <rect x=\"249\" y=\"47\" width=\"2104\" height=\"1377\"/>\n",
       "  </clipPath>\n",
       "</defs>\n",
       "<polyline clip-path=\"url(#clip652)\" style=\"stroke:#ffffff; stroke-linecap:round; stroke-linejoin:round; stroke-width:4; stroke-opacity:1; fill:none\" points=\"309.067,1423.18 309.067,47.2441 \"/>\n",
       "<polyline clip-path=\"url(#clip652)\" style=\"stroke:#ffffff; stroke-linecap:round; stroke-linejoin:round; stroke-width:4; stroke-opacity:1; fill:none\" points=\"805.108,1423.18 805.108,47.2441 \"/>\n",
       "<polyline clip-path=\"url(#clip652)\" style=\"stroke:#ffffff; stroke-linecap:round; stroke-linejoin:round; stroke-width:4; stroke-opacity:1; fill:none\" points=\"1301.15,1423.18 1301.15,47.2441 \"/>\n",
       "<polyline clip-path=\"url(#clip652)\" style=\"stroke:#ffffff; stroke-linecap:round; stroke-linejoin:round; stroke-width:4; stroke-opacity:1; fill:none\" points=\"1797.19,1423.18 1797.19,47.2441 \"/>\n",
       "<polyline clip-path=\"url(#clip652)\" style=\"stroke:#ffffff; stroke-linecap:round; stroke-linejoin:round; stroke-width:4; stroke-opacity:1; fill:none\" points=\"2293.23,1423.18 2293.23,47.2441 \"/>\n",
       "<polyline clip-path=\"url(#clip652)\" style=\"stroke:#ffffff; stroke-linecap:round; stroke-linejoin:round; stroke-width:2; stroke-opacity:1; fill:none\" points=\"557.087,1423.18 557.087,47.2441 \"/>\n",
       "<polyline clip-path=\"url(#clip652)\" style=\"stroke:#ffffff; stroke-linecap:round; stroke-linejoin:round; stroke-width:2; stroke-opacity:1; fill:none\" points=\"1053.13,1423.18 1053.13,47.2441 \"/>\n",
       "<polyline clip-path=\"url(#clip652)\" style=\"stroke:#ffffff; stroke-linecap:round; stroke-linejoin:round; stroke-width:2; stroke-opacity:1; fill:none\" points=\"1549.17,1423.18 1549.17,47.2441 \"/>\n",
       "<polyline clip-path=\"url(#clip652)\" style=\"stroke:#ffffff; stroke-linecap:round; stroke-linejoin:round; stroke-width:2; stroke-opacity:1; fill:none\" points=\"2045.21,1423.18 2045.21,47.2441 \"/>\n",
       "<polyline clip-path=\"url(#clip650)\" style=\"stroke:#ffffff; stroke-linecap:round; stroke-linejoin:round; stroke-width:4; stroke-opacity:1; fill:none\" points=\"249.542,1423.18 2352.76,1423.18 \"/>\n",
       "<polyline clip-path=\"url(#clip650)\" style=\"stroke:#333333; stroke-linecap:round; stroke-linejoin:round; stroke-width:4; stroke-opacity:1; fill:none\" points=\"309.067,1423.18 309.067,1442.08 \"/>\n",
       "<polyline clip-path=\"url(#clip650)\" style=\"stroke:#333333; stroke-linecap:round; stroke-linejoin:round; stroke-width:4; stroke-opacity:1; fill:none\" points=\"805.108,1423.18 805.108,1442.08 \"/>\n",
       "<polyline clip-path=\"url(#clip650)\" style=\"stroke:#333333; stroke-linecap:round; stroke-linejoin:round; stroke-width:4; stroke-opacity:1; fill:none\" points=\"1301.15,1423.18 1301.15,1442.08 \"/>\n",
       "<polyline clip-path=\"url(#clip650)\" style=\"stroke:#333333; stroke-linecap:round; stroke-linejoin:round; stroke-width:4; stroke-opacity:1; fill:none\" points=\"1797.19,1423.18 1797.19,1442.08 \"/>\n",
       "<polyline clip-path=\"url(#clip650)\" style=\"stroke:#333333; stroke-linecap:round; stroke-linejoin:round; stroke-width:4; stroke-opacity:1; fill:none\" points=\"2293.23,1423.18 2293.23,1442.08 \"/>\n",
       "<polyline clip-path=\"url(#clip650)\" style=\"stroke:#333333; stroke-linecap:round; stroke-linejoin:round; stroke-width:4; stroke-opacity:1; fill:none\" points=\"557.087,1423.18 557.087,1432.63 \"/>\n",
       "<polyline clip-path=\"url(#clip650)\" style=\"stroke:#333333; stroke-linecap:round; stroke-linejoin:round; stroke-width:4; stroke-opacity:1; fill:none\" points=\"1053.13,1423.18 1053.13,1432.63 \"/>\n",
       "<polyline clip-path=\"url(#clip650)\" style=\"stroke:#333333; stroke-linecap:round; stroke-linejoin:round; stroke-width:4; stroke-opacity:1; fill:none\" points=\"1549.17,1423.18 1549.17,1432.63 \"/>\n",
       "<polyline clip-path=\"url(#clip650)\" style=\"stroke:#333333; stroke-linecap:round; stroke-linejoin:round; stroke-width:4; stroke-opacity:1; fill:none\" points=\"2045.21,1423.18 2045.21,1432.63 \"/>\n",
       "<path clip-path=\"url(#clip650)\" d=\"M271.37 1463.7 Q267.759 1463.7 265.931 1467.26 Q264.125 1470.8 264.125 1477.93 Q264.125 1485.04 265.931 1488.61 Q267.759 1492.15 271.37 1492.15 Q275.005 1492.15 276.81 1488.61 Q278.639 1485.04 278.639 1477.93 Q278.639 1470.8 276.81 1467.26 Q275.005 1463.7 271.37 1463.7 M271.37 1459.99 Q277.181 1459.99 280.236 1464.6 Q283.315 1469.18 283.315 1477.93 Q283.315 1486.66 280.236 1491.27 Q277.181 1495.85 271.37 1495.85 Q265.56 1495.85 262.482 1491.27 Q259.426 1486.66 259.426 1477.93 Q259.426 1469.18 262.482 1464.6 Q265.56 1459.99 271.37 1459.99 Z\" fill=\"#4c4c4c\" fill-rule=\"nonzero\" fill-opacity=\"1\" /><path clip-path=\"url(#clip650)\" d=\"M291.532 1489.3 L296.417 1489.3 L296.417 1495.18 L291.532 1495.18 L291.532 1489.3 Z\" fill=\"#4c4c4c\" fill-rule=\"nonzero\" fill-opacity=\"1\" /><path clip-path=\"url(#clip650)\" d=\"M316.602 1463.7 Q312.991 1463.7 311.162 1467.26 Q309.356 1470.8 309.356 1477.93 Q309.356 1485.04 311.162 1488.61 Q312.991 1492.15 316.602 1492.15 Q320.236 1492.15 322.041 1488.61 Q323.87 1485.04 323.87 1477.93 Q323.87 1470.8 322.041 1467.26 Q320.236 1463.7 316.602 1463.7 M316.602 1459.99 Q322.412 1459.99 325.467 1464.6 Q328.546 1469.18 328.546 1477.93 Q328.546 1486.66 325.467 1491.27 Q322.412 1495.85 316.602 1495.85 Q310.791 1495.85 307.713 1491.27 Q304.657 1486.66 304.657 1477.93 Q304.657 1469.18 307.713 1464.6 Q310.791 1459.99 316.602 1459.99 Z\" fill=\"#4c4c4c\" fill-rule=\"nonzero\" fill-opacity=\"1\" /><path clip-path=\"url(#clip650)\" d=\"M346.764 1463.7 Q343.152 1463.7 341.324 1467.26 Q339.518 1470.8 339.518 1477.93 Q339.518 1485.04 341.324 1488.61 Q343.152 1492.15 346.764 1492.15 Q350.398 1492.15 352.203 1488.61 Q354.032 1485.04 354.032 1477.93 Q354.032 1470.8 352.203 1467.26 Q350.398 1463.7 346.764 1463.7 M346.764 1459.99 Q352.574 1459.99 355.629 1464.6 Q358.708 1469.18 358.708 1477.93 Q358.708 1486.66 355.629 1491.27 Q352.574 1495.85 346.764 1495.85 Q340.953 1495.85 337.875 1491.27 Q334.819 1486.66 334.819 1477.93 Q334.819 1469.18 337.875 1464.6 Q340.953 1459.99 346.764 1459.99 Z\" fill=\"#4c4c4c\" fill-rule=\"nonzero\" fill-opacity=\"1\" /><path clip-path=\"url(#clip650)\" d=\"M767.909 1463.7 Q764.298 1463.7 762.469 1467.26 Q760.664 1470.8 760.664 1477.93 Q760.664 1485.04 762.469 1488.61 Q764.298 1492.15 767.909 1492.15 Q771.543 1492.15 773.349 1488.61 Q775.178 1485.04 775.178 1477.93 Q775.178 1470.8 773.349 1467.26 Q771.543 1463.7 767.909 1463.7 M767.909 1459.99 Q773.719 1459.99 776.775 1464.6 Q779.853 1469.18 779.853 1477.93 Q779.853 1486.66 776.775 1491.27 Q773.719 1495.85 767.909 1495.85 Q762.099 1495.85 759.02 1491.27 Q755.965 1486.66 755.965 1477.93 Q755.965 1469.18 759.02 1464.6 Q762.099 1459.99 767.909 1459.99 Z\" fill=\"#4c4c4c\" fill-rule=\"nonzero\" fill-opacity=\"1\" /><path clip-path=\"url(#clip650)\" d=\"M788.071 1489.3 L792.955 1489.3 L792.955 1495.18 L788.071 1495.18 L788.071 1489.3 Z\" fill=\"#4c4c4c\" fill-rule=\"nonzero\" fill-opacity=\"1\" /><path clip-path=\"url(#clip650)\" d=\"M807.168 1491.24 L823.487 1491.24 L823.487 1495.18 L801.543 1495.18 L801.543 1491.24 Q804.205 1488.49 808.788 1483.86 Q813.395 1479.21 814.576 1477.87 Q816.821 1475.34 817.7 1473.61 Q818.603 1471.85 818.603 1470.16 Q818.603 1467.4 816.659 1465.67 Q814.738 1463.93 811.636 1463.93 Q809.437 1463.93 806.983 1464.69 Q804.552 1465.46 801.775 1467.01 L801.775 1462.29 Q804.599 1461.15 807.052 1460.57 Q809.506 1459.99 811.543 1459.99 Q816.913 1459.99 820.108 1462.68 Q823.302 1465.37 823.302 1469.86 Q823.302 1471.99 822.492 1473.91 Q821.705 1475.8 819.599 1478.4 Q819.02 1479.07 815.918 1482.29 Q812.816 1485.48 807.168 1491.24 Z\" fill=\"#4c4c4c\" fill-rule=\"nonzero\" fill-opacity=\"1\" /><path clip-path=\"url(#clip650)\" d=\"M833.349 1460.62 L851.705 1460.62 L851.705 1464.56 L837.631 1464.56 L837.631 1473.03 Q838.649 1472.68 839.668 1472.52 Q840.686 1472.33 841.705 1472.33 Q847.492 1472.33 850.872 1475.5 Q854.251 1478.68 854.251 1484.09 Q854.251 1489.67 850.779 1492.77 Q847.307 1495.85 840.987 1495.85 Q838.811 1495.85 836.543 1495.48 Q834.298 1495.11 831.89 1494.37 L831.89 1489.67 Q833.974 1490.8 836.196 1491.36 Q838.418 1491.92 840.895 1491.92 Q844.899 1491.92 847.237 1489.81 Q849.575 1487.7 849.575 1484.09 Q849.575 1480.48 847.237 1478.37 Q844.899 1476.27 840.895 1476.27 Q839.02 1476.27 837.145 1476.68 Q835.293 1477.1 833.349 1477.98 L833.349 1460.62 Z\" fill=\"#4c4c4c\" fill-rule=\"nonzero\" fill-opacity=\"1\" /><path clip-path=\"url(#clip650)\" d=\"M1263.45 1463.7 Q1259.84 1463.7 1258.01 1467.26 Q1256.21 1470.8 1256.21 1477.93 Q1256.21 1485.04 1258.01 1488.61 Q1259.84 1492.15 1263.45 1492.15 Q1267.09 1492.15 1268.89 1488.61 Q1270.72 1485.04 1270.72 1477.93 Q1270.72 1470.8 1268.89 1467.26 Q1267.09 1463.7 1263.45 1463.7 M1263.45 1459.99 Q1269.26 1459.99 1272.32 1464.6 Q1275.4 1469.18 1275.4 1477.93 Q1275.4 1486.66 1272.32 1491.27 Q1269.26 1495.85 1263.45 1495.85 Q1257.64 1495.85 1254.56 1491.27 Q1251.51 1486.66 1251.51 1477.93 Q1251.51 1469.18 1254.56 1464.6 Q1257.64 1459.99 1263.45 1459.99 Z\" fill=\"#4c4c4c\" fill-rule=\"nonzero\" fill-opacity=\"1\" /><path clip-path=\"url(#clip650)\" d=\"M1283.61 1489.3 L1288.5 1489.3 L1288.5 1495.18 L1283.61 1495.18 L1283.61 1489.3 Z\" fill=\"#4c4c4c\" fill-rule=\"nonzero\" fill-opacity=\"1\" /><path clip-path=\"url(#clip650)\" d=\"M1298.73 1460.62 L1317.09 1460.62 L1317.09 1464.56 L1303.01 1464.56 L1303.01 1473.03 Q1304.03 1472.68 1305.05 1472.52 Q1306.07 1472.33 1307.09 1472.33 Q1312.87 1472.33 1316.25 1475.5 Q1319.63 1478.68 1319.63 1484.09 Q1319.63 1489.67 1316.16 1492.77 Q1312.69 1495.85 1306.37 1495.85 Q1304.19 1495.85 1301.92 1495.48 Q1299.68 1495.11 1297.27 1494.37 L1297.27 1489.67 Q1299.35 1490.8 1301.58 1491.36 Q1303.8 1491.92 1306.28 1491.92 Q1310.28 1491.92 1312.62 1489.81 Q1314.96 1487.7 1314.96 1484.09 Q1314.96 1480.48 1312.62 1478.37 Q1310.28 1476.27 1306.28 1476.27 Q1304.4 1476.27 1302.53 1476.68 Q1300.67 1477.1 1298.73 1477.98 L1298.73 1460.62 Z\" fill=\"#4c4c4c\" fill-rule=\"nonzero\" fill-opacity=\"1\" /><path clip-path=\"url(#clip650)\" d=\"M1338.85 1463.7 Q1335.23 1463.7 1333.41 1467.26 Q1331.6 1470.8 1331.6 1477.93 Q1331.6 1485.04 1333.41 1488.61 Q1335.23 1492.15 1338.85 1492.15 Q1342.48 1492.15 1344.29 1488.61 Q1346.11 1485.04 1346.11 1477.93 Q1346.11 1470.8 1344.29 1467.26 Q1342.48 1463.7 1338.85 1463.7 M1338.85 1459.99 Q1344.66 1459.99 1347.71 1464.6 Q1350.79 1469.18 1350.79 1477.93 Q1350.79 1486.66 1347.71 1491.27 Q1344.66 1495.85 1338.85 1495.85 Q1333.04 1495.85 1329.96 1491.27 Q1326.9 1486.66 1326.9 1477.93 Q1326.9 1469.18 1329.96 1464.6 Q1333.04 1459.99 1338.85 1459.99 Z\" fill=\"#4c4c4c\" fill-rule=\"nonzero\" fill-opacity=\"1\" /><path clip-path=\"url(#clip650)\" d=\"M1759.99 1463.7 Q1756.38 1463.7 1754.55 1467.26 Q1752.75 1470.8 1752.75 1477.93 Q1752.75 1485.04 1754.55 1488.61 Q1756.38 1492.15 1759.99 1492.15 Q1763.63 1492.15 1765.43 1488.61 Q1767.26 1485.04 1767.26 1477.93 Q1767.26 1470.8 1765.43 1467.26 Q1763.63 1463.7 1759.99 1463.7 M1759.99 1459.99 Q1765.8 1459.99 1768.86 1464.6 Q1771.94 1469.18 1771.94 1477.93 Q1771.94 1486.66 1768.86 1491.27 Q1765.8 1495.85 1759.99 1495.85 Q1754.18 1495.85 1751.1 1491.27 Q1748.05 1486.66 1748.05 1477.93 Q1748.05 1469.18 1751.1 1464.6 Q1754.18 1459.99 1759.99 1459.99 Z\" fill=\"#4c4c4c\" fill-rule=\"nonzero\" fill-opacity=\"1\" /><path clip-path=\"url(#clip650)\" d=\"M1780.15 1489.3 L1785.04 1489.3 L1785.04 1495.18 L1780.15 1495.18 L1780.15 1489.3 Z\" fill=\"#4c4c4c\" fill-rule=\"nonzero\" fill-opacity=\"1\" /><path clip-path=\"url(#clip650)\" d=\"M1794.04 1460.62 L1816.26 1460.62 L1816.26 1462.61 L1803.72 1495.18 L1798.83 1495.18 L1810.64 1464.56 L1794.04 1464.56 L1794.04 1460.62 Z\" fill=\"#4c4c4c\" fill-rule=\"nonzero\" fill-opacity=\"1\" /><path clip-path=\"url(#clip650)\" d=\"M1825.43 1460.62 L1843.79 1460.62 L1843.79 1464.56 L1829.71 1464.56 L1829.71 1473.03 Q1830.73 1472.68 1831.75 1472.52 Q1832.77 1472.33 1833.79 1472.33 Q1839.57 1472.33 1842.95 1475.5 Q1846.33 1478.68 1846.33 1484.09 Q1846.33 1489.67 1842.86 1492.77 Q1839.39 1495.85 1833.07 1495.85 Q1830.89 1495.85 1828.62 1495.48 Q1826.38 1495.11 1823.97 1494.37 L1823.97 1489.67 Q1826.06 1490.8 1828.28 1491.36 Q1830.5 1491.92 1832.98 1491.92 Q1836.98 1491.92 1839.32 1489.81 Q1841.66 1487.7 1841.66 1484.09 Q1841.66 1480.48 1839.32 1478.37 Q1836.98 1476.27 1832.98 1476.27 Q1831.1 1476.27 1829.23 1476.68 Q1827.38 1477.1 1825.43 1477.98 L1825.43 1460.62 Z\" fill=\"#4c4c4c\" fill-rule=\"nonzero\" fill-opacity=\"1\" /><path clip-path=\"url(#clip650)\" d=\"M2245.3 1491.24 L2252.94 1491.24 L2252.94 1464.88 L2244.63 1466.55 L2244.63 1462.29 L2252.9 1460.62 L2257.57 1460.62 L2257.57 1491.24 L2265.21 1491.24 L2265.21 1495.18 L2245.3 1495.18 L2245.3 1491.24 Z\" fill=\"#4c4c4c\" fill-rule=\"nonzero\" fill-opacity=\"1\" /><path clip-path=\"url(#clip650)\" d=\"M2274.65 1489.3 L2279.54 1489.3 L2279.54 1495.18 L2274.65 1495.18 L2274.65 1489.3 Z\" fill=\"#4c4c4c\" fill-rule=\"nonzero\" fill-opacity=\"1\" /><path clip-path=\"url(#clip650)\" d=\"M2299.72 1463.7 Q2296.11 1463.7 2294.28 1467.26 Q2292.48 1470.8 2292.48 1477.93 Q2292.48 1485.04 2294.28 1488.61 Q2296.11 1492.15 2299.72 1492.15 Q2303.36 1492.15 2305.16 1488.61 Q2306.99 1485.04 2306.99 1477.93 Q2306.99 1470.8 2305.16 1467.26 Q2303.36 1463.7 2299.72 1463.7 M2299.72 1459.99 Q2305.53 1459.99 2308.59 1464.6 Q2311.67 1469.18 2311.67 1477.93 Q2311.67 1486.66 2308.59 1491.27 Q2305.53 1495.85 2299.72 1495.85 Q2293.91 1495.85 2290.84 1491.27 Q2287.78 1486.66 2287.78 1477.93 Q2287.78 1469.18 2290.84 1464.6 Q2293.91 1459.99 2299.72 1459.99 Z\" fill=\"#4c4c4c\" fill-rule=\"nonzero\" fill-opacity=\"1\" /><path clip-path=\"url(#clip650)\" d=\"M2329.89 1463.7 Q2326.27 1463.7 2324.45 1467.26 Q2322.64 1470.8 2322.64 1477.93 Q2322.64 1485.04 2324.45 1488.61 Q2326.27 1492.15 2329.89 1492.15 Q2333.52 1492.15 2335.33 1488.61 Q2337.15 1485.04 2337.15 1477.93 Q2337.15 1470.8 2335.33 1467.26 Q2333.52 1463.7 2329.89 1463.7 M2329.89 1459.99 Q2335.7 1459.99 2338.75 1464.6 Q2341.83 1469.18 2341.83 1477.93 Q2341.83 1486.66 2338.75 1491.27 Q2335.7 1495.85 2329.89 1495.85 Q2324.08 1495.85 2321 1491.27 Q2317.94 1486.66 2317.94 1477.93 Q2317.94 1469.18 2321 1464.6 Q2324.08 1459.99 2329.89 1459.99 Z\" fill=\"#4c4c4c\" fill-rule=\"nonzero\" fill-opacity=\"1\" /><path clip-path=\"url(#clip650)\" d=\"M923.344 1524.88 Q916.342 1524.88 912.204 1530.1 Q908.098 1535.32 908.098 1544.33 Q908.098 1553.31 912.204 1558.53 Q916.342 1563.75 923.344 1563.75 Q930.347 1563.75 934.421 1558.53 Q938.526 1553.31 938.526 1544.33 Q938.526 1535.32 934.421 1530.1 Q930.347 1524.88 923.344 1524.88 M923.344 1519.66 Q933.338 1519.66 939.322 1526.38 Q945.306 1533.06 945.306 1544.33 Q945.306 1555.57 939.322 1562.28 Q933.338 1568.97 923.344 1568.97 Q913.318 1568.97 907.303 1562.28 Q901.319 1555.6 901.319 1544.33 Q901.319 1533.06 907.303 1526.38 Q913.318 1519.66 923.344 1519.66 Z\" fill=\"#000000\" fill-rule=\"nonzero\" fill-opacity=\"1\" /><path clip-path=\"url(#clip650)\" d=\"M980.699 1550.25 Q980.699 1543.79 978.026 1540.13 Q975.384 1536.44 970.737 1536.44 Q966.09 1536.44 963.416 1540.13 Q960.775 1543.79 960.775 1550.25 Q960.775 1556.71 963.416 1560.4 Q966.09 1564.07 970.737 1564.07 Q975.384 1564.07 978.026 1560.4 Q980.699 1556.71 980.699 1550.25 M960.775 1537.81 Q962.621 1534.62 965.422 1533.1 Q968.254 1531.54 972.169 1531.54 Q978.662 1531.54 982.704 1536.69 Q986.779 1541.85 986.779 1550.25 Q986.779 1558.65 982.704 1563.81 Q978.662 1568.97 972.169 1568.97 Q968.254 1568.97 965.422 1567.44 Q962.621 1565.88 960.775 1562.7 L960.775 1568.04 L954.886 1568.04 L954.886 1518.52 L960.775 1518.52 L960.775 1537.81 Z\" fill=\"#000000\" fill-rule=\"nonzero\" fill-opacity=\"1\" /><path clip-path=\"url(#clip650)\" d=\"M996.486 1532.4 L1002.34 1532.4 L1002.34 1568.68 Q1002.34 1575.49 999.733 1578.55 Q997.155 1581.6 991.394 1581.6 L989.166 1581.6 L989.166 1576.64 L990.725 1576.64 Q994.067 1576.64 995.277 1575.08 Q996.486 1573.55 996.486 1568.68 L996.486 1532.4 M996.486 1518.52 L1002.34 1518.52 L1002.34 1525.93 L996.486 1525.93 L996.486 1518.52 Z\" fill=\"#000000\" fill-rule=\"nonzero\" fill-opacity=\"1\" /><path clip-path=\"url(#clip650)\" d=\"M1045.09 1548.76 L1045.09 1551.62 L1018.16 1551.62 Q1018.54 1557.67 1021.79 1560.85 Q1025.07 1564 1030.89 1564 Q1034.27 1564 1037.42 1563.17 Q1040.6 1562.35 1043.72 1560.69 L1043.72 1566.23 Q1040.57 1567.57 1037.26 1568.27 Q1033.95 1568.97 1030.54 1568.97 Q1022.01 1568.97 1017.02 1564 Q1012.05 1559.04 1012.05 1550.57 Q1012.05 1541.82 1016.76 1536.69 Q1021.5 1531.54 1029.52 1531.54 Q1036.72 1531.54 1040.89 1536.18 Q1045.09 1540.8 1045.09 1548.76 M1039.23 1547.04 Q1039.17 1542.23 1036.53 1539.37 Q1033.92 1536.5 1029.59 1536.5 Q1024.69 1536.5 1021.73 1539.27 Q1018.8 1542.04 1018.35 1547.07 L1039.23 1547.04 Z\" fill=\"#000000\" fill-rule=\"nonzero\" fill-opacity=\"1\" /><path clip-path=\"url(#clip650)\" d=\"M1080.35 1533.76 L1080.35 1539.24 Q1077.87 1537.87 1075.36 1537.2 Q1072.87 1536.5 1070.33 1536.5 Q1064.63 1536.5 1061.48 1540.13 Q1058.33 1543.73 1058.33 1550.25 Q1058.33 1556.78 1061.48 1560.4 Q1064.63 1564 1070.33 1564 Q1072.87 1564 1075.36 1563.33 Q1077.87 1562.63 1080.35 1561.26 L1080.35 1566.68 Q1077.9 1567.82 1075.26 1568.39 Q1072.65 1568.97 1069.69 1568.97 Q1061.64 1568.97 1056.9 1563.91 Q1052.15 1558.85 1052.15 1550.25 Q1052.15 1541.53 1056.93 1536.53 Q1061.73 1531.54 1070.07 1531.54 Q1072.78 1531.54 1075.36 1532.11 Q1077.94 1532.65 1080.35 1533.76 Z\" fill=\"#000000\" fill-rule=\"nonzero\" fill-opacity=\"1\" /><path clip-path=\"url(#clip650)\" d=\"M1096.33 1522.27 L1096.33 1532.4 L1108.4 1532.4 L1108.4 1536.95 L1096.33 1536.95 L1096.33 1556.3 Q1096.33 1560.66 1097.51 1561.9 Q1098.72 1563.14 1102.38 1563.14 L1108.4 1563.14 L1108.4 1568.04 L1102.38 1568.04 Q1095.6 1568.04 1093.02 1565.53 Q1090.44 1562.98 1090.44 1556.3 L1090.44 1536.95 L1086.15 1536.95 L1086.15 1532.4 L1090.44 1532.4 L1090.44 1522.27 L1096.33 1522.27 Z\" fill=\"#000000\" fill-rule=\"nonzero\" fill-opacity=\"1\" /><path clip-path=\"url(#clip650)\" d=\"M1116.1 1532.4 L1121.95 1532.4 L1121.95 1568.04 L1116.1 1568.04 L1116.1 1532.4 M1116.1 1518.52 L1121.95 1518.52 L1121.95 1525.93 L1116.1 1525.93 L1116.1 1518.52 Z\" fill=\"#000000\" fill-rule=\"nonzero\" fill-opacity=\"1\" /><path clip-path=\"url(#clip650)\" d=\"M1130.01 1532.4 L1136.21 1532.4 L1147.35 1562.31 L1158.49 1532.4 L1164.7 1532.4 L1151.33 1568.04 L1143.37 1568.04 L1130.01 1532.4 Z\" fill=\"#000000\" fill-rule=\"nonzero\" fill-opacity=\"1\" /><path clip-path=\"url(#clip650)\" d=\"M1203.28 1548.76 L1203.28 1551.62 L1176.35 1551.62 Q1176.73 1557.67 1179.98 1560.85 Q1183.26 1564 1189.08 1564 Q1192.45 1564 1195.61 1563.17 Q1198.79 1562.35 1201.91 1560.69 L1201.91 1566.23 Q1198.76 1567.57 1195.45 1568.27 Q1192.14 1568.97 1188.73 1568.97 Q1180.2 1568.97 1175.2 1564 Q1170.24 1559.04 1170.24 1550.57 Q1170.24 1541.82 1174.95 1536.69 Q1179.69 1531.54 1187.71 1531.54 Q1194.91 1531.54 1199.07 1536.18 Q1203.28 1540.8 1203.28 1548.76 M1197.42 1547.04 Q1197.36 1542.23 1194.71 1539.37 Q1192.1 1536.5 1187.78 1536.5 Q1182.87 1536.5 1179.91 1539.27 Q1176.99 1542.04 1176.54 1547.07 L1197.42 1547.04 Z\" fill=\"#000000\" fill-rule=\"nonzero\" fill-opacity=\"1\" /><path clip-path=\"url(#clip650)\" d=\"M1233.86 1520.52 L1261.17 1520.52 L1261.17 1525.93 L1240.29 1525.93 L1240.29 1539.94 L1259.14 1539.94 L1259.14 1545.35 L1240.29 1545.35 L1240.29 1568.04 L1233.86 1568.04 L1233.86 1520.52 Z\" fill=\"#000000\" fill-rule=\"nonzero\" fill-opacity=\"1\" /><path clip-path=\"url(#clip650)\" d=\"M1266.93 1553.98 L1266.93 1532.4 L1272.79 1532.4 L1272.79 1553.75 Q1272.79 1558.81 1274.76 1561.36 Q1276.74 1563.87 1280.68 1563.87 Q1285.43 1563.87 1288.16 1560.85 Q1290.93 1557.83 1290.93 1552.61 L1290.93 1532.4 L1296.79 1532.4 L1296.79 1568.04 L1290.93 1568.04 L1290.93 1562.57 Q1288.8 1565.82 1285.97 1567.41 Q1283.17 1568.97 1279.44 1568.97 Q1273.3 1568.97 1270.12 1565.15 Q1266.93 1561.33 1266.93 1553.98 M1281.67 1531.54 L1281.67 1531.54 Z\" fill=\"#000000\" fill-rule=\"nonzero\" fill-opacity=\"1\" /><path clip-path=\"url(#clip650)\" d=\"M1338.48 1546.53 L1338.48 1568.04 L1332.63 1568.04 L1332.63 1546.72 Q1332.63 1541.66 1330.65 1539.14 Q1328.68 1536.63 1324.73 1536.63 Q1319.99 1536.63 1317.25 1539.65 Q1314.52 1542.68 1314.52 1547.9 L1314.52 1568.04 L1308.63 1568.04 L1308.63 1532.4 L1314.52 1532.4 L1314.52 1537.93 Q1316.62 1534.72 1319.45 1533.13 Q1322.31 1531.54 1326.04 1531.54 Q1332.18 1531.54 1335.33 1535.36 Q1338.48 1539.14 1338.48 1546.53 Z\" fill=\"#000000\" fill-rule=\"nonzero\" fill-opacity=\"1\" /><path clip-path=\"url(#clip650)\" d=\"M1375.82 1533.76 L1375.82 1539.24 Q1373.34 1537.87 1370.82 1537.2 Q1368.34 1536.5 1365.79 1536.5 Q1360.1 1536.5 1356.94 1540.13 Q1353.79 1543.73 1353.79 1550.25 Q1353.79 1556.78 1356.94 1560.4 Q1360.1 1564 1365.79 1564 Q1368.34 1564 1370.82 1563.33 Q1373.34 1562.63 1375.82 1561.26 L1375.82 1566.68 Q1373.37 1567.82 1370.73 1568.39 Q1368.12 1568.97 1365.16 1568.97 Q1357.1 1568.97 1352.36 1563.91 Q1347.62 1558.85 1347.62 1550.25 Q1347.62 1541.53 1352.39 1536.53 Q1357.2 1531.54 1365.54 1531.54 Q1368.24 1531.54 1370.82 1532.11 Q1373.4 1532.65 1375.82 1533.76 Z\" fill=\"#000000\" fill-rule=\"nonzero\" fill-opacity=\"1\" /><path clip-path=\"url(#clip650)\" d=\"M1391.8 1522.27 L1391.8 1532.4 L1403.86 1532.4 L1403.86 1536.95 L1391.8 1536.95 L1391.8 1556.3 Q1391.8 1560.66 1392.97 1561.9 Q1394.18 1563.14 1397.84 1563.14 L1403.86 1563.14 L1403.86 1568.04 L1397.84 1568.04 Q1391.06 1568.04 1388.49 1565.53 Q1385.91 1562.98 1385.91 1556.3 L1385.91 1536.95 L1381.61 1536.95 L1381.61 1532.4 L1385.91 1532.4 L1385.91 1522.27 L1391.8 1522.27 Z\" fill=\"#000000\" fill-rule=\"nonzero\" fill-opacity=\"1\" /><path clip-path=\"url(#clip650)\" d=\"M1411.56 1532.4 L1417.42 1532.4 L1417.42 1568.04 L1411.56 1568.04 L1411.56 1532.4 M1411.56 1518.52 L1417.42 1518.52 L1417.42 1525.93 L1411.56 1525.93 L1411.56 1518.52 Z\" fill=\"#000000\" fill-rule=\"nonzero\" fill-opacity=\"1\" /><path clip-path=\"url(#clip650)\" d=\"M1443.49 1536.5 Q1438.78 1536.5 1436.04 1540.19 Q1433.3 1543.85 1433.3 1550.25 Q1433.3 1556.65 1436.01 1560.34 Q1438.74 1564 1443.49 1564 Q1448.16 1564 1450.9 1560.31 Q1453.64 1556.62 1453.64 1550.25 Q1453.64 1543.92 1450.9 1540.23 Q1448.16 1536.5 1443.49 1536.5 M1443.49 1531.54 Q1451.13 1531.54 1455.49 1536.5 Q1459.85 1541.47 1459.85 1550.25 Q1459.85 1559 1455.49 1564 Q1451.13 1568.97 1443.49 1568.97 Q1435.82 1568.97 1431.45 1564 Q1427.13 1559 1427.13 1550.25 Q1427.13 1541.47 1431.45 1536.5 Q1435.82 1531.54 1443.49 1531.54 Z\" fill=\"#000000\" fill-rule=\"nonzero\" fill-opacity=\"1\" /><path clip-path=\"url(#clip650)\" d=\"M1499.19 1546.53 L1499.19 1568.04 L1493.33 1568.04 L1493.33 1546.72 Q1493.33 1541.66 1491.36 1539.14 Q1489.38 1536.63 1485.44 1536.63 Q1480.69 1536.63 1477.96 1539.65 Q1475.22 1542.68 1475.22 1547.9 L1475.22 1568.04 L1469.33 1568.04 L1469.33 1532.4 L1475.22 1532.4 L1475.22 1537.93 Q1477.32 1534.72 1480.15 1533.13 Q1483.02 1531.54 1486.74 1531.54 Q1492.88 1531.54 1496.04 1535.36 Q1499.19 1539.14 1499.19 1546.53 Z\" fill=\"#000000\" fill-rule=\"nonzero\" fill-opacity=\"1\" /><path clip-path=\"url(#clip650)\" d=\"M1544.1 1568.04 L1525.95 1520.52 L1532.67 1520.52 L1547.72 1560.53 L1562.81 1520.52 L1569.5 1520.52 L1551.38 1568.04 L1544.1 1568.04 Z\" fill=\"#000000\" fill-rule=\"nonzero\" fill-opacity=\"1\" /><path clip-path=\"url(#clip650)\" d=\"M1587.32 1550.12 Q1580.22 1550.12 1577.48 1551.75 Q1574.75 1553.37 1574.75 1557.29 Q1574.75 1560.4 1576.78 1562.25 Q1578.85 1564.07 1582.39 1564.07 Q1587.26 1564.07 1590.18 1560.63 Q1593.14 1557.16 1593.14 1551.43 L1593.14 1550.12 L1587.32 1550.12 M1599 1547.71 L1599 1568.04 L1593.14 1568.04 L1593.14 1562.63 Q1591.14 1565.88 1588.15 1567.44 Q1585.15 1568.97 1580.83 1568.97 Q1575.35 1568.97 1572.11 1565.91 Q1568.89 1562.82 1568.89 1557.67 Q1568.89 1551.65 1572.9 1548.6 Q1576.94 1545.54 1584.93 1545.54 L1593.14 1545.54 L1593.14 1544.97 Q1593.14 1540.93 1590.47 1538.73 Q1587.83 1536.5 1583.02 1536.5 Q1579.97 1536.5 1577.07 1537.23 Q1574.17 1537.97 1571.5 1539.43 L1571.5 1534.02 Q1574.72 1532.78 1577.74 1532.17 Q1580.76 1531.54 1583.63 1531.54 Q1591.36 1531.54 1595.18 1535.55 Q1599 1539.56 1599 1547.71 Z\" fill=\"#000000\" fill-rule=\"nonzero\" fill-opacity=\"1\" /><path clip-path=\"url(#clip650)\" d=\"M1611.06 1518.52 L1616.92 1518.52 L1616.92 1568.04 L1611.06 1568.04 L1611.06 1518.52 Z\" fill=\"#000000\" fill-rule=\"nonzero\" fill-opacity=\"1\" /><path clip-path=\"url(#clip650)\" d=\"M1628.57 1553.98 L1628.57 1532.4 L1634.43 1532.4 L1634.43 1553.75 Q1634.43 1558.81 1636.4 1561.36 Q1638.37 1563.87 1642.32 1563.87 Q1647.06 1563.87 1649.8 1560.85 Q1652.57 1557.83 1652.57 1552.61 L1652.57 1532.4 L1658.42 1532.4 L1658.42 1568.04 L1652.57 1568.04 L1652.57 1562.57 Q1650.44 1565.82 1647.6 1567.41 Q1644.8 1568.97 1641.08 1568.97 Q1634.93 1568.97 1631.75 1565.15 Q1628.57 1561.33 1628.57 1553.98 M1643.31 1531.54 L1643.31 1531.54 Z\" fill=\"#000000\" fill-rule=\"nonzero\" fill-opacity=\"1\" /><path clip-path=\"url(#clip650)\" d=\"M1700.98 1548.76 L1700.98 1551.62 L1674.05 1551.62 Q1674.43 1557.67 1677.68 1560.85 Q1680.96 1564 1686.78 1564 Q1690.16 1564 1693.31 1563.17 Q1696.49 1562.35 1699.61 1560.69 L1699.61 1566.23 Q1696.46 1567.57 1693.15 1568.27 Q1689.84 1568.97 1686.43 1568.97 Q1677.9 1568.97 1672.91 1564 Q1667.94 1559.04 1667.94 1550.57 Q1667.94 1541.82 1672.65 1536.69 Q1677.39 1531.54 1685.41 1531.54 Q1692.61 1531.54 1696.78 1536.18 Q1700.98 1540.8 1700.98 1548.76 M1695.12 1547.04 Q1695.06 1542.23 1692.42 1539.37 Q1689.81 1536.5 1685.48 1536.5 Q1680.58 1536.5 1677.62 1539.27 Q1674.69 1542.04 1674.24 1547.07 L1695.12 1547.04 Z\" fill=\"#000000\" fill-rule=\"nonzero\" fill-opacity=\"1\" /><polyline clip-path=\"url(#clip652)\" style=\"stroke:#ffffff; stroke-linecap:round; stroke-linejoin:round; stroke-width:4; stroke-opacity:1; fill:none\" points=\"249.542,1384.24 2352.76,1384.24 \"/>\n",
       "<polyline clip-path=\"url(#clip652)\" style=\"stroke:#ffffff; stroke-linecap:round; stroke-linejoin:round; stroke-width:4; stroke-opacity:1; fill:none\" points=\"249.542,1059.73 2352.76,1059.73 \"/>\n",
       "<polyline clip-path=\"url(#clip652)\" style=\"stroke:#ffffff; stroke-linecap:round; stroke-linejoin:round; stroke-width:4; stroke-opacity:1; fill:none\" points=\"249.542,735.212 2352.76,735.212 \"/>\n",
       "<polyline clip-path=\"url(#clip652)\" style=\"stroke:#ffffff; stroke-linecap:round; stroke-linejoin:round; stroke-width:4; stroke-opacity:1; fill:none\" points=\"249.542,410.699 2352.76,410.699 \"/>\n",
       "<polyline clip-path=\"url(#clip652)\" style=\"stroke:#ffffff; stroke-linecap:round; stroke-linejoin:round; stroke-width:4; stroke-opacity:1; fill:none\" points=\"249.542,86.1857 2352.76,86.1857 \"/>\n",
       "<polyline clip-path=\"url(#clip652)\" style=\"stroke:#ffffff; stroke-linecap:round; stroke-linejoin:round; stroke-width:2; stroke-opacity:1; fill:none\" points=\"249.542,1221.98 2352.76,1221.98 \"/>\n",
       "<polyline clip-path=\"url(#clip652)\" style=\"stroke:#ffffff; stroke-linecap:round; stroke-linejoin:round; stroke-width:2; stroke-opacity:1; fill:none\" points=\"249.542,897.469 2352.76,897.469 \"/>\n",
       "<polyline clip-path=\"url(#clip652)\" style=\"stroke:#ffffff; stroke-linecap:round; stroke-linejoin:round; stroke-width:2; stroke-opacity:1; fill:none\" points=\"249.542,572.955 2352.76,572.955 \"/>\n",
       "<polyline clip-path=\"url(#clip652)\" style=\"stroke:#ffffff; stroke-linecap:round; stroke-linejoin:round; stroke-width:2; stroke-opacity:1; fill:none\" points=\"249.542,248.442 2352.76,248.442 \"/>\n",
       "<polyline clip-path=\"url(#clip650)\" style=\"stroke:#ffffff; stroke-linecap:round; stroke-linejoin:round; stroke-width:4; stroke-opacity:1; fill:none\" points=\"249.542,1423.18 249.542,47.2441 \"/>\n",
       "<polyline clip-path=\"url(#clip650)\" style=\"stroke:#333333; stroke-linecap:round; stroke-linejoin:round; stroke-width:4; stroke-opacity:1; fill:none\" points=\"249.542,1384.24 230.644,1384.24 \"/>\n",
       "<polyline clip-path=\"url(#clip650)\" style=\"stroke:#333333; stroke-linecap:round; stroke-linejoin:round; stroke-width:4; stroke-opacity:1; fill:none\" points=\"249.542,1059.73 230.644,1059.73 \"/>\n",
       "<polyline clip-path=\"url(#clip650)\" style=\"stroke:#333333; stroke-linecap:round; stroke-linejoin:round; stroke-width:4; stroke-opacity:1; fill:none\" points=\"249.542,735.212 230.644,735.212 \"/>\n",
       "<polyline clip-path=\"url(#clip650)\" style=\"stroke:#333333; stroke-linecap:round; stroke-linejoin:round; stroke-width:4; stroke-opacity:1; fill:none\" points=\"249.542,410.699 230.644,410.699 \"/>\n",
       "<polyline clip-path=\"url(#clip650)\" style=\"stroke:#333333; stroke-linecap:round; stroke-linejoin:round; stroke-width:4; stroke-opacity:1; fill:none\" points=\"249.542,86.1857 230.644,86.1857 \"/>\n",
       "<polyline clip-path=\"url(#clip650)\" style=\"stroke:#333333; stroke-linecap:round; stroke-linejoin:round; stroke-width:4; stroke-opacity:1; fill:none\" points=\"249.542,1221.98 240.093,1221.98 \"/>\n",
       "<polyline clip-path=\"url(#clip650)\" style=\"stroke:#333333; stroke-linecap:round; stroke-linejoin:round; stroke-width:4; stroke-opacity:1; fill:none\" points=\"249.542,897.469 240.093,897.469 \"/>\n",
       "<polyline clip-path=\"url(#clip650)\" style=\"stroke:#333333; stroke-linecap:round; stroke-linejoin:round; stroke-width:4; stroke-opacity:1; fill:none\" points=\"249.542,572.955 240.093,572.955 \"/>\n",
       "<polyline clip-path=\"url(#clip650)\" style=\"stroke:#333333; stroke-linecap:round; stroke-linejoin:round; stroke-width:4; stroke-opacity:1; fill:none\" points=\"249.542,248.442 240.093,248.442 \"/>\n",
       "<path clip-path=\"url(#clip650)\" d=\"M108.205 1370.04 Q104.593 1370.04 102.765 1373.6 Q100.959 1377.14 100.959 1384.27 Q100.959 1391.38 102.765 1394.94 Q104.593 1398.49 108.205 1398.49 Q111.839 1398.49 113.644 1394.94 Q115.473 1391.38 115.473 1384.27 Q115.473 1377.14 113.644 1373.6 Q111.839 1370.04 108.205 1370.04 M108.205 1366.33 Q114.015 1366.33 117.07 1370.94 Q120.149 1375.52 120.149 1384.27 Q120.149 1393 117.07 1397.61 Q114.015 1402.19 108.205 1402.19 Q102.394 1402.19 99.3157 1397.61 Q96.2602 1393 96.2602 1384.27 Q96.2602 1375.52 99.3157 1370.94 Q102.394 1366.33 108.205 1366.33 Z\" fill=\"#4c4c4c\" fill-rule=\"nonzero\" fill-opacity=\"1\" /><path clip-path=\"url(#clip650)\" d=\"M128.366 1395.64 L133.251 1395.64 L133.251 1401.52 L128.366 1401.52 L128.366 1395.64 Z\" fill=\"#4c4c4c\" fill-rule=\"nonzero\" fill-opacity=\"1\" /><path clip-path=\"url(#clip650)\" d=\"M153.436 1370.04 Q149.825 1370.04 147.996 1373.6 Q146.19 1377.14 146.19 1384.27 Q146.19 1391.38 147.996 1394.94 Q149.825 1398.49 153.436 1398.49 Q157.07 1398.49 158.876 1394.94 Q160.704 1391.38 160.704 1384.27 Q160.704 1377.14 158.876 1373.6 Q157.07 1370.04 153.436 1370.04 M153.436 1366.33 Q159.246 1366.33 162.301 1370.94 Q165.38 1375.52 165.38 1384.27 Q165.38 1393 162.301 1397.61 Q159.246 1402.19 153.436 1402.19 Q147.626 1402.19 144.547 1397.61 Q141.491 1393 141.491 1384.27 Q141.491 1375.52 144.547 1370.94 Q147.626 1366.33 153.436 1366.33 Z\" fill=\"#4c4c4c\" fill-rule=\"nonzero\" fill-opacity=\"1\" /><path clip-path=\"url(#clip650)\" d=\"M183.598 1370.04 Q179.987 1370.04 178.158 1373.6 Q176.352 1377.14 176.352 1384.27 Q176.352 1391.38 178.158 1394.94 Q179.987 1398.49 183.598 1398.49 Q187.232 1398.49 189.037 1394.94 Q190.866 1391.38 190.866 1384.27 Q190.866 1377.14 189.037 1373.6 Q187.232 1370.04 183.598 1370.04 M183.598 1366.33 Q189.408 1366.33 192.463 1370.94 Q195.542 1375.52 195.542 1384.27 Q195.542 1393 192.463 1397.61 Q189.408 1402.19 183.598 1402.19 Q177.787 1402.19 174.709 1397.61 Q171.653 1393 171.653 1384.27 Q171.653 1375.52 174.709 1370.94 Q177.787 1366.33 183.598 1366.33 Z\" fill=\"#4c4c4c\" fill-rule=\"nonzero\" fill-opacity=\"1\" /><path clip-path=\"url(#clip650)\" d=\"M109.2 1045.52 Q105.589 1045.52 103.76 1049.09 Q101.955 1052.63 101.955 1059.76 Q101.955 1066.87 103.76 1070.43 Q105.589 1073.97 109.2 1073.97 Q112.834 1073.97 114.64 1070.43 Q116.468 1066.87 116.468 1059.76 Q116.468 1052.63 114.64 1049.09 Q112.834 1045.52 109.2 1045.52 M109.2 1041.82 Q115.01 1041.82 118.066 1046.43 Q121.144 1051.01 121.144 1059.76 Q121.144 1068.49 118.066 1073.09 Q115.01 1077.68 109.2 1077.68 Q103.39 1077.68 100.311 1073.09 Q97.2555 1068.49 97.2555 1059.76 Q97.2555 1051.01 100.311 1046.43 Q103.39 1041.82 109.2 1041.82 Z\" fill=\"#4c4c4c\" fill-rule=\"nonzero\" fill-opacity=\"1\" /><path clip-path=\"url(#clip650)\" d=\"M129.362 1071.13 L134.246 1071.13 L134.246 1077.01 L129.362 1077.01 L129.362 1071.13 Z\" fill=\"#4c4c4c\" fill-rule=\"nonzero\" fill-opacity=\"1\" /><path clip-path=\"url(#clip650)\" d=\"M148.459 1073.07 L164.778 1073.07 L164.778 1077.01 L142.834 1077.01 L142.834 1073.07 Q145.496 1070.32 150.079 1065.69 Q154.686 1061.03 155.866 1059.69 Q158.112 1057.17 158.991 1055.43 Q159.894 1053.67 159.894 1051.98 Q159.894 1049.23 157.95 1047.49 Q156.028 1045.76 152.927 1045.76 Q150.727 1045.76 148.274 1046.52 Q145.843 1047.28 143.065 1048.83 L143.065 1044.11 Q145.89 1042.98 148.343 1042.4 Q150.797 1041.82 152.834 1041.82 Q158.204 1041.82 161.399 1044.51 Q164.593 1047.19 164.593 1051.68 Q164.593 1053.81 163.783 1055.73 Q162.996 1057.63 160.889 1060.22 Q160.311 1060.89 157.209 1064.11 Q154.107 1067.31 148.459 1073.07 Z\" fill=\"#4c4c4c\" fill-rule=\"nonzero\" fill-opacity=\"1\" /><path clip-path=\"url(#clip650)\" d=\"M174.639 1042.45 L192.996 1042.45 L192.996 1046.38 L178.922 1046.38 L178.922 1054.85 Q179.94 1054.51 180.959 1054.34 Q181.977 1054.16 182.996 1054.16 Q188.783 1054.16 192.162 1057.33 Q195.542 1060.5 195.542 1065.92 Q195.542 1071.5 192.07 1074.6 Q188.598 1077.68 182.278 1077.68 Q180.102 1077.68 177.834 1077.31 Q175.588 1076.94 173.181 1076.19 L173.181 1071.5 Q175.264 1072.63 177.487 1073.19 Q179.709 1073.74 182.186 1073.74 Q186.19 1073.74 188.528 1071.63 Q190.866 1069.53 190.866 1065.92 Q190.866 1062.31 188.528 1060.2 Q186.19 1058.09 182.186 1058.09 Q180.311 1058.09 178.436 1058.51 Q176.584 1058.93 174.639 1059.81 L174.639 1042.45 Z\" fill=\"#4c4c4c\" fill-rule=\"nonzero\" fill-opacity=\"1\" /><path clip-path=\"url(#clip650)\" d=\"M108.205 721.011 Q104.593 721.011 102.765 724.575 Q100.959 728.117 100.959 735.247 Q100.959 742.353 102.765 745.918 Q104.593 749.46 108.205 749.46 Q111.839 749.46 113.644 745.918 Q115.473 742.353 115.473 735.247 Q115.473 728.117 113.644 724.575 Q111.839 721.011 108.205 721.011 M108.205 717.307 Q114.015 717.307 117.07 721.913 Q120.149 726.497 120.149 735.247 Q120.149 743.973 117.07 748.58 Q114.015 753.163 108.205 753.163 Q102.394 753.163 99.3157 748.58 Q96.2602 743.973 96.2602 735.247 Q96.2602 726.497 99.3157 721.913 Q102.394 717.307 108.205 717.307 Z\" fill=\"#4c4c4c\" fill-rule=\"nonzero\" fill-opacity=\"1\" /><path clip-path=\"url(#clip650)\" d=\"M128.366 746.612 L133.251 746.612 L133.251 752.492 L128.366 752.492 L128.366 746.612 Z\" fill=\"#4c4c4c\" fill-rule=\"nonzero\" fill-opacity=\"1\" /><path clip-path=\"url(#clip650)\" d=\"M143.482 717.932 L161.839 717.932 L161.839 721.867 L147.765 721.867 L147.765 730.339 Q148.783 729.992 149.802 729.83 Q150.82 729.645 151.839 729.645 Q157.626 729.645 161.005 732.816 Q164.385 735.987 164.385 741.404 Q164.385 746.983 160.913 750.085 Q157.44 753.163 151.121 753.163 Q148.945 753.163 146.677 752.793 Q144.431 752.423 142.024 751.682 L142.024 746.983 Q144.107 748.117 146.329 748.673 Q148.552 749.228 151.028 749.228 Q155.033 749.228 157.371 747.122 Q159.709 745.015 159.709 741.404 Q159.709 737.793 157.371 735.687 Q155.033 733.58 151.028 733.58 Q149.153 733.58 147.278 733.997 Q145.427 734.413 143.482 735.293 L143.482 717.932 Z\" fill=\"#4c4c4c\" fill-rule=\"nonzero\" fill-opacity=\"1\" /><path clip-path=\"url(#clip650)\" d=\"M183.598 721.011 Q179.987 721.011 178.158 724.575 Q176.352 728.117 176.352 735.247 Q176.352 742.353 178.158 745.918 Q179.987 749.46 183.598 749.46 Q187.232 749.46 189.037 745.918 Q190.866 742.353 190.866 735.247 Q190.866 728.117 189.037 724.575 Q187.232 721.011 183.598 721.011 M183.598 717.307 Q189.408 717.307 192.463 721.913 Q195.542 726.497 195.542 735.247 Q195.542 743.973 192.463 748.58 Q189.408 753.163 183.598 753.163 Q177.787 753.163 174.709 748.58 Q171.653 743.973 171.653 735.247 Q171.653 726.497 174.709 721.913 Q177.787 717.307 183.598 717.307 Z\" fill=\"#4c4c4c\" fill-rule=\"nonzero\" fill-opacity=\"1\" /><path clip-path=\"url(#clip650)\" d=\"M109.2 396.498 Q105.589 396.498 103.76 400.062 Q101.955 403.604 101.955 410.734 Q101.955 417.84 103.76 421.405 Q105.589 424.946 109.2 424.946 Q112.834 424.946 114.64 421.405 Q116.468 417.84 116.468 410.734 Q116.468 403.604 114.64 400.062 Q112.834 396.498 109.2 396.498 M109.2 392.794 Q115.01 392.794 118.066 397.4 Q121.144 401.984 121.144 410.734 Q121.144 419.46 118.066 424.067 Q115.01 428.65 109.2 428.65 Q103.39 428.65 100.311 424.067 Q97.2555 419.46 97.2555 410.734 Q97.2555 401.984 100.311 397.4 Q103.39 392.794 109.2 392.794 Z\" fill=\"#4c4c4c\" fill-rule=\"nonzero\" fill-opacity=\"1\" /><path clip-path=\"url(#clip650)\" d=\"M129.362 422.099 L134.246 422.099 L134.246 427.979 L129.362 427.979 L129.362 422.099 Z\" fill=\"#4c4c4c\" fill-rule=\"nonzero\" fill-opacity=\"1\" /><path clip-path=\"url(#clip650)\" d=\"M143.251 393.419 L165.473 393.419 L165.473 395.41 L152.927 427.979 L148.042 427.979 L159.848 397.354 L143.251 397.354 L143.251 393.419 Z\" fill=\"#4c4c4c\" fill-rule=\"nonzero\" fill-opacity=\"1\" /><path clip-path=\"url(#clip650)\" d=\"M174.639 393.419 L192.996 393.419 L192.996 397.354 L178.922 397.354 L178.922 405.826 Q179.94 405.479 180.959 405.317 Q181.977 405.132 182.996 405.132 Q188.783 405.132 192.162 408.303 Q195.542 411.474 195.542 416.891 Q195.542 422.47 192.07 425.571 Q188.598 428.65 182.278 428.65 Q180.102 428.65 177.834 428.28 Q175.588 427.909 173.181 427.169 L173.181 422.47 Q175.264 423.604 177.487 424.159 Q179.709 424.715 182.186 424.715 Q186.19 424.715 188.528 422.608 Q190.866 420.502 190.866 416.891 Q190.866 413.28 188.528 411.173 Q186.19 409.067 182.186 409.067 Q180.311 409.067 178.436 409.484 Q176.584 409.9 174.639 410.78 L174.639 393.419 Z\" fill=\"#4c4c4c\" fill-rule=\"nonzero\" fill-opacity=\"1\" /><path clip-path=\"url(#clip650)\" d=\"M99.0148 99.5305 L106.654 99.5305 L106.654 73.1649 L98.3435 74.8316 L98.3435 70.5723 L106.607 68.9057 L111.283 68.9057 L111.283 99.5305 L118.922 99.5305 L118.922 103.466 L99.0148 103.466 L99.0148 99.5305 Z\" fill=\"#4c4c4c\" fill-rule=\"nonzero\" fill-opacity=\"1\" /><path clip-path=\"url(#clip650)\" d=\"M128.366 97.5861 L133.251 97.5861 L133.251 103.466 L128.366 103.466 L128.366 97.5861 Z\" fill=\"#4c4c4c\" fill-rule=\"nonzero\" fill-opacity=\"1\" /><path clip-path=\"url(#clip650)\" d=\"M153.436 71.9844 Q149.825 71.9844 147.996 75.5492 Q146.19 79.0908 146.19 86.2204 Q146.19 93.3268 147.996 96.8916 Q149.825 100.433 153.436 100.433 Q157.07 100.433 158.876 96.8916 Q160.704 93.3268 160.704 86.2204 Q160.704 79.0908 158.876 75.5492 Q157.07 71.9844 153.436 71.9844 M153.436 68.2807 Q159.246 68.2807 162.301 72.8871 Q165.38 77.4704 165.38 86.2204 Q165.38 94.9472 162.301 99.5537 Q159.246 104.137 153.436 104.137 Q147.626 104.137 144.547 99.5537 Q141.491 94.9472 141.491 86.2204 Q141.491 77.4704 144.547 72.8871 Q147.626 68.2807 153.436 68.2807 Z\" fill=\"#4c4c4c\" fill-rule=\"nonzero\" fill-opacity=\"1\" /><path clip-path=\"url(#clip650)\" d=\"M183.598 71.9844 Q179.987 71.9844 178.158 75.5492 Q176.352 79.0908 176.352 86.2204 Q176.352 93.3268 178.158 96.8916 Q179.987 100.433 183.598 100.433 Q187.232 100.433 189.037 96.8916 Q190.866 93.3268 190.866 86.2204 Q190.866 79.0908 189.037 75.5492 Q187.232 71.9844 183.598 71.9844 M183.598 68.2807 Q189.408 68.2807 192.463 72.8871 Q195.542 77.4704 195.542 86.2204 Q195.542 94.9472 192.463 99.5537 Q189.408 104.137 183.598 104.137 Q177.787 104.137 174.709 99.5537 Q171.653 94.9472 171.653 86.2204 Q171.653 77.4704 174.709 72.8871 Q177.787 68.2807 183.598 68.2807 Z\" fill=\"#4c4c4c\" fill-rule=\"nonzero\" fill-opacity=\"1\" /><path clip-path=\"url(#clip650)\" d=\"M21.7677 920.008 L39.6235 920.008 L39.6235 911.924 Q39.6235 907.436 37.3 904.985 Q34.9765 902.535 30.6797 902.535 Q26.4147 902.535 24.0912 904.985 Q21.7677 907.436 21.7677 911.924 L21.7677 920.008 M16.4842 926.438 L16.4842 911.924 Q16.4842 903.935 20.1126 899.861 Q23.7092 895.755 30.6797 895.755 Q37.7138 895.755 41.3104 899.861 Q44.907 903.935 44.907 911.924 L44.907 920.008 L64.0042 920.008 L64.0042 926.438 L16.4842 926.438 Z\" fill=\"#000000\" fill-rule=\"nonzero\" fill-opacity=\"1\" /><path clip-path=\"url(#clip650)\" d=\"M33.8307 867.873 Q33.2578 868.86 33.0032 870.038 Q32.7167 871.183 32.7167 872.584 Q32.7167 877.549 35.9632 880.223 Q39.1779 882.865 45.2253 882.865 L64.0042 882.865 L64.0042 888.753 L28.3562 888.753 L28.3562 882.865 L33.8944 882.865 Q30.6479 881.018 29.0883 878.058 Q27.4968 875.098 27.4968 870.865 Q27.4968 870.26 27.5923 869.528 Q27.656 868.796 27.8151 867.905 L33.8307 867.873 Z\" fill=\"#000000\" fill-rule=\"nonzero\" fill-opacity=\"1\" /><path clip-path=\"url(#clip650)\" d=\"M32.4621 849.349 Q32.4621 854.06 36.1542 856.797 Q39.8145 859.534 46.212 859.534 Q52.6095 859.534 56.3017 856.829 Q59.9619 854.092 59.9619 849.349 Q59.9619 844.67 56.2698 841.933 Q52.5777 839.196 46.212 839.196 Q39.8781 839.196 36.186 841.933 Q32.4621 844.67 32.4621 849.349 M27.4968 849.349 Q27.4968 841.71 32.4621 837.35 Q37.4273 832.989 46.212 832.989 Q54.9649 832.989 59.9619 837.35 Q64.9272 841.71 64.9272 849.349 Q64.9272 857.02 59.9619 861.38 Q54.9649 865.709 46.212 865.709 Q37.4273 865.709 32.4621 861.38 Q27.4968 857.02 27.4968 849.349 Z\" fill=\"#000000\" fill-rule=\"nonzero\" fill-opacity=\"1\" /><path clip-path=\"url(#clip650)\" d=\"M46.212 797.691 Q39.7508 797.691 36.0905 800.365 Q32.3984 803.007 32.3984 807.654 Q32.3984 812.301 36.0905 814.974 Q39.7508 817.616 46.212 817.616 Q52.6732 817.616 56.3653 814.974 Q60.0256 812.301 60.0256 807.654 Q60.0256 803.007 56.3653 800.365 Q52.6732 797.691 46.212 797.691 M33.7671 817.616 Q30.5842 815.77 29.0564 812.969 Q27.4968 810.136 27.4968 806.221 Q27.4968 799.728 32.6531 795.686 Q37.8093 791.612 46.212 791.612 Q54.6147 791.612 59.771 795.686 Q64.9272 799.728 64.9272 806.221 Q64.9272 810.136 63.3994 812.969 Q61.8398 815.77 58.657 817.616 L64.0042 817.616 L64.0042 823.504 L14.479 823.504 L14.479 817.616 L33.7671 817.616 Z\" fill=\"#000000\" fill-rule=\"nonzero\" fill-opacity=\"1\" /><path clip-path=\"url(#clip650)\" d=\"M32.4621 747.37 Q32.4621 752.081 36.1542 754.818 Q39.8145 757.556 46.212 757.556 Q52.6095 757.556 56.3017 754.85 Q59.9619 752.113 59.9619 747.37 Q59.9619 742.692 56.2698 739.954 Q52.5777 737.217 46.212 737.217 Q39.8781 737.217 36.186 739.954 Q32.4621 742.692 32.4621 747.37 M27.4968 747.37 Q27.4968 739.732 32.4621 735.371 Q37.4273 731.011 46.212 731.011 Q54.9649 731.011 59.9619 735.371 Q64.9272 739.732 64.9272 747.37 Q64.9272 755.041 59.9619 759.402 Q54.9649 763.73 46.212 763.73 Q37.4273 763.73 32.4621 759.402 Q27.4968 755.041 27.4968 747.37 Z\" fill=\"#000000\" fill-rule=\"nonzero\" fill-opacity=\"1\" /><path clip-path=\"url(#clip650)\" d=\"M14.479 703.256 L19.3487 703.256 L19.3487 708.858 Q19.3487 712.009 20.6219 713.25 Q21.895 714.46 25.2052 714.46 L28.3562 714.46 L28.3562 704.816 L32.9077 704.816 L32.9077 714.46 L64.0042 714.46 L64.0042 720.348 L32.9077 720.348 L32.9077 725.95 L28.3562 725.95 L28.3562 720.348 L25.8736 720.348 Q19.9216 720.348 17.2162 717.579 Q14.479 714.81 14.479 708.794 L14.479 703.256 Z\" fill=\"#000000\" fill-rule=\"nonzero\" fill-opacity=\"1\" /><path clip-path=\"url(#clip650)\" d=\"M16.4842 677.38 L16.4842 670.95 L58.5933 670.95 L58.5933 647.811 L64.0042 647.811 L64.0042 677.38 L16.4842 677.38 Z\" fill=\"#000000\" fill-rule=\"nonzero\" fill-opacity=\"1\" /><path clip-path=\"url(#clip650)\" d=\"M32.4621 628.65 Q32.4621 633.361 36.1542 636.098 Q39.8145 638.835 46.212 638.835 Q52.6095 638.835 56.3017 636.13 Q59.9619 633.392 59.9619 628.65 Q59.9619 623.971 56.2698 621.234 Q52.5777 618.497 46.212 618.497 Q39.8781 618.497 36.186 621.234 Q32.4621 623.971 32.4621 628.65 M27.4968 628.65 Q27.4968 621.011 32.4621 616.651 Q37.4273 612.29 46.212 612.29 Q54.9649 612.29 59.9619 616.651 Q64.9272 621.011 64.9272 628.65 Q64.9272 636.321 59.9619 640.681 Q54.9649 645.01 46.212 645.01 Q37.4273 645.01 32.4621 640.681 Q27.4968 636.321 27.4968 628.65 Z\" fill=\"#000000\" fill-rule=\"nonzero\" fill-opacity=\"1\" /><path clip-path=\"url(#clip650)\" d=\"M29.4065 579.857 L34.9447 579.857 Q33.6716 582.34 33.035 585.013 Q32.3984 587.687 32.3984 590.551 Q32.3984 594.912 33.7352 597.108 Q35.072 599.272 37.7456 599.272 Q39.7826 599.272 40.9603 597.713 Q42.1061 596.153 43.1565 591.442 L43.6021 589.437 Q44.9389 583.199 47.3897 580.589 Q49.8086 577.947 54.1691 577.947 Q59.1344 577.947 62.0308 581.894 Q64.9272 585.809 64.9272 592.684 Q64.9272 595.548 64.3543 598.668 Q63.8132 601.755 62.6992 605.192 L56.6518 605.192 Q58.3387 601.946 59.198 598.795 Q60.0256 595.644 60.0256 592.556 Q60.0256 588.419 58.6251 586.191 Q57.1929 583.963 54.6147 583.963 Q52.2276 583.963 50.9545 585.586 Q49.6813 587.177 48.5037 592.62 L48.0262 594.657 Q46.8804 600.1 44.5251 602.519 Q42.138 604.938 38.0002 604.938 Q32.9713 604.938 30.2341 601.373 Q27.4968 597.808 27.4968 591.252 Q27.4968 588.005 27.9743 585.14 Q28.4517 582.276 29.4065 579.857 Z\" fill=\"#000000\" fill-rule=\"nonzero\" fill-opacity=\"1\" /><path clip-path=\"url(#clip650)\" d=\"M29.4065 545.896 L34.9447 545.896 Q33.6716 548.378 33.035 551.052 Q32.3984 553.726 32.3984 556.59 Q32.3984 560.951 33.7352 563.147 Q35.072 565.311 37.7456 565.311 Q39.7826 565.311 40.9603 563.752 Q42.1061 562.192 43.1565 557.481 L43.6021 555.476 Q44.9389 549.238 47.3897 546.628 Q49.8086 543.986 54.1691 543.986 Q59.1344 543.986 62.0308 547.933 Q64.9272 551.848 64.9272 558.723 Q64.9272 561.587 64.3543 564.707 Q63.8132 567.794 62.6992 571.231 L56.6518 571.231 Q58.3387 567.985 59.198 564.834 Q60.0256 561.683 60.0256 558.595 Q60.0256 554.458 58.6251 552.23 Q57.1929 550.002 54.6147 550.002 Q52.2276 550.002 50.9545 551.625 Q49.6813 553.216 48.5037 558.659 L48.0262 560.696 Q46.8804 566.139 44.5251 568.558 Q42.138 570.977 38.0002 570.977 Q32.9713 570.977 30.2341 567.412 Q27.4968 563.847 27.4968 557.29 Q27.4968 554.044 27.9743 551.179 Q28.4517 548.315 29.4065 545.896 Z\" fill=\"#000000\" fill-rule=\"nonzero\" fill-opacity=\"1\" /><circle clip-path=\"url(#clip652)\" cx=\"309.067\" cy=\"1384.24\" r=\"14.4\" fill=\"#000003\" fill-rule=\"evenodd\" fill-opacity=\"1\" stroke=\"none\"/>\n",
       "<circle clip-path=\"url(#clip652)\" cx=\"309.067\" cy=\"1384.24\" r=\"14.4\" fill=\"#08061f\" fill-rule=\"evenodd\" fill-opacity=\"1\" stroke=\"none\"/>\n",
       "<circle clip-path=\"url(#clip652)\" cx=\"309.067\" cy=\"1384.24\" r=\"14.4\" fill=\"#1b0c41\" fill-rule=\"evenodd\" fill-opacity=\"1\" stroke=\"none\"/>\n",
       "<circle clip-path=\"url(#clip652)\" cx=\"309.067\" cy=\"1384.24\" r=\"14.4\" fill=\"#33095e\" fill-rule=\"evenodd\" fill-opacity=\"1\" stroke=\"none\"/>\n",
       "<circle clip-path=\"url(#clip652)\" cx=\"309.067\" cy=\"1384.24\" r=\"14.4\" fill=\"#4b0b6b\" fill-rule=\"evenodd\" fill-opacity=\"1\" stroke=\"none\"/>\n",
       "<circle clip-path=\"url(#clip652)\" cx=\"309.067\" cy=\"1384.24\" r=\"14.4\" fill=\"#61136e\" fill-rule=\"evenodd\" fill-opacity=\"1\" stroke=\"none\"/>\n",
       "<circle clip-path=\"url(#clip652)\" cx=\"309.067\" cy=\"1384.24\" r=\"14.4\" fill=\"#781c6d\" fill-rule=\"evenodd\" fill-opacity=\"1\" stroke=\"none\"/>\n",
       "<circle clip-path=\"url(#clip652)\" cx=\"309.067\" cy=\"1384.24\" r=\"14.4\" fill=\"#8e2468\" fill-rule=\"evenodd\" fill-opacity=\"1\" stroke=\"none\"/>\n",
       "<circle clip-path=\"url(#clip652)\" cx=\"309.067\" cy=\"1384.24\" r=\"14.4\" fill=\"#a52c60\" fill-rule=\"evenodd\" fill-opacity=\"1\" stroke=\"none\"/>\n",
       "<circle clip-path=\"url(#clip652)\" cx=\"309.067\" cy=\"1384.24\" r=\"14.4\" fill=\"#ba3654\" fill-rule=\"evenodd\" fill-opacity=\"1\" stroke=\"none\"/>\n",
       "<circle clip-path=\"url(#clip652)\" cx=\"309.067\" cy=\"1384.24\" r=\"14.4\" fill=\"#ce4346\" fill-rule=\"evenodd\" fill-opacity=\"1\" stroke=\"none\"/>\n",
       "<circle clip-path=\"url(#clip652)\" cx=\"309.067\" cy=\"1384.24\" r=\"14.4\" fill=\"#df5436\" fill-rule=\"evenodd\" fill-opacity=\"1\" stroke=\"none\"/>\n",
       "<circle clip-path=\"url(#clip652)\" cx=\"309.067\" cy=\"1384.24\" r=\"14.4\" fill=\"#ed6825\" fill-rule=\"evenodd\" fill-opacity=\"1\" stroke=\"none\"/>\n",
       "<circle clip-path=\"url(#clip652)\" cx=\"309.067\" cy=\"1384.24\" r=\"14.4\" fill=\"#f68012\" fill-rule=\"evenodd\" fill-opacity=\"1\" stroke=\"none\"/>\n",
       "<circle clip-path=\"url(#clip652)\" cx=\"309.067\" cy=\"1384.24\" r=\"14.4\" fill=\"#fb9906\" fill-rule=\"evenodd\" fill-opacity=\"1\" stroke=\"none\"/>\n",
       "<circle clip-path=\"url(#clip652)\" cx=\"309.067\" cy=\"1384.24\" r=\"14.4\" fill=\"#fbb419\" fill-rule=\"evenodd\" fill-opacity=\"1\" stroke=\"none\"/>\n",
       "<circle clip-path=\"url(#clip652)\" cx=\"309.067\" cy=\"1384.24\" r=\"14.4\" fill=\"#f7d03b\" fill-rule=\"evenodd\" fill-opacity=\"1\" stroke=\"none\"/>\n",
       "<circle clip-path=\"url(#clip652)\" cx=\"309.067\" cy=\"1384.24\" r=\"14.4\" fill=\"#f1eb6c\" fill-rule=\"evenodd\" fill-opacity=\"1\" stroke=\"none\"/>\n",
       "<circle clip-path=\"url(#clip652)\" cx=\"309.067\" cy=\"1384.24\" r=\"14.4\" fill=\"#fcfea4\" fill-rule=\"evenodd\" fill-opacity=\"1\" stroke=\"none\"/>\n",
       "</svg>\n"
      ]
     },
     "metadata": {},
     "output_type": "display_data"
    }
   ],
   "source": [
    "c = collect(1.0:1:length(Ns))\n",
    "\n",
    "theme(:ggplot2)\n",
    "scatter(objective_vals, loss_probs, zcolor=c, marker=:circle, xlabel=\"Objective Function Value\", ylabel=\"Prob of Loss\", zlabel=\"N\", legend=false)\n",
    "# xlims!(-.1,.1)  # Set the X-axis limits from 0 to 6\n",
    "# ylims!(.45, .5) "
   ]
  },
  {
   "cell_type": "markdown",
   "metadata": {},
   "source": [
    "## Model 2/7\n",
    "SAA with\n",
    "- LogNormal\n",
    "- γ = 0\n",
    "- $\\alpha$ = .1\n",
    "- $\\beta$ = .01\n",
    "- N = [30, 40, 50, ..., 200] + 183      (Sample Sizes)"
   ]
  },
  {
   "cell_type": "markdown",
   "metadata": {},
   "source": []
  }
 ],
 "metadata": {
  "kernelspec": {
   "display_name": "Julia 1.9.3",
   "language": "julia",
   "name": "julia-1.9"
  },
  "language_info": {
   "file_extension": ".jl",
   "mimetype": "application/julia",
   "name": "julia",
   "version": "1.9.3"
  }
 },
 "nbformat": 4,
 "nbformat_minor": 2
}
