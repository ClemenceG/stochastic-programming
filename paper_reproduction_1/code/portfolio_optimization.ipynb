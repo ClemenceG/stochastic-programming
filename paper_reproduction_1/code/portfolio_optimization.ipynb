{
 "cells": [
  {
   "cell_type": "markdown",
   "metadata": {},
   "source": [
    "# Chance-constrained programming: portfolio optimization example"
   ]
  },
  {
   "cell_type": "code",
   "execution_count": 18,
   "metadata": {},
   "outputs": [
    {
     "name": "stderr",
     "output_type": "stream",
     "text": [
      "\u001b[32m\u001b[1m   Resolving\u001b[22m\u001b[39m package versions...\n"
     ]
    },
    {
     "name": "stderr",
     "output_type": "stream",
     "text": [
      "\u001b[32m\u001b[1m    Updating\u001b[22m\u001b[39m `~/.julia/environments/v1.9/Project.toml`\n",
      "\u001b[32m⌃\u001b[39m \u001b[90m[2e9cd046] \u001b[39m\u001b[92m+ Gurobi v0.11.3\u001b[39m\n",
      "\u001b[32m\u001b[1m    Updating\u001b[22m\u001b[39m `~/.julia/environments/v1.9/Manifest.toml`\n",
      "\u001b[32m⌃\u001b[39m"
     ]
    },
    {
     "name": "stderr",
     "output_type": "stream",
     "text": [
      " \u001b[90m[2e9cd046] \u001b[39m\u001b[92m+ Gurobi v0.11.3\u001b[39m\n",
      "\u001b[36m\u001b[1m        Info\u001b[22m\u001b[39m Packages marked with \u001b[32m⌃\u001b[39m have new versions available and may be upgradable.\n"
     ]
    },
    {
     "name": "stderr",
     "output_type": "stream",
     "text": [
      "\u001b[32m\u001b[1m    Building\u001b[22m\u001b[39m Gurobi → `~/.julia/scratchspaces/44cfe95a-1eb2-52ea-b672-e2afdf69b78f/87c018cbd2fd33e6d2462d486abee53a27c91c91/build.log`\n"
     ]
    }
   ],
   "source": [
    "# ENV[\"GUROBI_HOME\"] = \"/Library/gurobi952/macos_universal2/\"\n",
    "# # import Pkg\n",
    "# Pkg.add(\"Gurobi\")\n",
    "# Pkg.build(\"Gurobi\")\n",
    "# Pkg.add(\"Dates\")\n",
    "# Pkg.add(\"CSV\")\n",
    "# Pkg.add(\"DataFrames\")"
   ]
  },
  {
   "cell_type": "code",
   "execution_count": 32,
   "metadata": {},
   "outputs": [],
   "source": [
    "using LinearAlgebra\n",
    "using JuMP\n",
    "using HiGHS, Gurobi\n",
    "using Distributions\n",
    "using Random\n",
    "using CSV, DataFramesMeta\n",
    "using Dates\n",
    "using Statistics"
   ]
  },
  {
   "cell_type": "markdown",
   "metadata": {},
   "source": [
    "## HW2"
   ]
  },
  {
   "cell_type": "markdown",
   "metadata": {},
   "source": [
    "Sample Average Approximation Method for Chance Constrained Programming : Theory and Applications”, 2009, Section 3, en s ́electionnant 10 actifs depuis la base de donn ́ees disponible sur Kaggle `a l’adresse https: //www.kaggle.com/datasets/jacksoncrow/stock-market-dataset."
   ]
  },
  {
   "cell_type": "markdown",
   "metadata": {},
   "source": [
    "Note : vous pouvez partir de https://www.kaggle.com/code/artemburenok/ stock-analysis-monte-carlo-build-portfolio pour analyser les donn ́ees."
   ]
  },
  {
   "cell_type": "markdown",
   "metadata": {},
   "source": [
    "Adapted from Stephen Boyd and Lieven Vandenberghe, \"Convex Optimization\", Cambridge University Press, 2004, Section 4.7.6, p. 187."
   ]
  },
  {
   "cell_type": "markdown",
   "metadata": {},
   "source": [
    "We consider an investiment portfolio with $n$ assets and random returns, except the last one. We assume that the $n-1$ first returns follow a multivariate distribution with known mean and covariance matrix. The last asset is a risk-free investment product, with a fixed return.\n",
    "\n",
    "The assets characteristics are detailed below."
   ]
  },
  {
   "cell_type": "code",
   "execution_count": 13,
   "metadata": {},
   "outputs": [
    {
     "data": {
      "text/plain": [
       "Dict{Any, Any}()"
      ]
     },
     "metadata": {},
     "output_type": "display_data"
    }
   ],
   "source": [
    "company_list = [\"MMM\", \"AMZN\", \"CAT\", \"AI\", \"AIR\", \"AM\", \"TWTR\", \"RIO\", \"MSFT\", \"BP\"]\n"
   ]
  },
  {
   "cell_type": "code",
   "execution_count": 15,
   "metadata": {},
   "outputs": [],
   "source": [
    "dir_path = \"../data/stocks/\"\n",
    "companies = Dict{String, DataFrame}()\n",
    "for company in company_list\n",
    "    fn = dir_path * company * \".csv\"\n",
    "    companies[company] = CSV.read(fn, DataFrame, select=[\"Date\", \"Adj Close\"])\n",
    "end"
   ]
  },
  {
   "cell_type": "code",
   "execution_count": 19,
   "metadata": {},
   "outputs": [],
   "source": [
    "# If Initialize to same start and end date  \n",
    "first_end, last_start = DateTime(2023, 11, 14), DateTime(1900, 11, 14)\n",
    "for (company, df) in companies\n",
    "\n",
    "    start_date = minimum(df.Date)\n",
    "    end_date = maximum(df.Date)\n",
    "\n",
    "    println(\"$(company): $(start_date) to $(end_date)\")\n",
    "    if start_date > last_start\n",
    "        last_start = start_date\n",
    "        println(\"last_start: $(start_date)\")\n",
    "    end\n",
    "    if end_date < first_end\n",
    "        first_end = end_date\n",
    "        println(\"first_end: $(end_date)\")\n",
    "    end\n",
    "end\n",
    "\n",
    "for (company, df) in companies\n",
    "    df = df[df.Date .>= last_start, :]\n",
    "    df = df[df.Date .<= first_end, :]\n",
    "    companies[company] = df\n",
    "end"
   ]
  },
  {
   "cell_type": "code",
   "execution_count": 20,
   "metadata": {},
   "outputs": [],
   "source": [
    "# Calculate returns\n",
    "for (company, df) in companies\n",
    "    df[!, :Return] = [0.0; diff(df[!, :\"Adj Close\"]) ./ df[1:end-1, :\"Adj Close\"]]\n",
    "    companies[company] = df\n",
    "end"
   ]
  },
  {
   "cell_type": "code",
   "execution_count": 34,
   "metadata": {},
   "outputs": [],
   "source": [
    "# Calculate mean and covariance\n",
    "mean_return = zeros(length(company_list))\n",
    "covariance = zeros(length(company_list), length(company_list))\n",
    "\n",
    "df = companies[\"MMM\"]\n",
    "println(\"mean: $(mean(df[!, :Return]))\")"
   ]
  },
  {
   "cell_type": "code",
   "execution_count": 35,
   "metadata": {},
   "outputs": [],
   "source": [
    "println(\"hello\")"
   ]
  },
  {
   "cell_type": "code",
   "execution_count": 33,
   "metadata": {},
   "outputs": [],
   "source": [
    "# Calculate mean and covariance\n",
    "mean_return = zeros(length(company_list))\n",
    "covariance = zeros(length(company_list), length(company_list))\n",
    "# for (company, df) in companies\n",
    "\n",
    "#     # println(\"company $(mean(companies[company][!, :Return]))\")\n",
    "#     println(\"coompany\")\n",
    "#     # mean_return[i] = mean(companies[company][!, :Return])\n",
    "#     # for (j, company2) in enumerate(company_list)\n",
    "#     #     covariance[i, j] = cov(companies[company][!, :Return], companies[company2][!, :Return])\n",
    "#     # end\n",
    "# end\n",
    "df = companies[\"MMM\"]\n",
    "println(\"mean: $(mean(df[!, :Return]))\")"
   ]
  },
  {
   "cell_type": "code",
   "execution_count": 26,
   "metadata": {},
   "outputs": [
    {
     "data": {
      "text/plain": [
       "FullNormal(\n",
       "dim: 3\n",
       "μ: [0.12, 0.1, 0.07]\n",
       "Σ: [0.04 0.006 -0.004; 0.006 0.01 0.0; -0.004 0.0 0.0025]\n",
       ")\n"
      ]
     },
     "metadata": {},
     "output_type": "display_data"
    }
   ],
   "source": [
    "n = 4  # the last asset is a risk-free asset, with a null variance.\n",
    "μ = [.12 ; .10 ; .07 ; .03]\n",
    "Σ = [ 4e-2  6e-3 -4e-3  ;\n",
    "      6e-3  1e-2  0.0  ;\n",
    "      -4e-3  0.0 2.5e-3 ]\n",
    "\n",
    "# We create une multivariate normal of mean μ and covariance matrix Σ\n",
    "d = MvNormal(μ[1:n-1], Σ)"
   ]
  },
  {
   "cell_type": "code",
   "execution_count": 28,
   "metadata": {},
   "outputs": [
    {
     "data": {
      "text/plain": [
       "expectedshortfall (generic function with 2 methods)"
      ]
     },
     "metadata": {},
     "output_type": "display_data"
    }
   ],
   "source": [
    "# Estimate the probability to have a negative return and the resulting expected shortfall.\n",
    "function expectedshortfall(p:: Vector, d:: Distribution, M:: Int = 1000000)\n",
    "    \n",
    "    loss = 0\n",
    "    vloss = 0\n",
    "    for i = 1:M\n",
    "        ξ = [rand(d); μ[n]]\n",
    "        ret = dot(p, ξ)\n",
    "        if ret < 0\n",
    "            loss += 1\n",
    "            vloss += ret\n",
    "        end\n",
    "    end\n",
    "\n",
    "    return loss/M, vloss/loss\n",
    "    \n",
    "end"
   ]
  },
  {
   "cell_type": "markdown",
   "metadata": {},
   "source": [
    "## Portfolio with uniform repartition"
   ]
  },
  {
   "cell_type": "markdown",
   "metadata": {},
   "source": [
    "We first consider the naive strategy where the same amount is invested in each asset."
   ]
  },
  {
   "cell_type": "code",
   "execution_count": 35,
   "metadata": {},
   "outputs": [
    {
     "data": {
      "text/plain": [
       "0.08000000000000002"
      ]
     },
     "metadata": {},
     "output_type": "display_data"
    }
   ],
   "source": [
    "# Expected return with a uniform repartition.\n",
    "p = ones(n)./n\n",
    "er = sum(p[i]*μ[i] for i = 1:n)"
   ]
  },
  {
   "cell_type": "markdown",
   "metadata": {},
   "source": [
    "We now compute the loss probability and the average loss when a loss occurs."
   ]
  },
  {
   "cell_type": "code",
   "execution_count": 36,
   "metadata": {},
   "outputs": [
    {
     "data": {
      "text/plain": [
       "(0.089571, -0.027525206361675204)"
      ]
     },
     "metadata": {},
     "output_type": "display_data"
    }
   ],
   "source": [
    "expectedshortfall(p, d)"
   ]
  },
  {
   "cell_type": "markdown",
   "metadata": {},
   "source": [
    "## Optimal decision without loss constraint"
   ]
  },
  {
   "cell_type": "markdown",
   "metadata": {},
   "source": [
    "We now aim to maximize the expected return, without any consideration for the potential loss."
   ]
  },
  {
   "cell_type": "code",
   "execution_count": 37,
   "metadata": {},
   "outputs": [
    {
     "name": "stdout",
     "output_type": "stream",
     "text": [
      "Max 0.12 p[1] + 0.1 p[2] + 0.07 p[3] + 0.03 p[4]\n",
      "Subject to\n",
      " p[1] + p[2] + p[3] + p[4] ≤ 1.0\n",
      " p[1] ≥ -0.1\n",
      " p[2] ≥ -0.1\n",
      " p[3] ≥ -0.1\n",
      " p[4] ≥ -0.1\n",
      "\n"
     ]
    }
   ],
   "source": [
    "m = Model(HiGHS.Optimizer)\n",
    "\n",
    "@variable(m, p[1:n] >= -0.1)\n",
    "@constraint(m, sum(p[i] for i = 1:n) <= 1)\n",
    "\n",
    "@objective(m, Max, sum(p[i]*μ[i] for i = 1:n))\n",
    "\n",
    "println(m)"
   ]
  },
  {
   "cell_type": "code",
   "execution_count": 43,
   "metadata": {},
   "outputs": [
    {
     "name": "stdout",
     "output_type": "stream",
     "text": [
      "Gurobi Optimizer version 9.5.2 build v9.5.2rc0 (mac64[x86])\n",
      "Thread count: 2 physical cores, 4 logical processors, using up to 4 threads\n",
      "Optimize a model with 1 rows, 4 columns and 4 nonzeros\n",
      "Model fingerprint: 0xcc387da0\n",
      "Coefficient statistics:\n",
      "  Matrix range     [1e+00, 1e+00]\n",
      "  Objective range  [3e-02, 1e-01]\n",
      "  Bounds range     [1e-01, 1e-01]\n",
      "  RHS range        [1e+00, 1e+00]\n",
      "Presolve removed 1 rows and 4 columns\n",
      "Presolve time: 0.02s\n",
      "Presolve: All rows and columns removed\n",
      "Iteration    Objective       Primal Inf.    Dual Inf.      Time\n",
      "       0    1.3600000e-01   0.000000e+00   0.000000e+00      0s\n",
      "\n",
      "Solved in 0 iterations and 0.03 seconds (0.00 work units)\n",
      "Optimal objective  1.360000000e-01\n",
      "\n",
      "User-callback calls 34, time in user-callback 0.02 sec\n"
     ]
    }
   ],
   "source": [
    "optimize!(m)"
   ]
  },
  {
   "cell_type": "code",
   "execution_count": 44,
   "metadata": {},
   "outputs": [
    {
     "data": {
      "text/plain": [
       "4-element Vector{Float64}:\n",
       "  1.3000000000000003\n",
       " -0.1\n",
       " -0.1\n",
       " -0.1"
      ]
     },
     "metadata": {},
     "output_type": "display_data"
    }
   ],
   "source": [
    "value.(p)"
   ]
  },
  {
   "cell_type": "markdown",
   "metadata": {},
   "source": [
    "Not surprisingly, we invest everything is the asset having the highest return rate, even borrowing from the lower return rate asset."
   ]
  },
  {
   "cell_type": "code",
   "execution_count": 32,
   "metadata": {},
   "outputs": [
    {
     "data": {
      "text/plain": [
       "0.13599999999999998"
      ]
     },
     "metadata": {},
     "output_type": "display_data"
    }
   ],
   "source": [
    "objective_value(m)"
   ]
  },
  {
   "cell_type": "markdown",
   "metadata": {},
   "source": [
    "The loss probability is however close to 30%, and the average lost amount is significantly more important if a loss occurs."
   ]
  },
  {
   "cell_type": "code",
   "execution_count": 45,
   "metadata": {},
   "outputs": [
    {
     "data": {
      "text/plain": [
       "(0.300211, -0.16420566406226844)"
      ]
     },
     "metadata": {},
     "output_type": "display_data"
    }
   ],
   "source": [
    "expectedshortfall(value.(p), d)"
   ]
  },
  {
   "cell_type": "markdown",
   "metadata": {},
   "source": [
    "## Optimal decision with loss constraint"
   ]
  },
  {
   "cell_type": "markdown",
   "metadata": {},
   "source": [
    "We add the constraint that we want to limit the risk by accepting a loss with a maximum probability of 0.05."
   ]
  },
  {
   "cell_type": "code",
   "execution_count": 46,
   "metadata": {},
   "outputs": [
    {
     "data": {
      "text/plain": [
       "0.6079568319117693"
      ]
     },
     "metadata": {},
     "output_type": "display_data"
    }
   ],
   "source": [
    "maxloss = 0\n",
    "\n",
    "α = 0.95\n",
    "z = 1/quantile(Normal(0,1), α)"
   ]
  },
  {
   "cell_type": "markdown",
   "metadata": {},
   "source": [
    "We build the second-order cone constraint corresponding to the joint chance constraint."
   ]
  },
  {
   "cell_type": "code",
   "execution_count": 34,
   "metadata": {},
   "outputs": [
    {
     "data": {
      "text/plain": [
       "3×3 Symmetric{Float64, Matrix{Float64}}:\n",
       "  0.198273   0.0203895   -0.0164913\n",
       "  0.0203895  0.0978718    0.00231869\n",
       " -0.0164913  0.00231869   0.0471451"
      ]
     },
     "metadata": {},
     "output_type": "display_data"
    }
   ],
   "source": [
    "A = Σ^0.5"
   ]
  },
  {
   "cell_type": "code",
   "execution_count": 41,
   "metadata": {},
   "outputs": [
    {
     "data": {
      "text/plain": [
       "3×3 Matrix{Float64}:\n",
       " -6.93889e-18   5.20417e-18   1.73472e-18\n",
       "  5.20417e-18  -1.73472e-18  -1.22964e-18\n",
       "  1.73472e-18  -1.22964e-18   0.0"
      ]
     },
     "metadata": {},
     "output_type": "display_data"
    }
   ],
   "source": [
    "A*A-Σ"
   ]
  },
  {
   "cell_type": "markdown",
   "metadata": {},
   "source": [
    "Unfortunately, HiGHS does not support second-order cone constraint. We switch to Gurobi."
   ]
  },
  {
   "cell_type": "code",
   "execution_count": 47,
   "metadata": {},
   "outputs": [
    {
     "name": "stdout",
     "output_type": "stream",
     "text": [
      "Set parameter Username\n",
      "Academic license - for non-commercial use only - expires 2024-11-13\n"
     ]
    }
   ],
   "source": [
    "set_optimizer(m, Gurobi.Optimizer)"
   ]
  },
  {
   "cell_type": "code",
   "execution_count": 48,
   "metadata": {
    "scrolled": false
   },
   "outputs": [
    {
     "name": "stdout",
     "output_type": "stream",
     "text": [
      "Max 0.12 p[1] + 0.1 p[2] + 0.07 p[3] + 0.03 p[4]\n",
      "Subject to\n",
      " "
     ]
    },
    {
     "name": "stdout",
     "output_type": "stream",
     "text": [
      "p[1] + p[2] + p[3] + p[4] ≤ 1.0\n",
      " [0.0729548198294123 p[1] + 0.06079568319117693 p[2] + 0.04255697823382386 p[3] + 0.018238704957353077 p[4], 0.19827331129330036 p[1] + 0.02038945638178348 p[2] - 0.016491334004420634 p[3], 0.02038945638178348 p[1] + 0.09787182302877327 p[2] + 0.002318690466585327 p[3], -0.016491334004420634 p[1] + 0.002318690466585327 p[2] + 0.04714509070173485 p[3]] ∈ MathOptInterface.SecondOrderCone(4)\n",
      " p[1] ≥ -0.1\n",
      " p[2] ≥ -0.1\n",
      " p[3] ≥ -0.1\n",
      " p[4] ≥ -0.1\n",
      "\n"
     ]
    }
   ],
   "source": [
    "# || x || <= t, t >= 0\n",
    "# https://jump.dev/JuMP.jl/stable/reference/constraints/#JuMP.SecondOrderCone\n",
    "@constraint(m, [z*(-maxloss+sum(μ[i]*p[i] for i = 1:n)); (Σ^0.5)*p[1:n-1]] in SecondOrderCone())\n",
    "\n",
    "println(m)"
   ]
  },
  {
   "cell_type": "code",
   "execution_count": 49,
   "metadata": {},
   "outputs": [
    {
     "name": "stdout",
     "output_type": "stream",
     "text": [
      "Gurobi Optimizer version 9.5.2 build v9.5.2rc0 (mac64[x86])\n",
      "Thread count: 2 physical cores, 4 logical processors, using up to 4 threads\n",
      "Optimize a model with 5 rows, 8 columns and 21 nonzeros\n",
      "Model fingerprint: 0x9ff28c3e\n",
      "Model has 1 quadratic constraint\n",
      "Coefficient statistics:\n",
      "  Matrix range     [2e-03, 1e+00]\n",
      "  QMatrix range    [1e+00, 1e+00]\n",
      "  Objective range  [3e-02, 1e-01]\n",
      "  Bounds range     [1e-01, 1e-01]\n",
      "  RHS range        [1e+00, 1e+00]\n",
      "Presolve time: 0.01s\n",
      "Presolved: 5 rows, 8 columns, 21 nonzeros\n",
      "Presolved model has 1 second-order cone constraint\n",
      "Ordering time: 0.00s\n",
      "\n",
      "Barrier statistics:\n",
      " AA' NZ     : 1.000e+01\n",
      " Factor NZ  : 1.500e+01\n",
      " Factor Ops : 5.500e+01 (less than 1 second per iteration)\n",
      " Threads    : 1\n",
      "\n",
      "                  Objective                Residual\n",
      "Iter       Primal          Dual         Primal    Dual     Compl     Time\n",
      "   0   1.11301574e-01  5.68875345e-02  3.97e-01 1.28e-01  3.28e-02     0s\n",
      "   1   9.26826200e-02  1.04042953e-01  2.41e-02 1.64e-02  6.54e-03     0s\n",
      "   2   8.61269486e-02  1.05728200e-01  7.86e-03 2.73e-03  3.55e-03     0s\n",
      "   3   8.95167321e-02  9.47976058e-02  8.64e-09 3.01e-09  5.87e-04     0s\n",
      "   4   9.32920270e-02  9.33343515e-02  1.52e-11 2.09e-11  4.70e-06     0s\n",
      "   5   9.33013543e-02  9.33015511e-02  3.89e-14 1.11e-13  2.19e-08     0s\n",
      "\n",
      "Barrier solved model in 5 iterations and 0.02 seconds (0.00 work units)\n",
      "Optimal objective 9.33013543e-02\n",
      "\n",
      "\n",
      "User-callback calls 61, time in user-callback 0.00 sec\n"
     ]
    }
   ],
   "source": [
    "optimize!(m)"
   ]
  },
  {
   "cell_type": "code",
   "execution_count": null,
   "metadata": {},
   "outputs": [],
   "source": [
    "sol = value.(p)"
   ]
  },
  {
   "cell_type": "code",
   "execution_count": null,
   "metadata": {},
   "outputs": [],
   "source": [
    "sol = value.(p)"
   ]
  },
  {
   "cell_type": "code",
   "execution_count": null,
   "metadata": {},
   "outputs": [],
   "source": [
    "objective_value(m)"
   ]
  },
  {
   "cell_type": "markdown",
   "metadata": {},
   "source": [
    "Without any surprise, the expected return is less than without the loss constraint, but is still higher than with the uniform repartition. We can also see that we use the risk-free asset as a borrowing tool. The risk to lose money is limited to 5%, as desired, and is less than any other strategy. Interestingly, the average loss is also the smallest one."
   ]
  },
  {
   "cell_type": "code",
   "execution_count": null,
   "metadata": {},
   "outputs": [],
   "source": [
    "expectedshortfall(value.(p), d)"
   ]
  },
  {
   "cell_type": "code",
   "execution_count": null,
   "metadata": {},
   "outputs": [],
   "source": []
  }
 ],
 "metadata": {
  "kernelspec": {
   "display_name": "Julia 1.9.3",
   "language": "julia",
   "name": "julia-1.9"
  },
  "language_info": {
   "file_extension": ".jl",
   "mimetype": "application/julia",
   "name": "julia",
   "version": "1.9.3"
  }
 },
 "nbformat": 4,
 "nbformat_minor": 2
}
