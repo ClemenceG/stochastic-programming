{
 "cells": [
  {
   "cell_type": "markdown",
   "metadata": {},
   "source": [
    "# Chance-constrained programming: portfolio optimization example"
   ]
  },
  {
   "cell_type": "code",
   "execution_count": null,
   "metadata": {},
   "outputs": [],
   "source": [
    "using LinearAlgebra\n",
    "using JuMP\n",
    "using HiGHS, Gurobi\n",
    "using Distributions\n",
    "using Random"
   ]
  },
  {
   "cell_type": "markdown",
   "metadata": {},
   "source": [
    "## HW2"
   ]
  },
  {
   "cell_type": "markdown",
   "metadata": {},
   "source": [
    "Sample Average Approximation Method for Chance Constrained Programming : Theory and Applications”, 2009, Section 3, en s ́electionnant 10 actifs depuis la base de donn ́ees disponible sur Kaggle `a l’adresse https: //www.kaggle.com/datasets/jacksoncrow/stock-market-dataset."
   ]
  },
  {
   "cell_type": "markdown",
   "metadata": {},
   "source": [
    "Note : vous pouvez partir de https://www.kaggle.com/code/artemburenok/ stock-analysis-monte-carlo-build-portfolio pour analyser les donn ́ees."
   ]
  },
  {
   "cell_type": "markdown",
   "metadata": {},
   "source": [
    "Adapted from Stephen Boyd and Lieven Vandenberghe, \"Convex Optimization\", Cambridge University Press, 2004, Section 4.7.6, p. 187."
   ]
  },
  {
   "cell_type": "markdown",
   "metadata": {},
   "source": [
    "We consider an investiment portfolio with $n$ assets and random returns, except the last one. We assume that the $n-1$ first returns follow a multivariate distribution with known mean and covariance matrix. The last asset is a risk-free investment product, with a fixed return.\n",
    "\n",
    "The assets characteristics are detailed below."
   ]
  },
  {
   "cell_type": "code",
   "execution_count": null,
   "metadata": {},
   "outputs": [],
   "source": [
    "n = 4  # the last asset is a risk-free asset, with a null variance.\n",
    "μ = [.12 ; .10 ; .07 ; .03]\n",
    "Σ = [ 4e-2  6e-3 -4e-3  ;\n",
    "      6e-3  1e-2  0.0  ;\n",
    "      -4e-3  0.0 2.5e-3 ]\n",
    "\n",
    "# We create une multivariate normal of mean μ and covariance matrix Σ\n",
    "d = MvNormal(μ[1:n-1], Σ)"
   ]
  },
  {
   "cell_type": "code",
   "execution_count": null,
   "metadata": {},
   "outputs": [],
   "source": [
    "# Estimate the probability to have a negative return and the resulting expected shortfall.\n",
    "function expectedshortfall(p:: Vector, d:: Distribution, M:: Int = 1000000)\n",
    "    \n",
    "    loss = 0\n",
    "    vloss = 0\n",
    "    for i = 1:M\n",
    "        ξ = [rand(d); μ[n]]\n",
    "        ret = dot(p, ξ)\n",
    "        if ret < 0\n",
    "            loss += 1\n",
    "            vloss += ret\n",
    "        end\n",
    "    end\n",
    "\n",
    "    return loss/M, vloss/loss\n",
    "    \n",
    "end"
   ]
  },
  {
   "cell_type": "markdown",
   "metadata": {},
   "source": [
    "## Portfolio with uniform repartition"
   ]
  },
  {
   "cell_type": "markdown",
   "metadata": {},
   "source": [
    "We first consider the naive strategy where the same amount is invested in each asset."
   ]
  },
  {
   "cell_type": "code",
   "execution_count": null,
   "metadata": {},
   "outputs": [],
   "source": [
    "# Expected return with a uniform repartition.\n",
    "p = ones(n)./n\n",
    "er = sum(p[i]*μ[i] for i = 1:n)"
   ]
  },
  {
   "cell_type": "markdown",
   "metadata": {},
   "source": [
    "We now compute the loss probability and the average loss when a loss occurs."
   ]
  },
  {
   "cell_type": "code",
   "execution_count": null,
   "metadata": {},
   "outputs": [],
   "source": [
    "expectedshortfall(p, d)"
   ]
  },
  {
   "cell_type": "markdown",
   "metadata": {},
   "source": [
    "## Optimal decision without loss constraint"
   ]
  },
  {
   "cell_type": "markdown",
   "metadata": {},
   "source": [
    "We now aim to maximize the expected return, without any consideration for the potential loss."
   ]
  },
  {
   "cell_type": "code",
   "execution_count": null,
   "metadata": {},
   "outputs": [],
   "source": [
    "m = Model(HiGHS.Optimizer)\n",
    "\n",
    "@variable(m, p[1:n] >= -0.1)\n",
    "@constraint(m, sum(p[i] for i = 1:n) <= 1)\n",
    "\n",
    "@objective(m, Max, sum(p[i]*μ[i] for i = 1:n))\n",
    "\n",
    "println(m)"
   ]
  },
  {
   "cell_type": "code",
   "execution_count": null,
   "metadata": {},
   "outputs": [],
   "source": [
    "optimize!(m)"
   ]
  },
  {
   "cell_type": "code",
   "execution_count": null,
   "metadata": {},
   "outputs": [],
   "source": [
    "value.(p)"
   ]
  },
  {
   "cell_type": "markdown",
   "metadata": {},
   "source": [
    "Not surprisingly, we invest everything is the asset having the highest return rate, even borrowing from the lower return rate asset."
   ]
  },
  {
   "cell_type": "code",
   "execution_count": null,
   "metadata": {},
   "outputs": [],
   "source": [
    "objective_value(m)"
   ]
  },
  {
   "cell_type": "markdown",
   "metadata": {},
   "source": [
    "The loss probability is however close to 30%, and the average lost amount is significantly more important if a loss occurs."
   ]
  },
  {
   "cell_type": "code",
   "execution_count": null,
   "metadata": {},
   "outputs": [],
   "source": [
    "expectedshortfall(value.(p), d)"
   ]
  },
  {
   "cell_type": "markdown",
   "metadata": {},
   "source": [
    "## Optimal decision with loss constraint"
   ]
  },
  {
   "cell_type": "markdown",
   "metadata": {},
   "source": [
    "We add the constraint that we want to limit the risk by accepting a loss with a maximum probability of 0.05."
   ]
  },
  {
   "cell_type": "code",
   "execution_count": null,
   "metadata": {},
   "outputs": [],
   "source": [
    "maxloss = 0\n",
    "\n",
    "α = 0.95\n",
    "z = 1/quantile(Normal(0,1), α)"
   ]
  },
  {
   "cell_type": "markdown",
   "metadata": {},
   "source": [
    "We build the second-order cone constraint corresponding to the joint chance constraint."
   ]
  },
  {
   "cell_type": "code",
   "execution_count": null,
   "metadata": {},
   "outputs": [],
   "source": [
    "A = Σ^0.5"
   ]
  },
  {
   "cell_type": "code",
   "execution_count": null,
   "metadata": {},
   "outputs": [],
   "source": [
    "A*A-Σ"
   ]
  },
  {
   "cell_type": "markdown",
   "metadata": {},
   "source": [
    "Unfortunately, HiGHS does not support second-order cone constraint. We switch to Gurobi."
   ]
  },
  {
   "cell_type": "code",
   "execution_count": null,
   "metadata": {},
   "outputs": [],
   "source": [
    "set_optimizer(m, Gurobi.Optimizer)"
   ]
  },
  {
   "cell_type": "code",
   "execution_count": null,
   "metadata": {
    "scrolled": false
   },
   "outputs": [],
   "source": [
    "# || x || <= t, t >= 0\n",
    "# https://jump.dev/JuMP.jl/stable/reference/constraints/#JuMP.SecondOrderCone\n",
    "@constraint(m, [z*(-maxloss+sum(μ[i]*p[i] for i = 1:n)); (Σ^0.5)*p[1:n-1]] in SecondOrderCone())\n",
    "\n",
    "println(m)"
   ]
  },
  {
   "cell_type": "code",
   "execution_count": null,
   "metadata": {},
   "outputs": [],
   "source": [
    "optimize!(m)"
   ]
  },
  {
   "cell_type": "code",
   "execution_count": null,
   "metadata": {},
   "outputs": [],
   "source": [
    "sol = value.(p)"
   ]
  },
  {
   "cell_type": "code",
   "execution_count": null,
   "metadata": {},
   "outputs": [],
   "source": [
    "sol = value.(p)"
   ]
  },
  {
   "cell_type": "code",
   "execution_count": null,
   "metadata": {},
   "outputs": [],
   "source": [
    "objective_value(m)"
   ]
  },
  {
   "cell_type": "markdown",
   "metadata": {},
   "source": [
    "Without any surprise, the expected return is less than without the loss constraint, but is still higher than with the uniform repartition. We can also see that we use the risk-free asset as a borrowing tool. The risk to lose money is limited to 5%, as desired, and is less than any other strategy. Interestingly, the average loss is also the smallest one."
   ]
  },
  {
   "cell_type": "code",
   "execution_count": null,
   "metadata": {},
   "outputs": [],
   "source": [
    "expectedshortfall(value.(p), d)"
   ]
  },
  {
   "cell_type": "code",
   "execution_count": null,
   "metadata": {},
   "outputs": [],
   "source": []
  }
 ],
 "metadata": {
  "kernelspec": {
   "display_name": "Julia 1.8.0",
   "language": "julia",
   "name": "julia-1.8"
  },
  "language_info": {
   "file_extension": ".jl",
   "mimetype": "application/julia",
   "name": "julia",
   "version": "1.8.0"
  }
 },
 "nbformat": 4,
 "nbformat_minor": 2
}
